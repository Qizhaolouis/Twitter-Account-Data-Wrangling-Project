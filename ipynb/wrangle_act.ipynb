{
 "cells": [
  {
   "cell_type": "markdown",
   "metadata": {},
   "source": [
    "# Gather the Data"
   ]
  },
  {
   "cell_type": "code",
   "execution_count": 1,
   "metadata": {},
   "outputs": [],
   "source": [
    "import pandas as pd\n",
    "import requests\n",
    "import json\n",
    "import tweepy "
   ]
  },
  {
   "cell_type": "markdown",
   "metadata": {},
   "source": [
    "Read all the image data."
   ]
  },
  {
   "cell_type": "code",
   "execution_count": null,
   "metadata": {},
   "outputs": [],
   "source": [
    "url = \"https://d17h27t6h515a5.cloudfront.net/topher/2017/August/599fd2ad_image-predictions/image-predictions.tsv\"\n",
    "image = requests.get(url)\n",
    "with open(\"image.tsv\", 'wb') as f:\n",
    "        f.write(image.content)\n",
    "image = pd.read_csv(\"image.tsv\",sep=\"\\t\")\n",
    "image.to_csv('image.csv')"
   ]
  },
  {
   "cell_type": "markdown",
   "metadata": {},
   "source": [
    "Read the twitter archieve data"
   ]
  },
  {
   "cell_type": "code",
   "execution_count": null,
   "metadata": {},
   "outputs": [],
   "source": [
    "twitter = pd.read_csv(\"twitter-archive-enhanced.csv\")"
   ]
  },
  {
   "cell_type": "markdown",
   "metadata": {},
   "source": [
    "Gather the \"like\" and \"retweet\" number"
   ]
  },
  {
   "cell_type": "code",
   "execution_count": null,
   "metadata": {},
   "outputs": [],
   "source": [
    "consumer_key = #\n",
    "consumer_secret = #\n",
    "access_token = #\n",
    "access_secret = #\n",
    "\n",
    "auth = tweepy.OAuthHandler(consumer_key, consumer_secret)\n",
    "auth.set_access_token(access_token, access_secret)\n",
    "\n",
    "api = tweepy.API(auth, wait_on_rate_limit=True)"
   ]
  },
  {
   "cell_type": "code",
   "execution_count": null,
   "metadata": {},
   "outputs": [],
   "source": [
    "error=[]\n",
    "with open('tweet_json.txt', 'a') as outfile:\n",
    "    for tweet_id in list(image.tweet_id):\n",
    "        try:\n",
    "            temp = api.get_status(tweet_id, tweet_mode='extended')\n",
    "            json.dump(temp._json, outfile,indent=2)\n",
    "            outfile.write('\\n')\n",
    "        except:\n",
    "            error.append(tweet_id)"
   ]
  },
  {
   "cell_type": "code",
   "execution_count": null,
   "metadata": {},
   "outputs": [],
   "source": [
    "import json\n",
    "status = []\n",
    "file = open('tweet_json.txt').read()[1:-2].split('}\\n{')\n",
    "for jsonline in file:\n",
    "    data = json.loads(\"{\"+jsonline+\"}\") \n",
    "    if data.get(\"retweeted\") == False:\n",
    "        tweet_id = data.get('id')\n",
    "        retweets = data.get('retweet_count')\n",
    "        likes = data.get('favorite_count')\n",
    "        status.append({'tweet_id': tweet_id, \n",
    "                'retweets': retweets,\n",
    "                'likes': likes})"
   ]
  },
  {
   "cell_type": "code",
   "execution_count": null,
   "metadata": {},
   "outputs": [],
   "source": [
    "status = pd.DataFrame(status, columns = [\"tweet_id\",\"retweets\",\"likes\"])\n",
    "status.to_csv(\"status.csv\")"
   ]
  },
  {
   "cell_type": "markdown",
   "metadata": {},
   "source": [
    "Merge all data that has an image"
   ]
  },
  {
   "cell_type": "code",
   "execution_count": null,
   "metadata": {},
   "outputs": [],
   "source": [
    "final_data = image.merge(twitter, on = \"tweet_id\").merge(status, on = \"tweet_id\")\n",
    "final_data.to_csv(\"final_data.csv\")"
   ]
  },
  {
   "cell_type": "markdown",
   "metadata": {},
   "source": [
    "# Access and Clean the data"
   ]
  },
  {
   "cell_type": "code",
   "execution_count": 2,
   "metadata": {},
   "outputs": [],
   "source": [
    "import pandas as pd\n",
    "twitter = pd.read_csv('final_data.csv',index_col=0)"
   ]
  },
  {
   "cell_type": "code",
   "execution_count": 26,
   "metadata": {},
   "outputs": [
    {
     "name": "stdout",
     "output_type": "stream",
     "text": [
      "<class 'pandas.core.frame.DataFrame'>\n",
      "Int64Index: 2077 entries, 0 to 2076\n",
      "Data columns (total 30 columns):\n",
      "tweet_id                      2077 non-null object\n",
      "jpg_url                       2077 non-null object\n",
      "img_num                       2077 non-null int64\n",
      "p1                            2077 non-null object\n",
      "p1_conf                       2077 non-null float64\n",
      "p1_dog                        2077 non-null bool\n",
      "p2                            2077 non-null object\n",
      "p2_conf                       2077 non-null float64\n",
      "p2_dog                        2077 non-null bool\n",
      "p3                            2077 non-null object\n",
      "p3_conf                       2077 non-null float64\n",
      "p3_dog                        2077 non-null bool\n",
      "in_reply_to_status_id         2077 non-null object\n",
      "in_reply_to_user_id           2077 non-null object\n",
      "timestamp                     2077 non-null object\n",
      "source                        2077 non-null object\n",
      "text                          2077 non-null object\n",
      "retweeted_status_id           2077 non-null object\n",
      "retweeted_status_user_id      2077 non-null object\n",
      "retweeted_status_timestamp    75 non-null object\n",
      "expanded_urls                 2077 non-null object\n",
      "rating_numerator              2077 non-null object\n",
      "rating_denominator            2077 non-null object\n",
      "name                          2077 non-null object\n",
      "doggo                         2077 non-null object\n",
      "floofer                       2077 non-null object\n",
      "pupper                        2077 non-null object\n",
      "puppo                         2077 non-null object\n",
      "retweets                      2077 non-null int64\n",
      "likes                         2077 non-null int64\n",
      "dtypes: bool(3), float64(3), int64(3), object(21)\n",
      "memory usage: 540.4+ KB\n"
     ]
    }
   ],
   "source": [
    "twitter.info()"
   ]
  },
  {
   "cell_type": "code",
   "execution_count": 27,
   "metadata": {},
   "outputs": [
    {
     "data": {
      "text/html": [
       "<div>\n",
       "<style scoped>\n",
       "    .dataframe tbody tr th:only-of-type {\n",
       "        vertical-align: middle;\n",
       "    }\n",
       "\n",
       "    .dataframe tbody tr th {\n",
       "        vertical-align: top;\n",
       "    }\n",
       "\n",
       "    .dataframe thead th {\n",
       "        text-align: right;\n",
       "    }\n",
       "</style>\n",
       "<table border=\"1\" class=\"dataframe\">\n",
       "  <thead>\n",
       "    <tr style=\"text-align: right;\">\n",
       "      <th></th>\n",
       "      <th>tweet_id</th>\n",
       "      <th>jpg_url</th>\n",
       "      <th>img_num</th>\n",
       "      <th>p1</th>\n",
       "      <th>p1_conf</th>\n",
       "      <th>p1_dog</th>\n",
       "      <th>p2</th>\n",
       "      <th>p2_conf</th>\n",
       "      <th>p2_dog</th>\n",
       "      <th>p3</th>\n",
       "      <th>...</th>\n",
       "      <th>expanded_urls</th>\n",
       "      <th>rating_numerator</th>\n",
       "      <th>rating_denominator</th>\n",
       "      <th>name</th>\n",
       "      <th>doggo</th>\n",
       "      <th>floofer</th>\n",
       "      <th>pupper</th>\n",
       "      <th>puppo</th>\n",
       "      <th>retweets</th>\n",
       "      <th>likes</th>\n",
       "    </tr>\n",
       "  </thead>\n",
       "  <tbody>\n",
       "    <tr>\n",
       "      <th>58</th>\n",
       "      <td>667090893657276420</td>\n",
       "      <td>https://pbs.twimg.com/media/CUH7oLuUsAELWib.jpg</td>\n",
       "      <td>1</td>\n",
       "      <td>Chihuahua</td>\n",
       "      <td>0.959514</td>\n",
       "      <td>True</td>\n",
       "      <td>Italian_greyhound</td>\n",
       "      <td>0.005370</td>\n",
       "      <td>True</td>\n",
       "      <td>Pomeranian</td>\n",
       "      <td>...</td>\n",
       "      <td>https://twitter.com/dog_rates/status/667090893...</td>\n",
       "      <td>7</td>\n",
       "      <td>10</td>\n",
       "      <td>Clybe</td>\n",
       "      <td>None</td>\n",
       "      <td>None</td>\n",
       "      <td>None</td>\n",
       "      <td>None</td>\n",
       "      <td>130</td>\n",
       "      <td>341</td>\n",
       "    </tr>\n",
       "    <tr>\n",
       "      <th>439</th>\n",
       "      <td>674436901579923456</td>\n",
       "      <td>https://pbs.twimg.com/media/CVwUyM9WwAAGDjv.jpg</td>\n",
       "      <td>1</td>\n",
       "      <td>acorn_squash</td>\n",
       "      <td>0.375392</td>\n",
       "      <td>False</td>\n",
       "      <td>Shih-Tzu</td>\n",
       "      <td>0.105416</td>\n",
       "      <td>True</td>\n",
       "      <td>Lhasa</td>\n",
       "      <td>...</td>\n",
       "      <td>https://twitter.com/dog_rates/status/674436901...</td>\n",
       "      <td>9</td>\n",
       "      <td>10</td>\n",
       "      <td>Bailey</td>\n",
       "      <td>None</td>\n",
       "      <td>None</td>\n",
       "      <td>None</td>\n",
       "      <td>None</td>\n",
       "      <td>422</td>\n",
       "      <td>1175</td>\n",
       "    </tr>\n",
       "    <tr>\n",
       "      <th>924</th>\n",
       "      <td>702321140488925184</td>\n",
       "      <td>https://pbs.twimg.com/media/Cb8lWafWEAA2q93.jpg</td>\n",
       "      <td>3</td>\n",
       "      <td>West_Highland_white_terrier</td>\n",
       "      <td>0.769159</td>\n",
       "      <td>True</td>\n",
       "      <td>Scotch_terrier</td>\n",
       "      <td>0.064369</td>\n",
       "      <td>True</td>\n",
       "      <td>Old_English_sheepdog</td>\n",
       "      <td>...</td>\n",
       "      <td>https://twitter.com/dog_rates/status/702321140...</td>\n",
       "      <td>12</td>\n",
       "      <td>10</td>\n",
       "      <td>None</td>\n",
       "      <td>None</td>\n",
       "      <td>None</td>\n",
       "      <td>None</td>\n",
       "      <td>None</td>\n",
       "      <td>1138</td>\n",
       "      <td>3544</td>\n",
       "    </tr>\n",
       "    <tr>\n",
       "      <th>1197</th>\n",
       "      <td>740676976021798912</td>\n",
       "      <td>https://pbs.twimg.com/media/Ckdpx5KWsAANF6b.jpg</td>\n",
       "      <td>1</td>\n",
       "      <td>wombat</td>\n",
       "      <td>0.462952</td>\n",
       "      <td>False</td>\n",
       "      <td>Norwegian_elkhound</td>\n",
       "      <td>0.275225</td>\n",
       "      <td>True</td>\n",
       "      <td>Siamese_cat</td>\n",
       "      <td>...</td>\n",
       "      <td>https://twitter.com/dog_rates/status/740676976...</td>\n",
       "      <td>11</td>\n",
       "      <td>10</td>\n",
       "      <td>Baloo</td>\n",
       "      <td>None</td>\n",
       "      <td>None</td>\n",
       "      <td>pupper</td>\n",
       "      <td>None</td>\n",
       "      <td>7530</td>\n",
       "      <td>19559</td>\n",
       "    </tr>\n",
       "    <tr>\n",
       "      <th>1174</th>\n",
       "      <td>737322739594330112</td>\n",
       "      <td>https://pbs.twimg.com/media/Cjt_Hm6WsAAjkPG.jpg</td>\n",
       "      <td>1</td>\n",
       "      <td>guinea_pig</td>\n",
       "      <td>0.148526</td>\n",
       "      <td>False</td>\n",
       "      <td>solar_dish</td>\n",
       "      <td>0.097183</td>\n",
       "      <td>False</td>\n",
       "      <td>park_bench</td>\n",
       "      <td>...</td>\n",
       "      <td>https://twitter.com/dog_rates/status/737322739...</td>\n",
       "      <td>9</td>\n",
       "      <td>10</td>\n",
       "      <td>Lily</td>\n",
       "      <td>None</td>\n",
       "      <td>None</td>\n",
       "      <td>None</td>\n",
       "      <td>None</td>\n",
       "      <td>886</td>\n",
       "      <td>3881</td>\n",
       "    </tr>\n",
       "    <tr>\n",
       "      <th>1512</th>\n",
       "      <td>786595970293370880</td>\n",
       "      <td>https://pbs.twimg.com/media/CuqM0fVWAAAboKR.jpg</td>\n",
       "      <td>1</td>\n",
       "      <td>Pembroke</td>\n",
       "      <td>0.709512</td>\n",
       "      <td>True</td>\n",
       "      <td>Cardigan</td>\n",
       "      <td>0.287178</td>\n",
       "      <td>True</td>\n",
       "      <td>chow</td>\n",
       "      <td>...</td>\n",
       "      <td>https://twitter.com/dog_rates/status/786595970...</td>\n",
       "      <td>11</td>\n",
       "      <td>10</td>\n",
       "      <td>Dale</td>\n",
       "      <td>None</td>\n",
       "      <td>None</td>\n",
       "      <td>None</td>\n",
       "      <td>None</td>\n",
       "      <td>3524</td>\n",
       "      <td>10353</td>\n",
       "    </tr>\n",
       "    <tr>\n",
       "      <th>1319</th>\n",
       "      <td>756275833623502848</td>\n",
       "      <td>https://pbs.twimg.com/media/Cn7U2xlW8AI9Pqp.jpg</td>\n",
       "      <td>1</td>\n",
       "      <td>Airedale</td>\n",
       "      <td>0.602957</td>\n",
       "      <td>True</td>\n",
       "      <td>Irish_terrier</td>\n",
       "      <td>0.086981</td>\n",
       "      <td>True</td>\n",
       "      <td>bloodhound</td>\n",
       "      <td>...</td>\n",
       "      <td>https://twitter.com/dog_rates/status/756275833...</td>\n",
       "      <td>10</td>\n",
       "      <td>10</td>\n",
       "      <td>None</td>\n",
       "      <td>None</td>\n",
       "      <td>None</td>\n",
       "      <td>None</td>\n",
       "      <td>puppo</td>\n",
       "      <td>1710</td>\n",
       "      <td>7007</td>\n",
       "    </tr>\n",
       "    <tr>\n",
       "      <th>1715</th>\n",
       "      <td>819015331746349057</td>\n",
       "      <td>https://pbs.twimg.com/media/C12x-JTVIAAzdfl.jpg</td>\n",
       "      <td>4</td>\n",
       "      <td>prison</td>\n",
       "      <td>0.907083</td>\n",
       "      <td>False</td>\n",
       "      <td>palace</td>\n",
       "      <td>0.020089</td>\n",
       "      <td>False</td>\n",
       "      <td>umbrella</td>\n",
       "      <td>...</td>\n",
       "      <td>https://twitter.com/dog_rates/status/819006400...</td>\n",
       "      <td>14</td>\n",
       "      <td>10</td>\n",
       "      <td>Sunny</td>\n",
       "      <td>doggo</td>\n",
       "      <td>None</td>\n",
       "      <td>None</td>\n",
       "      <td>None</td>\n",
       "      <td>21336</td>\n",
       "      <td>0</td>\n",
       "    </tr>\n",
       "    <tr>\n",
       "      <th>594</th>\n",
       "      <td>679503373272485890</td>\n",
       "      <td>https://pbs.twimg.com/media/CW4UtmYWsAAEjqA.jpg</td>\n",
       "      <td>1</td>\n",
       "      <td>porcupine</td>\n",
       "      <td>0.999846</td>\n",
       "      <td>False</td>\n",
       "      <td>meerkat</td>\n",
       "      <td>0.000072</td>\n",
       "      <td>False</td>\n",
       "      <td>echidna</td>\n",
       "      <td>...</td>\n",
       "      <td>https://twitter.com/dog_rates/status/679503373...</td>\n",
       "      <td>8</td>\n",
       "      <td>10</td>\n",
       "      <td>Dwight</td>\n",
       "      <td>None</td>\n",
       "      <td>None</td>\n",
       "      <td>pupper</td>\n",
       "      <td>None</td>\n",
       "      <td>1640</td>\n",
       "      <td>3414</td>\n",
       "    </tr>\n",
       "    <tr>\n",
       "      <th>276</th>\n",
       "      <td>670840546554966016</td>\n",
       "      <td>https://pbs.twimg.com/media/CU9N6upXAAAbtQe.jpg</td>\n",
       "      <td>1</td>\n",
       "      <td>Shih-Tzu</td>\n",
       "      <td>0.963622</td>\n",
       "      <td>True</td>\n",
       "      <td>Lhasa</td>\n",
       "      <td>0.016017</td>\n",
       "      <td>True</td>\n",
       "      <td>guinea_pig</td>\n",
       "      <td>...</td>\n",
       "      <td>https://twitter.com/dog_rates/status/670840546...</td>\n",
       "      <td>10</td>\n",
       "      <td>10</td>\n",
       "      <td>Colby</td>\n",
       "      <td>None</td>\n",
       "      <td>None</td>\n",
       "      <td>None</td>\n",
       "      <td>None</td>\n",
       "      <td>210</td>\n",
       "      <td>619</td>\n",
       "    </tr>\n",
       "  </tbody>\n",
       "</table>\n",
       "<p>10 rows × 30 columns</p>\n",
       "</div>"
      ],
      "text/plain": [
       "                tweet_id                                          jpg_url  \\\n",
       "58    667090893657276420  https://pbs.twimg.com/media/CUH7oLuUsAELWib.jpg   \n",
       "439   674436901579923456  https://pbs.twimg.com/media/CVwUyM9WwAAGDjv.jpg   \n",
       "924   702321140488925184  https://pbs.twimg.com/media/Cb8lWafWEAA2q93.jpg   \n",
       "1197  740676976021798912  https://pbs.twimg.com/media/Ckdpx5KWsAANF6b.jpg   \n",
       "1174  737322739594330112  https://pbs.twimg.com/media/Cjt_Hm6WsAAjkPG.jpg   \n",
       "1512  786595970293370880  https://pbs.twimg.com/media/CuqM0fVWAAAboKR.jpg   \n",
       "1319  756275833623502848  https://pbs.twimg.com/media/Cn7U2xlW8AI9Pqp.jpg   \n",
       "1715  819015331746349057  https://pbs.twimg.com/media/C12x-JTVIAAzdfl.jpg   \n",
       "594   679503373272485890  https://pbs.twimg.com/media/CW4UtmYWsAAEjqA.jpg   \n",
       "276   670840546554966016  https://pbs.twimg.com/media/CU9N6upXAAAbtQe.jpg   \n",
       "\n",
       "      img_num                           p1   p1_conf  p1_dog  \\\n",
       "58          1                    Chihuahua  0.959514    True   \n",
       "439         1                 acorn_squash  0.375392   False   \n",
       "924         3  West_Highland_white_terrier  0.769159    True   \n",
       "1197        1                       wombat  0.462952   False   \n",
       "1174        1                   guinea_pig  0.148526   False   \n",
       "1512        1                     Pembroke  0.709512    True   \n",
       "1319        1                     Airedale  0.602957    True   \n",
       "1715        4                       prison  0.907083   False   \n",
       "594         1                    porcupine  0.999846   False   \n",
       "276         1                     Shih-Tzu  0.963622    True   \n",
       "\n",
       "                      p2   p2_conf  p2_dog                    p3  ...    \\\n",
       "58     Italian_greyhound  0.005370    True            Pomeranian  ...     \n",
       "439             Shih-Tzu  0.105416    True                 Lhasa  ...     \n",
       "924       Scotch_terrier  0.064369    True  Old_English_sheepdog  ...     \n",
       "1197  Norwegian_elkhound  0.275225    True           Siamese_cat  ...     \n",
       "1174          solar_dish  0.097183   False            park_bench  ...     \n",
       "1512            Cardigan  0.287178    True                  chow  ...     \n",
       "1319       Irish_terrier  0.086981    True            bloodhound  ...     \n",
       "1715              palace  0.020089   False              umbrella  ...     \n",
       "594              meerkat  0.000072   False               echidna  ...     \n",
       "276                Lhasa  0.016017    True            guinea_pig  ...     \n",
       "\n",
       "                                          expanded_urls  rating_numerator  \\\n",
       "58    https://twitter.com/dog_rates/status/667090893...                 7   \n",
       "439   https://twitter.com/dog_rates/status/674436901...                 9   \n",
       "924   https://twitter.com/dog_rates/status/702321140...                12   \n",
       "1197  https://twitter.com/dog_rates/status/740676976...                11   \n",
       "1174  https://twitter.com/dog_rates/status/737322739...                 9   \n",
       "1512  https://twitter.com/dog_rates/status/786595970...                11   \n",
       "1319  https://twitter.com/dog_rates/status/756275833...                10   \n",
       "1715  https://twitter.com/dog_rates/status/819006400...                14   \n",
       "594   https://twitter.com/dog_rates/status/679503373...                 8   \n",
       "276   https://twitter.com/dog_rates/status/670840546...                10   \n",
       "\n",
       "     rating_denominator    name  doggo floofer  pupper  puppo retweets  likes  \n",
       "58                   10   Clybe   None    None    None   None      130    341  \n",
       "439                  10  Bailey   None    None    None   None      422   1175  \n",
       "924                  10    None   None    None    None   None     1138   3544  \n",
       "1197                 10   Baloo   None    None  pupper   None     7530  19559  \n",
       "1174                 10    Lily   None    None    None   None      886   3881  \n",
       "1512                 10    Dale   None    None    None   None     3524  10353  \n",
       "1319                 10    None   None    None    None  puppo     1710   7007  \n",
       "1715                 10   Sunny  doggo    None    None   None    21336      0  \n",
       "594                  10  Dwight   None    None  pupper   None     1640   3414  \n",
       "276                  10   Colby   None    None    None   None      210    619  \n",
       "\n",
       "[10 rows x 30 columns]"
      ]
     },
     "execution_count": 27,
     "metadata": {},
     "output_type": "execute_result"
    }
   ],
   "source": [
    "twitter.sample(10)"
   ]
  },
  {
   "cell_type": "code",
   "execution_count": 28,
   "metadata": {},
   "outputs": [
    {
     "data": {
      "text/html": [
       "<div>\n",
       "<style scoped>\n",
       "    .dataframe tbody tr th:only-of-type {\n",
       "        vertical-align: middle;\n",
       "    }\n",
       "\n",
       "    .dataframe tbody tr th {\n",
       "        vertical-align: top;\n",
       "    }\n",
       "\n",
       "    .dataframe thead th {\n",
       "        text-align: right;\n",
       "    }\n",
       "</style>\n",
       "<table border=\"1\" class=\"dataframe\">\n",
       "  <thead>\n",
       "    <tr style=\"text-align: right;\">\n",
       "      <th></th>\n",
       "      <th>img_num</th>\n",
       "      <th>p1_conf</th>\n",
       "      <th>p2_conf</th>\n",
       "      <th>p3_conf</th>\n",
       "      <th>retweets</th>\n",
       "      <th>likes</th>\n",
       "    </tr>\n",
       "  </thead>\n",
       "  <tbody>\n",
       "    <tr>\n",
       "      <th>count</th>\n",
       "      <td>2077.000000</td>\n",
       "      <td>2077.000000</td>\n",
       "      <td>2.077000e+03</td>\n",
       "      <td>2.077000e+03</td>\n",
       "      <td>2077.000000</td>\n",
       "      <td>2077.000000</td>\n",
       "    </tr>\n",
       "    <tr>\n",
       "      <th>mean</th>\n",
       "      <td>1.203659</td>\n",
       "      <td>0.594462</td>\n",
       "      <td>1.347630e-01</td>\n",
       "      <td>6.034094e-02</td>\n",
       "      <td>2917.017814</td>\n",
       "      <td>8687.102070</td>\n",
       "    </tr>\n",
       "    <tr>\n",
       "      <th>std</th>\n",
       "      <td>0.561640</td>\n",
       "      <td>0.270897</td>\n",
       "      <td>1.008044e-01</td>\n",
       "      <td>5.090303e-02</td>\n",
       "      <td>4902.916648</td>\n",
       "      <td>12625.263774</td>\n",
       "    </tr>\n",
       "    <tr>\n",
       "      <th>min</th>\n",
       "      <td>1.000000</td>\n",
       "      <td>0.044333</td>\n",
       "      <td>1.011300e-08</td>\n",
       "      <td>1.740170e-10</td>\n",
       "      <td>13.000000</td>\n",
       "      <td>0.000000</td>\n",
       "    </tr>\n",
       "    <tr>\n",
       "      <th>25%</th>\n",
       "      <td>1.000000</td>\n",
       "      <td>0.364729</td>\n",
       "      <td>5.390140e-02</td>\n",
       "      <td>1.624560e-02</td>\n",
       "      <td>619.000000</td>\n",
       "      <td>1657.000000</td>\n",
       "    </tr>\n",
       "    <tr>\n",
       "      <th>50%</th>\n",
       "      <td>1.000000</td>\n",
       "      <td>0.587764</td>\n",
       "      <td>1.186220e-01</td>\n",
       "      <td>4.944380e-02</td>\n",
       "      <td>1382.000000</td>\n",
       "      <td>3838.000000</td>\n",
       "    </tr>\n",
       "    <tr>\n",
       "      <th>75%</th>\n",
       "      <td>1.000000</td>\n",
       "      <td>0.843799</td>\n",
       "      <td>1.955730e-01</td>\n",
       "      <td>9.193000e-02</td>\n",
       "      <td>3378.000000</td>\n",
       "      <td>10943.000000</td>\n",
       "    </tr>\n",
       "    <tr>\n",
       "      <th>max</th>\n",
       "      <td>4.000000</td>\n",
       "      <td>1.000000</td>\n",
       "      <td>4.880140e-01</td>\n",
       "      <td>2.734190e-01</td>\n",
       "      <td>77988.000000</td>\n",
       "      <td>144133.000000</td>\n",
       "    </tr>\n",
       "  </tbody>\n",
       "</table>\n",
       "</div>"
      ],
      "text/plain": [
       "           img_num      p1_conf       p2_conf       p3_conf      retweets  \\\n",
       "count  2077.000000  2077.000000  2.077000e+03  2.077000e+03   2077.000000   \n",
       "mean      1.203659     0.594462  1.347630e-01  6.034094e-02   2917.017814   \n",
       "std       0.561640     0.270897  1.008044e-01  5.090303e-02   4902.916648   \n",
       "min       1.000000     0.044333  1.011300e-08  1.740170e-10     13.000000   \n",
       "25%       1.000000     0.364729  5.390140e-02  1.624560e-02    619.000000   \n",
       "50%       1.000000     0.587764  1.186220e-01  4.944380e-02   1382.000000   \n",
       "75%       1.000000     0.843799  1.955730e-01  9.193000e-02   3378.000000   \n",
       "max       4.000000     1.000000  4.880140e-01  2.734190e-01  77988.000000   \n",
       "\n",
       "               likes  \n",
       "count    2077.000000  \n",
       "mean     8687.102070  \n",
       "std     12625.263774  \n",
       "min         0.000000  \n",
       "25%      1657.000000  \n",
       "50%      3838.000000  \n",
       "75%     10943.000000  \n",
       "max    144133.000000  "
      ]
     },
     "execution_count": 28,
     "metadata": {},
     "output_type": "execute_result"
    }
   ],
   "source": [
    "twitter.describe()"
   ]
  },
  {
   "cell_type": "markdown",
   "metadata": {},
   "source": [
    "After watched the data, we found many potential problems.\n",
    "* Tweet id/status_id should be character not int/float\n",
    "* P1,p2,p3 are not formatted.\n",
    "* Retweeted_status_id has many null values.\n",
    "* The stage of the dogs are in separate columns.\n",
    "* Some names are wrong. (this/very/a/an)\n",
    "* Retweeted pictures should be deleted.\n",
    "* Some rating denominators are weird. (some taken the wrong number)\n",
    "* The timestamp is not formatted."
   ]
  },
  {
   "cell_type": "markdown",
   "metadata": {},
   "source": [
    "### 1. Change ID Type"
   ]
  },
  {
   "cell_type": "markdown",
   "metadata": {},
   "source": [
    "##### Define\n",
    "\n",
    "Change all the ID's to string.\n",
    "\n",
    "##### Code"
   ]
  },
  {
   "cell_type": "code",
   "execution_count": 68,
   "metadata": {},
   "outputs": [],
   "source": [
    "names = []\n",
    "for i in twitter.columns:\n",
    "    if 'id' in i:\n",
    "        names.append(i)\n",
    "twitter[names]= twitter[names].astype(str)"
   ]
  },
  {
   "cell_type": "markdown",
   "metadata": {},
   "source": [
    "##### Test"
   ]
  },
  {
   "cell_type": "code",
   "execution_count": 25,
   "metadata": {},
   "outputs": [
    {
     "data": {
      "text/plain": [
       "tweet_id                       object\n",
       "jpg_url                        object\n",
       "img_num                         int64\n",
       "p1                             object\n",
       "p1_conf                       float64\n",
       "p1_dog                           bool\n",
       "p2                             object\n",
       "p2_conf                       float64\n",
       "p2_dog                           bool\n",
       "p3                             object\n",
       "p3_conf                       float64\n",
       "p3_dog                           bool\n",
       "in_reply_to_status_id          object\n",
       "in_reply_to_user_id            object\n",
       "timestamp                      object\n",
       "source                         object\n",
       "text                           object\n",
       "retweeted_status_id            object\n",
       "retweeted_status_user_id       object\n",
       "retweeted_status_timestamp     object\n",
       "expanded_urls                  object\n",
       "rating_numerator               object\n",
       "rating_denominator             object\n",
       "name                           object\n",
       "doggo                          object\n",
       "floofer                        object\n",
       "pupper                         object\n",
       "puppo                          object\n",
       "retweets                        int64\n",
       "likes                           int64\n",
       "dtype: object"
      ]
     },
     "execution_count": 25,
     "metadata": {},
     "output_type": "execute_result"
    }
   ],
   "source": [
    "twitter.dtypes"
   ]
  },
  {
   "cell_type": "markdown",
   "metadata": {},
   "source": [
    "### 2. Format the predictions"
   ]
  },
  {
   "cell_type": "markdown",
   "metadata": {},
   "source": [
    "##### Define\n",
    "\n",
    "The names of the prediction columns are all in lowercase and separated by \"_\".\n",
    "\n",
    "##### Code"
   ]
  },
  {
   "cell_type": "code",
   "execution_count": 69,
   "metadata": {},
   "outputs": [],
   "source": [
    "def fmat(s):\n",
    "    return(' '.join(s.split('_')).title())\n",
    "for i in ['p1','p2','p3']:\n",
    "    twitter[i] = twitter[i].apply(fmat)"
   ]
  },
  {
   "cell_type": "markdown",
   "metadata": {},
   "source": [
    "##### Test"
   ]
  },
  {
   "cell_type": "code",
   "execution_count": 30,
   "metadata": {},
   "outputs": [
    {
     "name": "stdout",
     "output_type": "stream",
     "text": [
      "                       p1                  p2                           p3\n",
      "0  Welsh_springer_spaniel              collie            Shetland_sheepdog\n",
      "1                 redbone  miniature_pinscher          Rhodesian_ridgeback\n",
      "2         German_shepherd            malinois                   bloodhound\n",
      "3     Rhodesian_ridgeback             redbone           miniature_pinscher\n",
      "4      miniature_pinscher          Rottweiler                     Doberman\n",
      "5    Bernese_mountain_dog    English_springer   Greater_Swiss_Mountain_dog\n",
      "6              box_turtle          mud_turtle                     terrapin\n",
      "7                    chow     Tibetan_mastiff                     fur_coat\n",
      "8           shopping_cart     shopping_basket             golden_retriever\n",
      "9        miniature_poodle            komondor  soft-coated_wheaten_terrier\n"
     ]
    }
   ],
   "source": [
    "print(twitter[['p1','p2','p3']].head(10))"
   ]
  },
  {
   "cell_type": "markdown",
   "metadata": {},
   "source": [
    "### 3. Delete Re-tweets\n",
    "\n",
    "##### Define\n",
    "\n",
    "All the rows with a non-null retweets id needs to be deleted since we only want original tweets.\n",
    "\n",
    "##### Code"
   ]
  },
  {
   "cell_type": "code",
   "execution_count": 70,
   "metadata": {},
   "outputs": [],
   "source": [
    "unoriginal = ['in_reply_to_status_id','in_reply_to_user_id','retweeted_status_id','retweeted_status_user_id']\n",
    "for i in unoriginal:\n",
    "    twitter = twitter.loc[twitter[i] == 'nan']\n",
    "unoriginal.append('retweeted_status_timestamp')\n",
    "twitter = twitter.drop(columns = unoriginal)"
   ]
  },
  {
   "cell_type": "markdown",
   "metadata": {},
   "source": [
    "##### Test"
   ]
  },
  {
   "cell_type": "code",
   "execution_count": 31,
   "metadata": {},
   "outputs": [
    {
     "name": "stdout",
     "output_type": "stream",
     "text": [
      "<class 'pandas.core.frame.DataFrame'>\n",
      "Int64Index: 2077 entries, 0 to 2076\n",
      "Data columns (total 30 columns):\n",
      "tweet_id                      2077 non-null object\n",
      "jpg_url                       2077 non-null object\n",
      "img_num                       2077 non-null int64\n",
      "p1                            2077 non-null object\n",
      "p1_conf                       2077 non-null float64\n",
      "p1_dog                        2077 non-null bool\n",
      "p2                            2077 non-null object\n",
      "p2_conf                       2077 non-null float64\n",
      "p2_dog                        2077 non-null bool\n",
      "p3                            2077 non-null object\n",
      "p3_conf                       2077 non-null float64\n",
      "p3_dog                        2077 non-null bool\n",
      "in_reply_to_status_id         2077 non-null object\n",
      "in_reply_to_user_id           2077 non-null object\n",
      "timestamp                     2077 non-null object\n",
      "source                        2077 non-null object\n",
      "text                          2077 non-null object\n",
      "retweeted_status_id           2077 non-null object\n",
      "retweeted_status_user_id      2077 non-null object\n",
      "retweeted_status_timestamp    75 non-null object\n",
      "expanded_urls                 2077 non-null object\n",
      "rating_numerator              2077 non-null object\n",
      "rating_denominator            2077 non-null object\n",
      "name                          2077 non-null object\n",
      "doggo                         2077 non-null object\n",
      "floofer                       2077 non-null object\n",
      "pupper                        2077 non-null object\n",
      "puppo                         2077 non-null object\n",
      "retweets                      2077 non-null int64\n",
      "likes                         2077 non-null int64\n",
      "dtypes: bool(3), float64(3), int64(3), object(21)\n",
      "memory usage: 540.4+ KB\n"
     ]
    }
   ],
   "source": [
    "twitter.info()"
   ]
  },
  {
   "cell_type": "markdown",
   "metadata": {},
   "source": [
    "### 4. Format the Timestamp\n",
    "\n",
    "##### Define\n",
    "\n",
    "The timestamp column looks messy, we need to make it look tidy and sort the data by date.\n",
    "\n",
    "##### Code"
   ]
  },
  {
   "cell_type": "code",
   "execution_count": 32,
   "metadata": {},
   "outputs": [],
   "source": [
    "from datetime import datetime\n",
    "def string_to_date(t):\n",
    "    return(datetime.strptime(t, '%Y-%m-%d %H:%M:%S %z'))\n",
    "def date_format(t):\n",
    "    return(t.strftime('%d, %b %Y'))\n",
    "def time_format(t):\n",
    "    return(t.strftime('%H:%M:%S'))\n",
    "twitter.timestamp = twitter.timestamp.apply(string_to_date)\n",
    "twitter.sort_values(by = 'timestamp')\n",
    "twitter['Date'] = twitter.timestamp.apply(date_format)\n",
    "twitter['Time'] = twitter.timestamp.apply(time_format)"
   ]
  },
  {
   "cell_type": "code",
   "execution_count": 33,
   "metadata": {},
   "outputs": [],
   "source": [
    "twitter = twitter.drop(columns = ['timestamp'])"
   ]
  },
  {
   "cell_type": "markdown",
   "metadata": {},
   "source": [
    "##### Test"
   ]
  },
  {
   "cell_type": "code",
   "execution_count": 34,
   "metadata": {},
   "outputs": [
    {
     "data": {
      "text/html": [
       "<div>\n",
       "<style scoped>\n",
       "    .dataframe tbody tr th:only-of-type {\n",
       "        vertical-align: middle;\n",
       "    }\n",
       "\n",
       "    .dataframe tbody tr th {\n",
       "        vertical-align: top;\n",
       "    }\n",
       "\n",
       "    .dataframe thead th {\n",
       "        text-align: right;\n",
       "    }\n",
       "</style>\n",
       "<table border=\"1\" class=\"dataframe\">\n",
       "  <thead>\n",
       "    <tr style=\"text-align: right;\">\n",
       "      <th></th>\n",
       "      <th>Date</th>\n",
       "      <th>Time</th>\n",
       "    </tr>\n",
       "  </thead>\n",
       "  <tbody>\n",
       "    <tr>\n",
       "      <th>0</th>\n",
       "      <td>15, Nov 2015</td>\n",
       "      <td>22:32:08</td>\n",
       "    </tr>\n",
       "    <tr>\n",
       "      <th>1</th>\n",
       "      <td>15, Nov 2015</td>\n",
       "      <td>23:05:30</td>\n",
       "    </tr>\n",
       "    <tr>\n",
       "      <th>2</th>\n",
       "      <td>15, Nov 2015</td>\n",
       "      <td>23:21:54</td>\n",
       "    </tr>\n",
       "    <tr>\n",
       "      <th>3</th>\n",
       "      <td>16, Nov 2015</td>\n",
       "      <td>00:04:52</td>\n",
       "    </tr>\n",
       "    <tr>\n",
       "      <th>4</th>\n",
       "      <td>16, Nov 2015</td>\n",
       "      <td>00:24:50</td>\n",
       "    </tr>\n",
       "    <tr>\n",
       "      <th>5</th>\n",
       "      <td>16, Nov 2015</td>\n",
       "      <td>00:30:50</td>\n",
       "    </tr>\n",
       "    <tr>\n",
       "      <th>6</th>\n",
       "      <td>16, Nov 2015</td>\n",
       "      <td>00:35:11</td>\n",
       "    </tr>\n",
       "    <tr>\n",
       "      <th>7</th>\n",
       "      <td>16, Nov 2015</td>\n",
       "      <td>00:49:46</td>\n",
       "    </tr>\n",
       "    <tr>\n",
       "      <th>8</th>\n",
       "      <td>16, Nov 2015</td>\n",
       "      <td>00:55:59</td>\n",
       "    </tr>\n",
       "    <tr>\n",
       "      <th>9</th>\n",
       "      <td>16, Nov 2015</td>\n",
       "      <td>01:01:59</td>\n",
       "    </tr>\n",
       "  </tbody>\n",
       "</table>\n",
       "</div>"
      ],
      "text/plain": [
       "           Date      Time\n",
       "0  15, Nov 2015  22:32:08\n",
       "1  15, Nov 2015  23:05:30\n",
       "2  15, Nov 2015  23:21:54\n",
       "3  16, Nov 2015  00:04:52\n",
       "4  16, Nov 2015  00:24:50\n",
       "5  16, Nov 2015  00:30:50\n",
       "6  16, Nov 2015  00:35:11\n",
       "7  16, Nov 2015  00:49:46\n",
       "8  16, Nov 2015  00:55:59\n",
       "9  16, Nov 2015  01:01:59"
      ]
     },
     "execution_count": 34,
     "metadata": {},
     "output_type": "execute_result"
    }
   ],
   "source": [
    "twitter[['Date','Time']].head(10)"
   ]
  },
  {
   "cell_type": "markdown",
   "metadata": {},
   "source": [
    "### 5. Correct Rating Denominator and Number\n",
    "\n",
    "##### Define\n",
    "\n",
    "There are some rows have the wrong value, and we need to correct them."
   ]
  },
  {
   "cell_type": "code",
   "execution_count": 176,
   "metadata": {},
   "outputs": [
    {
     "data": {
      "text/plain": [
       "10     1962\n",
       "50     3   \n",
       "80     2   \n",
       "11     2   \n",
       "170    1   \n",
       "150    1   \n",
       "120    1   \n",
       "110    1   \n",
       "90     1   \n",
       "70     1   \n",
       "40     1   \n",
       "20     1   \n",
       "7      1   \n",
       "2      1   \n",
       "Name: rating_denominator, dtype: int64"
      ]
     },
     "execution_count": 176,
     "metadata": {},
     "output_type": "execute_result"
    }
   ],
   "source": [
    "twitter['rating_denominator'].value_counts() "
   ]
  },
  {
   "cell_type": "markdown",
   "metadata": {},
   "source": [
    "Now let us take a look at some of the text of the twitter that have unusual ratings."
   ]
  },
  {
   "cell_type": "code",
   "execution_count": 177,
   "metadata": {},
   "outputs": [
    {
     "data": {
      "text/html": [
       "<div>\n",
       "<style scoped>\n",
       "    .dataframe tbody tr th:only-of-type {\n",
       "        vertical-align: middle;\n",
       "    }\n",
       "\n",
       "    .dataframe tbody tr th {\n",
       "        vertical-align: top;\n",
       "    }\n",
       "\n",
       "    .dataframe thead th {\n",
       "        text-align: right;\n",
       "    }\n",
       "</style>\n",
       "<table border=\"1\" class=\"dataframe\">\n",
       "  <thead>\n",
       "    <tr style=\"text-align: right;\">\n",
       "      <th></th>\n",
       "      <th>text</th>\n",
       "      <th>rating_denominator</th>\n",
       "    </tr>\n",
       "  </thead>\n",
       "  <tbody>\n",
       "    <tr>\n",
       "      <th>20</th>\n",
       "      <td>This is an Albanian 3 1/2 legged  Episcopalian. Loves well-polished hardwood flooring. Penis on the collar. 9/10 https://t.co/d9NcXFKwLv</td>\n",
       "      <td>2</td>\n",
       "    </tr>\n",
       "    <tr>\n",
       "      <th>501</th>\n",
       "      <td>Here we have an entire platoon of puppers. Total score: 88/80 would pet all at once https://t.co/y93p6FLvVw</td>\n",
       "      <td>80</td>\n",
       "    </tr>\n",
       "    <tr>\n",
       "      <th>560</th>\n",
       "      <td>IT'S PUPPERGEDDON. Total of 144/120 ...I think https://t.co/ZanVtAtvIq</td>\n",
       "      <td>120</td>\n",
       "    </tr>\n",
       "    <tr>\n",
       "      <th>667</th>\n",
       "      <td>This is Darrel. He just robbed a 7/11 and is in a high speed police chase. Was just spotted by the helicopter 10/10 https://t.co/7EsP8LmSp5</td>\n",
       "      <td>11</td>\n",
       "    </tr>\n",
       "    <tr>\n",
       "      <th>692</th>\n",
       "      <td>Someone help the girl is being mugged. Several are distracting her while two steal her shoes. Clever puppers 121/110 https://t.co/1zfnTJLt55</td>\n",
       "      <td>110</td>\n",
       "    </tr>\n",
       "    <tr>\n",
       "      <th>865</th>\n",
       "      <td>Happy Wednesday here's a bucket of pups. 44/40 would pet all at once https://t.co/HppvrYuamZ</td>\n",
       "      <td>40</td>\n",
       "    </tr>\n",
       "    <tr>\n",
       "      <th>941</th>\n",
       "      <td>Here is a whole flock of puppers.  60/50 I'll take the lot https://t.co/9dpcw6MdWa</td>\n",
       "      <td>50</td>\n",
       "    </tr>\n",
       "    <tr>\n",
       "      <th>1007</th>\n",
       "      <td>From left to right:\\nCletus, Jerome, Alejandro, Burp, &amp;amp; Titson\\nNone know where camera is. 45/50 would hug all at once https://t.co/sedre1ivTK</td>\n",
       "      <td>50</td>\n",
       "    </tr>\n",
       "    <tr>\n",
       "      <th>1025</th>\n",
       "      <td>Here's a brigade of puppers. All look very prepared for whatever happens next. 80/80 https://t.co/0eb7R1Om12</td>\n",
       "      <td>80</td>\n",
       "    </tr>\n",
       "    <tr>\n",
       "      <th>1050</th>\n",
       "      <td>Happy Saturday here's 9 puppers on a bench. 99/90 good work everybody https://t.co/mpvaVxKmc1</td>\n",
       "      <td>90</td>\n",
       "    </tr>\n",
       "    <tr>\n",
       "      <th>1071</th>\n",
       "      <td>This is Bluebert. He just saw that both #FinalFur match ups are split 50/50. Amazed af. 11/10 https://t.co/Kky1DPG4iq</td>\n",
       "      <td>50</td>\n",
       "    </tr>\n",
       "    <tr>\n",
       "      <th>1105</th>\n",
       "      <td>Happy 4/20 from the squad! 13/10 for all https://t.co/eV1diwds8a</td>\n",
       "      <td>20</td>\n",
       "    </tr>\n",
       "    <tr>\n",
       "      <th>1148</th>\n",
       "      <td>Say hello to this unbelievably well behaved squad of doggos. 204/170 would try to pet all at once https://t.co/yGQI3He3xv</td>\n",
       "      <td>170</td>\n",
       "    </tr>\n",
       "    <tr>\n",
       "      <th>1196</th>\n",
       "      <td>After so many requests, this is Bretagne. She was the last surviving 9/11 search dog, and our second ever 14/10. RIP https://t.co/XAVDNDaVgQ</td>\n",
       "      <td>11</td>\n",
       "    </tr>\n",
       "    <tr>\n",
       "      <th>1338</th>\n",
       "      <td>Why does this never happen at my front door... 165/150 https://t.co/HmwrdfEfUE</td>\n",
       "      <td>150</td>\n",
       "    </tr>\n",
       "    <tr>\n",
       "      <th>1656</th>\n",
       "      <td>Meet Sam. She smiles 24/7 &amp;amp; secretly aspires to be a reindeer. \\nKeep Sam smiling by clicking and sharing this link:\\nhttps://t.co/98tB8y7y7t https://t.co/LouL5vdvxx</td>\n",
       "      <td>7</td>\n",
       "    </tr>\n",
       "    <tr>\n",
       "      <th>1726</th>\n",
       "      <td>The floofs have been released I repeat the floofs have been released. 84/70 https://t.co/NIYC820tmd</td>\n",
       "      <td>70</td>\n",
       "    </tr>\n",
       "  </tbody>\n",
       "</table>\n",
       "</div>"
      ],
      "text/plain": [
       "                                                                                                                                                                           text  \\\n",
       "20    This is an Albanian 3 1/2 legged  Episcopalian. Loves well-polished hardwood flooring. Penis on the collar. 9/10 https://t.co/d9NcXFKwLv                                    \n",
       "501   Here we have an entire platoon of puppers. Total score: 88/80 would pet all at once https://t.co/y93p6FLvVw                                                                 \n",
       "560   IT'S PUPPERGEDDON. Total of 144/120 ...I think https://t.co/ZanVtAtvIq                                                                                                      \n",
       "667   This is Darrel. He just robbed a 7/11 and is in a high speed police chase. Was just spotted by the helicopter 10/10 https://t.co/7EsP8LmSp5                                 \n",
       "692   Someone help the girl is being mugged. Several are distracting her while two steal her shoes. Clever puppers 121/110 https://t.co/1zfnTJLt55                                \n",
       "865   Happy Wednesday here's a bucket of pups. 44/40 would pet all at once https://t.co/HppvrYuamZ                                                                                \n",
       "941   Here is a whole flock of puppers.  60/50 I'll take the lot https://t.co/9dpcw6MdWa                                                                                          \n",
       "1007  From left to right:\\nCletus, Jerome, Alejandro, Burp, &amp; Titson\\nNone know where camera is. 45/50 would hug all at once https://t.co/sedre1ivTK                          \n",
       "1025  Here's a brigade of puppers. All look very prepared for whatever happens next. 80/80 https://t.co/0eb7R1Om12                                                                \n",
       "1050  Happy Saturday here's 9 puppers on a bench. 99/90 good work everybody https://t.co/mpvaVxKmc1                                                                               \n",
       "1071  This is Bluebert. He just saw that both #FinalFur match ups are split 50/50. Amazed af. 11/10 https://t.co/Kky1DPG4iq                                                       \n",
       "1105  Happy 4/20 from the squad! 13/10 for all https://t.co/eV1diwds8a                                                                                                            \n",
       "1148  Say hello to this unbelievably well behaved squad of doggos. 204/170 would try to pet all at once https://t.co/yGQI3He3xv                                                   \n",
       "1196  After so many requests, this is Bretagne. She was the last surviving 9/11 search dog, and our second ever 14/10. RIP https://t.co/XAVDNDaVgQ                                \n",
       "1338  Why does this never happen at my front door... 165/150 https://t.co/HmwrdfEfUE                                                                                              \n",
       "1656  Meet Sam. She smiles 24/7 &amp; secretly aspires to be a reindeer. \\nKeep Sam smiling by clicking and sharing this link:\\nhttps://t.co/98tB8y7y7t https://t.co/LouL5vdvxx   \n",
       "1726  The floofs have been released I repeat the floofs have been released. 84/70 https://t.co/NIYC820tmd                                                                         \n",
       "\n",
       "      rating_denominator  \n",
       "20    2                   \n",
       "501   80                  \n",
       "560   120                 \n",
       "667   11                  \n",
       "692   110                 \n",
       "865   40                  \n",
       "941   50                  \n",
       "1007  50                  \n",
       "1025  80                  \n",
       "1050  90                  \n",
       "1071  50                  \n",
       "1105  20                  \n",
       "1148  170                 \n",
       "1196  11                  \n",
       "1338  150                 \n",
       "1656  7                   \n",
       "1726  70                  "
      ]
     },
     "metadata": {},
     "output_type": "display_data"
    }
   ],
   "source": [
    "pd.set_option('display.max_colwidth', -1)\n",
    "display(twitter[['text','rating_denominator']][twitter['rating_denominator'] != 10])"
   ]
  },
  {
   "cell_type": "markdown",
   "metadata": {},
   "source": [
    "As we can see, some of them are wrong. (The line 1656 doesn't have a score)"
   ]
  },
  {
   "cell_type": "markdown",
   "metadata": {},
   "source": [
    "##### Code"
   ]
  },
  {
   "cell_type": "code",
   "execution_count": 14,
   "metadata": {},
   "outputs": [],
   "source": [
    "import re\n",
    "for index, row in twitter.iterrows():\n",
    "    l = re.findall(r'((?:\\d+\\.)?\\d+)\\/(\\d+)',row['text'])[-1]\n",
    "    twitter.loc[index,['rating_numerator','rating_denominator']] = l\n"
   ]
  },
  {
   "cell_type": "markdown",
   "metadata": {},
   "source": [
    "##### Test\n",
    "\n",
    "As we can see, except row 1656, other data all look normal and there are data with decimals."
   ]
  },
  {
   "cell_type": "code",
   "execution_count": 35,
   "metadata": {},
   "outputs": [
    {
     "data": {
      "text/plain": [
       "10     2064\n",
       "80        2\n",
       "50        2\n",
       "90        1\n",
       "110       1\n",
       "120       1\n",
       "170       1\n",
       "70        1\n",
       "40        1\n",
       "150       1\n",
       "7         1\n",
       "130       1\n",
       "Name: rating_denominator, dtype: int64"
      ]
     },
     "execution_count": 35,
     "metadata": {},
     "output_type": "execute_result"
    }
   ],
   "source": [
    "twitter.rating_denominator.value_counts()"
   ]
  },
  {
   "cell_type": "code",
   "execution_count": 36,
   "metadata": {},
   "outputs": [
    {
     "data": {
      "text/plain": [
       "12       475\n",
       "10       422\n",
       "11       415\n",
       "13       287\n",
       "9        150\n",
       "8         98\n",
       "7         53\n",
       "14        40\n",
       "6         33\n",
       "5         32\n",
       "3         19\n",
       "4         16\n",
       "2         10\n",
       "1          5\n",
       "0          2\n",
       "24         1\n",
       "1776       1\n",
       "84         1\n",
       "143        1\n",
       "420        1\n",
       "88         1\n",
       "121        1\n",
       "15         1\n",
       "165        1\n",
       "13.5       1\n",
       "60         1\n",
       "45         1\n",
       "9.75       1\n",
       "99         1\n",
       "144        1\n",
       "11.27      1\n",
       "44         1\n",
       "204        1\n",
       "80         1\n",
       "11.26      1\n",
       "Name: rating_numerator, dtype: int64"
      ]
     },
     "execution_count": 36,
     "metadata": {},
     "output_type": "execute_result"
    }
   ],
   "source": [
    "twitter.rating_numerator.value_counts()"
   ]
  },
  {
   "cell_type": "markdown",
   "metadata": {},
   "source": [
    "### 6. Create a New Column\n",
    "##### Define\n",
    "We need to make a new column 'score' and drop the original 'rating_numerator','rating_denominator'.\n",
    "\n",
    "##### Code"
   ]
  },
  {
   "cell_type": "code",
   "execution_count": 38,
   "metadata": {},
   "outputs": [],
   "source": [
    "import numpy as np\n",
    "def divide(x,y):\n",
    "    return(float(float(x)/float(y))*10)\n",
    "twitter['score'] = np.vectorize(divide)(twitter['rating_numerator'],twitter['rating_denominator'])"
   ]
  },
  {
   "cell_type": "code",
   "execution_count": 39,
   "metadata": {},
   "outputs": [],
   "source": [
    "from statistics import median\n",
    "twitter.loc[1656,'score'] = median(twitter['score'])"
   ]
  },
  {
   "cell_type": "code",
   "execution_count": 40,
   "metadata": {},
   "outputs": [],
   "source": [
    "twitter = twitter.drop(['rating_numerator','rating_denominator'],axis = 1)"
   ]
  },
  {
   "cell_type": "markdown",
   "metadata": {},
   "source": [
    "##### Test"
   ]
  },
  {
   "cell_type": "code",
   "execution_count": 41,
   "metadata": {},
   "outputs": [
    {
     "data": {
      "text/plain": [
       "12.00      479\n",
       "10.00      423\n",
       "11.00      422\n",
       "13.00      287\n",
       "9.00       151\n",
       "8.00        98\n",
       "7.00        53\n",
       "14.00       40\n",
       "6.00        33\n",
       "5.00        32\n",
       "3.00        19\n",
       "4.00        16\n",
       "2.00        10\n",
       "1.00         5\n",
       "0.00         2\n",
       "15.00        1\n",
       "13.50        1\n",
       "11.26        1\n",
       "11.27        1\n",
       "420.00       1\n",
       "9.75         1\n",
       "1776.00      1\n",
       "Name: score, dtype: int64"
      ]
     },
     "execution_count": 41,
     "metadata": {},
     "output_type": "execute_result"
    }
   ],
   "source": [
    "twitter.score.value_counts()"
   ]
  },
  {
   "cell_type": "markdown",
   "metadata": {},
   "source": [
    "### 7. Separate Links From Text\n",
    "\n",
    "##### Define\n",
    "\n",
    "Every text is followed by a \"https\" link, and we need to remove them.\n",
    "\n",
    "##### Code"
   ]
  },
  {
   "cell_type": "code",
   "execution_count": 46,
   "metadata": {},
   "outputs": [],
   "source": [
    "twitter['link'] = 'None'\n",
    "for index, row in twitter.iterrows():\n",
    "    twitter.loc[index,'link'] = \"https\"+row['text'].split(\"https\")[1]\n",
    "    twitter.loc[index,'text'] = row['text'].split(\"https\")[0]"
   ]
  },
  {
   "cell_type": "markdown",
   "metadata": {},
   "source": [
    "##### Test"
   ]
  },
  {
   "cell_type": "code",
   "execution_count": 47,
   "metadata": {},
   "outputs": [
    {
     "data": {
      "text/plain": [
       "0    https://t.co/BLDqew2Ijj\n",
       "1    https://t.co/r7mOb2m0UI\n",
       "2    https://t.co/y671yMhoiR\n",
       "3    https://t.co/DWnyCjf2mx\n",
       "4    https://t.co/4B7cOc1EDq\n",
       "5    https://t.co/fvIbQfHjIe\n",
       "6    https://t.co/v5A4vzSDdc\n",
       "7    https://t.co/rdivxLiqEt\n",
       "8    https://t.co/yWBqbrzy8O\n",
       "9    https://t.co/pYAJkAe76p\n",
       "Name: link, dtype: object"
      ]
     },
     "execution_count": 47,
     "metadata": {},
     "output_type": "execute_result"
    }
   ],
   "source": [
    "twitter.link.head(10)"
   ]
  },
  {
   "cell_type": "markdown",
   "metadata": {},
   "source": [
    "### 8. Find All the Right Names\n",
    "\n",
    "##### Define\n",
    "\n",
    "There are some dogs have name but get a \"None\" on their \"name\" column.\n",
    "\n",
    "##### Code"
   ]
  },
  {
   "cell_type": "code",
   "execution_count": 50,
   "metadata": {},
   "outputs": [],
   "source": [
    "def name_change(s):\n",
    "    if s[0] == s[0].lower():\n",
    "        s = 'None'\n",
    "    return(s)\n",
    "twitter.name = twitter.name.apply(name_change)"
   ]
  },
  {
   "cell_type": "code",
   "execution_count": 51,
   "metadata": {},
   "outputs": [],
   "source": [
    "for index, row in twitter.iterrows():\n",
    "    try:\n",
    "        l = row['text'].split('named')\n",
    "        name = l[1].split(\".\")[0]\n",
    "        twitter.loc[index,'name'] = name\n",
    "    except:\n",
    "        pass"
   ]
  },
  {
   "cell_type": "markdown",
   "metadata": {},
   "source": [
    "##### Test"
   ]
  },
  {
   "cell_type": "code",
   "execution_count": 185,
   "metadata": {},
   "outputs": [
    {
     "name": "stdout",
     "output_type": "stream",
     "text": [
      "These are Peruvian Feldspars. Their names are Cupit and Prencer. Both resemble Rand Paul. Sick outfits 10/10 &amp; 10/10 \n",
      "This is a Dasani Kingfisher from Maine. His name is Daryl. Daryl doesn't like being swallowed by a panda. 8/10 \n",
      "Another topnotch dog. His name is Big Jumpy Rat. Massive ass feet. Superior tail. Jumps high af. 12/10 great pup \n",
      "I would do radical things in the name of Dog God. I'd believe every word in that book. 10/10 \n",
      "This pup's name is Sabertooth (parents must be cool). Ears for days. Jumps unannounced. 9/10 would pet diligently \n",
      "We normally don't rate bears but this one seems nice. Her name is Thea. Appears rather fluffy. 10/10 good bear \n",
      "This is my dog. Her name is Zoey. She knows I've been rating other dogs. She's not happy. 13/10 no bias at all \n",
      "Sorry for the lack of posts today. I came home from school and had to spend quality time with my puppo. Her name is Zoey and she's 13/10 \n"
     ]
    }
   ],
   "source": [
    "for index, row in twitter.iterrows():\n",
    "    if row['name'] == 'None' and 'name' in row['text']:\n",
    "        print(row['text'])"
   ]
  },
  {
   "cell_type": "markdown",
   "metadata": {},
   "source": [
    "##### Define\n",
    "\n",
    "There are some dogs are named using \"his/her name is\".\n",
    "\n",
    "##### Code"
   ]
  },
  {
   "cell_type": "code",
   "execution_count": 186,
   "metadata": {},
   "outputs": [],
   "source": [
    "for index, row in twitter.iterrows():\n",
    "    try:\n",
    "        l = row['text'].split('name is')\n",
    "        name = l[1].split(\".\")[0]\n",
    "        twitter.loc[index,'name'] = name\n",
    "    except:\n",
    "        pass\n",
    "    try:\n",
    "        l1 = row['text'].split('names are')\n",
    "        name1 = l1[1].split(\".\")[0].split('and')\n",
    "        twitter.loc[index,'name'] = ','.join(name1)\n",
    "    except:\n",
    "        pass"
   ]
  },
  {
   "cell_type": "markdown",
   "metadata": {},
   "source": [
    "##### Test"
   ]
  },
  {
   "cell_type": "code",
   "execution_count": 53,
   "metadata": {},
   "outputs": [
    {
     "data": {
      "text/plain": [
       "None              653\n",
       "Charlie            11\n",
       "Tucker             10\n",
       "Penny              10\n",
       "Lucy               10\n",
       "Oliver             10\n",
       "Cooper             10\n",
       "Lola                8\n",
       "Bo                  8\n",
       "Winston             8\n",
       "Sadie               8\n",
       "Jax                 7\n",
       "Toby                7\n",
       "Daisy               7\n",
       "Scout               6\n",
       "Milo                6\n",
       "Bailey              6\n",
       "Dave                6\n",
       "Koda                6\n",
       "Bella               6\n",
       "Stanley             6\n",
       "Rusty               6\n",
       "Leo                 5\n",
       "Archie              5\n",
       "Larry               5\n",
       "Alfie               5\n",
       "Oscar               5\n",
       "Louis               5\n",
       "Chester             5\n",
       "Buddy               5\n",
       "                 ... \n",
       "Barclay             1\n",
       "Creg                1\n",
       "Maisey              1\n",
       "Billy               1\n",
       "Gerbald             1\n",
       "Lilli               1\n",
       "Crimson             1\n",
       "Ralphus             1\n",
       "Eriq                1\n",
       "Jamesy              1\n",
       "Zuzu                1\n",
       "Banditt             1\n",
       "Raphael             1\n",
       "Maxwell             1\n",
       "Jazzy               1\n",
       "Lulu                1\n",
       "Thor                1\n",
       "Stuart              1\n",
       "Meyer               1\n",
       "Michelangelope      1\n",
       "Sage                1\n",
       "Stewie              1\n",
       "Remus               1\n",
       "Dale                1\n",
       "Obie                1\n",
       "Miguel              1\n",
       "Snoop               1\n",
       "Rhino               1\n",
       "Geno                1\n",
       "Vince               1\n",
       "Name: name, Length: 937, dtype: int64"
      ]
     },
     "metadata": {},
     "output_type": "display_data"
    }
   ],
   "source": [
    "display(twitter.name.value_counts())"
   ]
  },
  {
   "cell_type": "markdown",
   "metadata": {},
   "source": [
    "### 9. The Dogs' Stage\n",
    "\n",
    "##### Define\n",
    "There are four stages: doggo, puppo, pupper and floofer. We need to combine the columns.\n",
    "\n",
    "##### Code"
   ]
  },
  {
   "cell_type": "code",
   "execution_count": 56,
   "metadata": {},
   "outputs": [],
   "source": [
    "twitter['stage'] = 'None'\n",
    "for index, row in twitter.iterrows():\n",
    "    try: \n",
    "        l = row['text'].split()\n",
    "        for i in ['doggo','puppo','pup','pups','pupper','floofer','doggos','puppos','puppers','floofers']:\n",
    "            if i in l:\n",
    "                twitter.loc[index,'stage'] = i\n",
    "    except:\n",
    "        pass    "
   ]
  },
  {
   "cell_type": "markdown",
   "metadata": {},
   "source": [
    "##### Test"
   ]
  },
  {
   "cell_type": "code",
   "execution_count": 188,
   "metadata": {},
   "outputs": [
    {
     "data": {
      "text/plain": [
       "None       1659\n",
       "pupper     140 \n",
       "pup        90  \n",
       "doggo      44  \n",
       "pups       15  \n",
       "puppo      14  \n",
       "puppers    11  \n",
       "doggos     4   \n",
       "floofer    2   \n",
       "Name: stage, dtype: int64"
      ]
     },
     "execution_count": 188,
     "metadata": {},
     "output_type": "execute_result"
    }
   ],
   "source": [
    "twitter.stage.value_counts()"
   ]
  },
  {
   "cell_type": "markdown",
   "metadata": {},
   "source": [
    "##### Define\n",
    "\n",
    "Now we need to merge all the different names of the same groups.\n",
    "\n",
    "##### Code"
   ]
  },
  {
   "cell_type": "code",
   "execution_count": 57,
   "metadata": {},
   "outputs": [],
   "source": [
    "def change_stage(s):\n",
    "    if s in ['doggos','puppos','floofers','puppers','pups']:\n",
    "        s = s[:-1]\n",
    "    if s == 'pup':\n",
    "        s = 'pupper'\n",
    "    return(s)\n",
    "twitter.stage = twitter.stage.apply(change_stage)"
   ]
  },
  {
   "cell_type": "code",
   "execution_count": 58,
   "metadata": {},
   "outputs": [],
   "source": [
    "twitter = twitter.drop(['doggo','puppo','pupper','floofer'],axis =1)"
   ]
  },
  {
   "cell_type": "markdown",
   "metadata": {},
   "source": [
    "##### Test"
   ]
  },
  {
   "cell_type": "code",
   "execution_count": 60,
   "metadata": {},
   "outputs": [
    {
     "data": {
      "text/plain": [
       "None       1743\n",
       "pupper      269\n",
       "doggo        49\n",
       "puppo        14\n",
       "floofer       2\n",
       "Name: stage, dtype: int64"
      ]
     },
     "execution_count": 60,
     "metadata": {},
     "output_type": "execute_result"
    }
   ],
   "source": [
    "twitter.stage.value_counts()"
   ]
  },
  {
   "cell_type": "markdown",
   "metadata": {},
   "source": [
    "### 10. Make All Texts in One Line"
   ]
  },
  {
   "cell_type": "markdown",
   "metadata": {},
   "source": [
    "##### Define\n",
    "Some texts are written in separate lines. (Separated by \"\\n\")\n",
    "##### Code"
   ]
  },
  {
   "cell_type": "code",
   "execution_count": 192,
   "metadata": {},
   "outputs": [],
   "source": [
    "def one_line(s):\n",
    "    return(' '.join(s.split('\\n')))\n",
    "twitter.text = twitter.text.apply(one_line)"
   ]
  },
  {
   "cell_type": "markdown",
   "metadata": {},
   "source": [
    "##### Test"
   ]
  },
  {
   "cell_type": "code",
   "execution_count": 62,
   "metadata": {},
   "outputs": [
    {
     "data": {
      "text/plain": [
       "0    Here we have a Japanese Irish Setter. Lost eye...\n",
       "1    This is a western brown Mitsubishi terrier. Up...\n",
       "2    Here is a very happy pup. Big fan of well-main...\n",
       "3    This is a purebred Piers Morgan. Loves to Netf...\n",
       "4    Here we have a 1949 1st generation vulpix. Enj...\n",
       "5    This is a truly beautiful English Wilson Staff...\n",
       "6    This is an odd dog. Hard on the outside but lo...\n",
       "7    Here is a Siberian heavily armored polar bear ...\n",
       "8    My oh my. This is a rare blond Canadian terrie...\n",
       "9    Here is the Rand Paul of retrievers folks! He'...\n",
       "Name: text, dtype: object"
      ]
     },
     "execution_count": 62,
     "metadata": {},
     "output_type": "execute_result"
    }
   ],
   "source": [
    "twitter.text.head(10)"
   ]
  },
  {
   "cell_type": "markdown",
   "metadata": {},
   "source": [
    "### 11. Extract the Source From the HTML Tags\n",
    "##### Define\n",
    "The source is between two tags, which need to be removed."
   ]
  },
  {
   "cell_type": "code",
   "execution_count": 63,
   "metadata": {},
   "outputs": [
    {
     "data": {
      "text/plain": [
       "0    <a href=\"http://twitter.com/download/iphone\" r...\n",
       "1    <a href=\"http://twitter.com/download/iphone\" r...\n",
       "2    <a href=\"http://twitter.com/download/iphone\" r...\n",
       "3    <a href=\"http://twitter.com/download/iphone\" r...\n",
       "4    <a href=\"http://twitter.com/download/iphone\" r...\n",
       "5    <a href=\"http://twitter.com/download/iphone\" r...\n",
       "6    <a href=\"http://twitter.com/download/iphone\" r...\n",
       "7    <a href=\"http://twitter.com/download/iphone\" r...\n",
       "8    <a href=\"http://twitter.com/download/iphone\" r...\n",
       "9    <a href=\"http://twitter.com/download/iphone\" r...\n",
       "Name: source, dtype: object"
      ]
     },
     "execution_count": 63,
     "metadata": {},
     "output_type": "execute_result"
    }
   ],
   "source": [
    "twitter.source.head(10)"
   ]
  },
  {
   "cell_type": "markdown",
   "metadata": {},
   "source": [
    "##### Code"
   ]
  },
  {
   "cell_type": "code",
   "execution_count": 64,
   "metadata": {},
   "outputs": [],
   "source": [
    "def extract_from_tags(s):\n",
    "    return(re.findall(r'>(.*?)<',s)[0])\n",
    "twitter.source = twitter.source.apply(extract_from_tags)"
   ]
  },
  {
   "cell_type": "markdown",
   "metadata": {},
   "source": [
    "##### Test"
   ]
  },
  {
   "cell_type": "code",
   "execution_count": 65,
   "metadata": {},
   "outputs": [
    {
     "data": {
      "text/plain": [
       "0    Twitter for iPhone\n",
       "1    Twitter for iPhone\n",
       "2    Twitter for iPhone\n",
       "3    Twitter for iPhone\n",
       "4    Twitter for iPhone\n",
       "5    Twitter for iPhone\n",
       "6    Twitter for iPhone\n",
       "7    Twitter for iPhone\n",
       "8    Twitter for iPhone\n",
       "9    Twitter for iPhone\n",
       "Name: source, dtype: object"
      ]
     },
     "execution_count": 65,
     "metadata": {},
     "output_type": "execute_result"
    }
   ],
   "source": [
    "twitter.source.head(10)"
   ]
  },
  {
   "cell_type": "markdown",
   "metadata": {},
   "source": [
    "### 12. Change Column Names"
   ]
  },
  {
   "cell_type": "markdown",
   "metadata": {},
   "source": [
    "##### Define"
   ]
  },
  {
   "cell_type": "code",
   "execution_count": 67,
   "metadata": {},
   "outputs": [
    {
     "data": {
      "text/plain": [
       "Index(['tweet_id', 'jpg_url', 'img_num', 'p1', 'p1_conf', 'p1_dog', 'p2',\n",
       "       'p2_conf', 'p2_dog', 'p3', 'p3_conf', 'p3_dog', 'in_reply_to_status_id',\n",
       "       'in_reply_to_user_id', 'source', 'text', 'retweeted_status_id',\n",
       "       'retweeted_status_user_id', 'retweeted_status_timestamp',\n",
       "       'expanded_urls', 'name', 'retweets', 'likes', 'Date', 'Time', 'score',\n",
       "       'link', 'stage'],\n",
       "      dtype='object')"
      ]
     },
     "execution_count": 67,
     "metadata": {},
     "output_type": "execute_result"
    }
   ],
   "source": [
    "twitter.columns "
   ]
  },
  {
   "cell_type": "markdown",
   "metadata": {},
   "source": [
    "##### Code"
   ]
  },
  {
   "cell_type": "code",
   "execution_count": 71,
   "metadata": {},
   "outputs": [],
   "source": [
    "twitter.columns = ['Tweet_ID', 'Jpg_url', 'Img_number', 'Prediction_1', 'P1_confidence', 'P1_is_dog', 'Prediction_2',\n",
    "       'P2_confidence', 'P2_is_dog', 'Prediction_3', 'P3_confidence', 'P3_is_dog', 'Source',\n",
    "       'Text', 'Expanded_urls', 'Name', 'Retweets_number', 'Likes_number' , 'Date', 'Time', 'Score', 'Link',\n",
    "       'Stage']"
   ]
  },
  {
   "cell_type": "markdown",
   "metadata": {},
   "source": [
    "##### Test"
   ]
  },
  {
   "cell_type": "code",
   "execution_count": 72,
   "metadata": {},
   "outputs": [
    {
     "name": "stdout",
     "output_type": "stream",
     "text": [
      "<class 'pandas.core.frame.DataFrame'>\n",
      "Int64Index: 1979 entries, 0 to 2076\n",
      "Data columns (total 23 columns):\n",
      "Tweet_ID           1979 non-null object\n",
      "Jpg_url            1979 non-null object\n",
      "Img_number         1979 non-null int64\n",
      "Prediction_1       1979 non-null object\n",
      "P1_confidence      1979 non-null float64\n",
      "P1_is_dog          1979 non-null bool\n",
      "Prediction_2       1979 non-null object\n",
      "P2_confidence      1979 non-null float64\n",
      "P2_is_dog          1979 non-null bool\n",
      "Prediction_3       1979 non-null object\n",
      "P3_confidence      1979 non-null float64\n",
      "P3_is_dog          1979 non-null bool\n",
      "Source             1979 non-null object\n",
      "Text               1979 non-null object\n",
      "Expanded_urls      1979 non-null object\n",
      "Name               1979 non-null object\n",
      "Retweets_number    1979 non-null int64\n",
      "Likes_number       1979 non-null int64\n",
      "Date               1979 non-null object\n",
      "Time               1979 non-null object\n",
      "Score              1979 non-null float64\n",
      "Link               1979 non-null object\n",
      "Stage              1979 non-null object\n",
      "dtypes: bool(3), float64(4), int64(3), object(13)\n",
      "memory usage: 330.5+ KB\n"
     ]
    }
   ],
   "source": [
    "twitter.info()"
   ]
  },
  {
   "cell_type": "markdown",
   "metadata": {},
   "source": [
    "# Final File"
   ]
  },
  {
   "cell_type": "code",
   "execution_count": 196,
   "metadata": {},
   "outputs": [],
   "source": [
    "twitter.to_csv('twitter_archive_master.csv')"
   ]
  },
  {
   "cell_type": "markdown",
   "metadata": {},
   "source": [
    "# Visualization"
   ]
  },
  {
   "cell_type": "code",
   "execution_count": 202,
   "metadata": {},
   "outputs": [],
   "source": [
    "from bokeh.plotting import figure\n",
    "from bokeh.io import output_notebook, push_notebook, show"
   ]
  },
  {
   "cell_type": "code",
   "execution_count": 214,
   "metadata": {},
   "outputs": [
    {
     "data": {
      "text/html": [
       "\n",
       "    <div class=\"bk-root\">\n",
       "        <a href=\"https://bokeh.pydata.org\" target=\"_blank\" class=\"bk-logo bk-logo-small bk-logo-notebook\"></a>\n",
       "        <span id=\"a9be25a7-6db7-4fbf-a7d1-0fca38d887c1\">Loading BokehJS ...</span>\n",
       "    </div>"
      ]
     },
     "metadata": {},
     "output_type": "display_data"
    },
    {
     "data": {
      "application/javascript": [
       "\n",
       "(function(root) {\n",
       "  function now() {\n",
       "    return new Date();\n",
       "  }\n",
       "\n",
       "  var force = true;\n",
       "\n",
       "  if (typeof (root._bokeh_onload_callbacks) === \"undefined\" || force === true) {\n",
       "    root._bokeh_onload_callbacks = [];\n",
       "    root._bokeh_is_loading = undefined;\n",
       "  }\n",
       "\n",
       "  var JS_MIME_TYPE = 'application/javascript';\n",
       "  var HTML_MIME_TYPE = 'text/html';\n",
       "  var EXEC_MIME_TYPE = 'application/vnd.bokehjs_exec.v0+json';\n",
       "  var CLASS_NAME = 'output_bokeh rendered_html';\n",
       "\n",
       "  /**\n",
       "   * Render data to the DOM node\n",
       "   */\n",
       "  function render(props, node) {\n",
       "    var script = document.createElement(\"script\");\n",
       "    node.appendChild(script);\n",
       "  }\n",
       "\n",
       "  /**\n",
       "   * Handle when an output is cleared or removed\n",
       "   */\n",
       "  function handleClearOutput(event, handle) {\n",
       "    var cell = handle.cell;\n",
       "\n",
       "    var id = cell.output_area._bokeh_element_id;\n",
       "    var server_id = cell.output_area._bokeh_server_id;\n",
       "    // Clean up Bokeh references\n",
       "    if (id !== undefined) {\n",
       "      Bokeh.index[id].model.document.clear();\n",
       "      delete Bokeh.index[id];\n",
       "    }\n",
       "\n",
       "    if (server_id !== undefined) {\n",
       "      // Clean up Bokeh references\n",
       "      var cmd = \"from bokeh.io.state import curstate; print(curstate().uuid_to_server['\" + server_id + \"'].get_sessions()[0].document.roots[0]._id)\";\n",
       "      cell.notebook.kernel.execute(cmd, {\n",
       "        iopub: {\n",
       "          output: function(msg) {\n",
       "            var element_id = msg.content.text.trim();\n",
       "            Bokeh.index[element_id].model.document.clear();\n",
       "            delete Bokeh.index[element_id];\n",
       "          }\n",
       "        }\n",
       "      });\n",
       "      // Destroy server and session\n",
       "      var cmd = \"import bokeh.io.notebook as ion; ion.destroy_server('\" + server_id + \"')\";\n",
       "      cell.notebook.kernel.execute(cmd);\n",
       "    }\n",
       "  }\n",
       "\n",
       "  /**\n",
       "   * Handle when a new output is added\n",
       "   */\n",
       "  function handleAddOutput(event, handle) {\n",
       "    var output_area = handle.output_area;\n",
       "    var output = handle.output;\n",
       "\n",
       "    // limit handleAddOutput to display_data with EXEC_MIME_TYPE content only\n",
       "    if ((output.output_type != \"display_data\") || (!output.data.hasOwnProperty(EXEC_MIME_TYPE))) {\n",
       "      return\n",
       "    }\n",
       "\n",
       "    var toinsert = output_area.element.find(\".\" + CLASS_NAME.split(' ')[0]);\n",
       "\n",
       "    if (output.metadata[EXEC_MIME_TYPE][\"id\"] !== undefined) {\n",
       "      toinsert[0].firstChild.textContent = output.data[JS_MIME_TYPE];\n",
       "      // store reference to embed id on output_area\n",
       "      output_area._bokeh_element_id = output.metadata[EXEC_MIME_TYPE][\"id\"];\n",
       "    }\n",
       "    if (output.metadata[EXEC_MIME_TYPE][\"server_id\"] !== undefined) {\n",
       "      var bk_div = document.createElement(\"div\");\n",
       "      bk_div.innerHTML = output.data[HTML_MIME_TYPE];\n",
       "      var script_attrs = bk_div.children[0].attributes;\n",
       "      for (var i = 0; i < script_attrs.length; i++) {\n",
       "        toinsert[0].firstChild.setAttribute(script_attrs[i].name, script_attrs[i].value);\n",
       "      }\n",
       "      // store reference to server id on output_area\n",
       "      output_area._bokeh_server_id = output.metadata[EXEC_MIME_TYPE][\"server_id\"];\n",
       "    }\n",
       "  }\n",
       "\n",
       "  function register_renderer(events, OutputArea) {\n",
       "\n",
       "    function append_mime(data, metadata, element) {\n",
       "      // create a DOM node to render to\n",
       "      var toinsert = this.create_output_subarea(\n",
       "        metadata,\n",
       "        CLASS_NAME,\n",
       "        EXEC_MIME_TYPE\n",
       "      );\n",
       "      this.keyboard_manager.register_events(toinsert);\n",
       "      // Render to node\n",
       "      var props = {data: data, metadata: metadata[EXEC_MIME_TYPE]};\n",
       "      render(props, toinsert[0]);\n",
       "      element.append(toinsert);\n",
       "      return toinsert\n",
       "    }\n",
       "\n",
       "    /* Handle when an output is cleared or removed */\n",
       "    events.on('clear_output.CodeCell', handleClearOutput);\n",
       "    events.on('delete.Cell', handleClearOutput);\n",
       "\n",
       "    /* Handle when a new output is added */\n",
       "    events.on('output_added.OutputArea', handleAddOutput);\n",
       "\n",
       "    /**\n",
       "     * Register the mime type and append_mime function with output_area\n",
       "     */\n",
       "    OutputArea.prototype.register_mime_type(EXEC_MIME_TYPE, append_mime, {\n",
       "      /* Is output safe? */\n",
       "      safe: true,\n",
       "      /* Index of renderer in `output_area.display_order` */\n",
       "      index: 0\n",
       "    });\n",
       "  }\n",
       "\n",
       "  // register the mime type if in Jupyter Notebook environment and previously unregistered\n",
       "  if (root.Jupyter !== undefined) {\n",
       "    var events = require('base/js/events');\n",
       "    var OutputArea = require('notebook/js/outputarea').OutputArea;\n",
       "\n",
       "    if (OutputArea.prototype.mime_types().indexOf(EXEC_MIME_TYPE) == -1) {\n",
       "      register_renderer(events, OutputArea);\n",
       "    }\n",
       "  }\n",
       "\n",
       "  \n",
       "  if (typeof (root._bokeh_timeout) === \"undefined\" || force === true) {\n",
       "    root._bokeh_timeout = Date.now() + 5000;\n",
       "    root._bokeh_failed_load = false;\n",
       "  }\n",
       "\n",
       "  var NB_LOAD_WARNING = {'data': {'text/html':\n",
       "     \"<div style='background-color: #fdd'>\\n\"+\n",
       "     \"<p>\\n\"+\n",
       "     \"BokehJS does not appear to have successfully loaded. If loading BokehJS from CDN, this \\n\"+\n",
       "     \"may be due to a slow or bad network connection. Possible fixes:\\n\"+\n",
       "     \"</p>\\n\"+\n",
       "     \"<ul>\\n\"+\n",
       "     \"<li>re-rerun `output_notebook()` to attempt to load from CDN again, or</li>\\n\"+\n",
       "     \"<li>use INLINE resources instead, as so:</li>\\n\"+\n",
       "     \"</ul>\\n\"+\n",
       "     \"<code>\\n\"+\n",
       "     \"from bokeh.resources import INLINE\\n\"+\n",
       "     \"output_notebook(resources=INLINE)\\n\"+\n",
       "     \"</code>\\n\"+\n",
       "     \"</div>\"}};\n",
       "\n",
       "  function display_loaded() {\n",
       "    var el = document.getElementById(\"a9be25a7-6db7-4fbf-a7d1-0fca38d887c1\");\n",
       "    if (el != null) {\n",
       "      el.textContent = \"BokehJS is loading...\";\n",
       "    }\n",
       "    if (root.Bokeh !== undefined) {\n",
       "      if (el != null) {\n",
       "        el.textContent = \"BokehJS \" + root.Bokeh.version + \" successfully loaded.\";\n",
       "      }\n",
       "    } else if (Date.now() < root._bokeh_timeout) {\n",
       "      setTimeout(display_loaded, 100)\n",
       "    }\n",
       "  }\n",
       "\n",
       "\n",
       "  function run_callbacks() {\n",
       "    try {\n",
       "      root._bokeh_onload_callbacks.forEach(function(callback) { callback() });\n",
       "    }\n",
       "    finally {\n",
       "      delete root._bokeh_onload_callbacks\n",
       "    }\n",
       "    console.info(\"Bokeh: all callbacks have finished\");\n",
       "  }\n",
       "\n",
       "  function load_libs(js_urls, callback) {\n",
       "    root._bokeh_onload_callbacks.push(callback);\n",
       "    if (root._bokeh_is_loading > 0) {\n",
       "      console.log(\"Bokeh: BokehJS is being loaded, scheduling callback at\", now());\n",
       "      return null;\n",
       "    }\n",
       "    if (js_urls == null || js_urls.length === 0) {\n",
       "      run_callbacks();\n",
       "      return null;\n",
       "    }\n",
       "    console.log(\"Bokeh: BokehJS not loaded, scheduling load and callback at\", now());\n",
       "    root._bokeh_is_loading = js_urls.length;\n",
       "    for (var i = 0; i < js_urls.length; i++) {\n",
       "      var url = js_urls[i];\n",
       "      var s = document.createElement('script');\n",
       "      s.src = url;\n",
       "      s.async = false;\n",
       "      s.onreadystatechange = s.onload = function() {\n",
       "        root._bokeh_is_loading--;\n",
       "        if (root._bokeh_is_loading === 0) {\n",
       "          console.log(\"Bokeh: all BokehJS libraries loaded\");\n",
       "          run_callbacks()\n",
       "        }\n",
       "      };\n",
       "      s.onerror = function() {\n",
       "        console.warn(\"failed to load library \" + url);\n",
       "      };\n",
       "      console.log(\"Bokeh: injecting script tag for BokehJS library: \", url);\n",
       "      document.getElementsByTagName(\"head\")[0].appendChild(s);\n",
       "    }\n",
       "  };var element = document.getElementById(\"a9be25a7-6db7-4fbf-a7d1-0fca38d887c1\");\n",
       "  if (element == null) {\n",
       "    console.log(\"Bokeh: ERROR: autoload.js configured with elementid 'a9be25a7-6db7-4fbf-a7d1-0fca38d887c1' but no matching script tag was found. \")\n",
       "    return false;\n",
       "  }\n",
       "\n",
       "  var js_urls = [\"https://cdn.pydata.org/bokeh/release/bokeh-0.12.14.min.js\", \"https://cdn.pydata.org/bokeh/release/bokeh-widgets-0.12.14.min.js\", \"https://cdn.pydata.org/bokeh/release/bokeh-tables-0.12.14.min.js\", \"https://cdn.pydata.org/bokeh/release/bokeh-gl-0.12.14.min.js\"];\n",
       "\n",
       "  var inline_js = [\n",
       "    function(Bokeh) {\n",
       "      Bokeh.set_log_level(\"info\");\n",
       "    },\n",
       "    \n",
       "    function(Bokeh) {\n",
       "      \n",
       "    },\n",
       "    function(Bokeh) {\n",
       "      console.log(\"Bokeh: injecting CSS: https://cdn.pydata.org/bokeh/release/bokeh-0.12.14.min.css\");\n",
       "      Bokeh.embed.inject_css(\"https://cdn.pydata.org/bokeh/release/bokeh-0.12.14.min.css\");\n",
       "      console.log(\"Bokeh: injecting CSS: https://cdn.pydata.org/bokeh/release/bokeh-widgets-0.12.14.min.css\");\n",
       "      Bokeh.embed.inject_css(\"https://cdn.pydata.org/bokeh/release/bokeh-widgets-0.12.14.min.css\");\n",
       "      console.log(\"Bokeh: injecting CSS: https://cdn.pydata.org/bokeh/release/bokeh-tables-0.12.14.min.css\");\n",
       "      Bokeh.embed.inject_css(\"https://cdn.pydata.org/bokeh/release/bokeh-tables-0.12.14.min.css\");\n",
       "    }\n",
       "  ];\n",
       "\n",
       "  function run_inline_js() {\n",
       "    \n",
       "    if ((root.Bokeh !== undefined) || (force === true)) {\n",
       "      for (var i = 0; i < inline_js.length; i++) {\n",
       "        inline_js[i].call(root, root.Bokeh);\n",
       "      }if (force === true) {\n",
       "        display_loaded();\n",
       "      }} else if (Date.now() < root._bokeh_timeout) {\n",
       "      setTimeout(run_inline_js, 100);\n",
       "    } else if (!root._bokeh_failed_load) {\n",
       "      console.log(\"Bokeh: BokehJS failed to load within specified timeout.\");\n",
       "      root._bokeh_failed_load = true;\n",
       "    } else if (force !== true) {\n",
       "      var cell = $(document.getElementById(\"a9be25a7-6db7-4fbf-a7d1-0fca38d887c1\")).parents('.cell').data().cell;\n",
       "      cell.output_area.append_execute_result(NB_LOAD_WARNING)\n",
       "    }\n",
       "\n",
       "  }\n",
       "\n",
       "  if (root._bokeh_is_loading === 0) {\n",
       "    console.log(\"Bokeh: BokehJS loaded, going straight to plotting\");\n",
       "    run_inline_js();\n",
       "  } else {\n",
       "    load_libs(js_urls, function() {\n",
       "      console.log(\"Bokeh: BokehJS plotting callback run at\", now());\n",
       "      run_inline_js();\n",
       "    });\n",
       "  }\n",
       "}(window));"
      ],
      "application/vnd.bokehjs_load.v0+json": "\n(function(root) {\n  function now() {\n    return new Date();\n  }\n\n  var force = true;\n\n  if (typeof (root._bokeh_onload_callbacks) === \"undefined\" || force === true) {\n    root._bokeh_onload_callbacks = [];\n    root._bokeh_is_loading = undefined;\n  }\n\n  \n\n  \n  if (typeof (root._bokeh_timeout) === \"undefined\" || force === true) {\n    root._bokeh_timeout = Date.now() + 5000;\n    root._bokeh_failed_load = false;\n  }\n\n  var NB_LOAD_WARNING = {'data': {'text/html':\n     \"<div style='background-color: #fdd'>\\n\"+\n     \"<p>\\n\"+\n     \"BokehJS does not appear to have successfully loaded. If loading BokehJS from CDN, this \\n\"+\n     \"may be due to a slow or bad network connection. Possible fixes:\\n\"+\n     \"</p>\\n\"+\n     \"<ul>\\n\"+\n     \"<li>re-rerun `output_notebook()` to attempt to load from CDN again, or</li>\\n\"+\n     \"<li>use INLINE resources instead, as so:</li>\\n\"+\n     \"</ul>\\n\"+\n     \"<code>\\n\"+\n     \"from bokeh.resources import INLINE\\n\"+\n     \"output_notebook(resources=INLINE)\\n\"+\n     \"</code>\\n\"+\n     \"</div>\"}};\n\n  function display_loaded() {\n    var el = document.getElementById(\"a9be25a7-6db7-4fbf-a7d1-0fca38d887c1\");\n    if (el != null) {\n      el.textContent = \"BokehJS is loading...\";\n    }\n    if (root.Bokeh !== undefined) {\n      if (el != null) {\n        el.textContent = \"BokehJS \" + root.Bokeh.version + \" successfully loaded.\";\n      }\n    } else if (Date.now() < root._bokeh_timeout) {\n      setTimeout(display_loaded, 100)\n    }\n  }\n\n\n  function run_callbacks() {\n    try {\n      root._bokeh_onload_callbacks.forEach(function(callback) { callback() });\n    }\n    finally {\n      delete root._bokeh_onload_callbacks\n    }\n    console.info(\"Bokeh: all callbacks have finished\");\n  }\n\n  function load_libs(js_urls, callback) {\n    root._bokeh_onload_callbacks.push(callback);\n    if (root._bokeh_is_loading > 0) {\n      console.log(\"Bokeh: BokehJS is being loaded, scheduling callback at\", now());\n      return null;\n    }\n    if (js_urls == null || js_urls.length === 0) {\n      run_callbacks();\n      return null;\n    }\n    console.log(\"Bokeh: BokehJS not loaded, scheduling load and callback at\", now());\n    root._bokeh_is_loading = js_urls.length;\n    for (var i = 0; i < js_urls.length; i++) {\n      var url = js_urls[i];\n      var s = document.createElement('script');\n      s.src = url;\n      s.async = false;\n      s.onreadystatechange = s.onload = function() {\n        root._bokeh_is_loading--;\n        if (root._bokeh_is_loading === 0) {\n          console.log(\"Bokeh: all BokehJS libraries loaded\");\n          run_callbacks()\n        }\n      };\n      s.onerror = function() {\n        console.warn(\"failed to load library \" + url);\n      };\n      console.log(\"Bokeh: injecting script tag for BokehJS library: \", url);\n      document.getElementsByTagName(\"head\")[0].appendChild(s);\n    }\n  };var element = document.getElementById(\"a9be25a7-6db7-4fbf-a7d1-0fca38d887c1\");\n  if (element == null) {\n    console.log(\"Bokeh: ERROR: autoload.js configured with elementid 'a9be25a7-6db7-4fbf-a7d1-0fca38d887c1' but no matching script tag was found. \")\n    return false;\n  }\n\n  var js_urls = [\"https://cdn.pydata.org/bokeh/release/bokeh-0.12.14.min.js\", \"https://cdn.pydata.org/bokeh/release/bokeh-widgets-0.12.14.min.js\", \"https://cdn.pydata.org/bokeh/release/bokeh-tables-0.12.14.min.js\", \"https://cdn.pydata.org/bokeh/release/bokeh-gl-0.12.14.min.js\"];\n\n  var inline_js = [\n    function(Bokeh) {\n      Bokeh.set_log_level(\"info\");\n    },\n    \n    function(Bokeh) {\n      \n    },\n    function(Bokeh) {\n      console.log(\"Bokeh: injecting CSS: https://cdn.pydata.org/bokeh/release/bokeh-0.12.14.min.css\");\n      Bokeh.embed.inject_css(\"https://cdn.pydata.org/bokeh/release/bokeh-0.12.14.min.css\");\n      console.log(\"Bokeh: injecting CSS: https://cdn.pydata.org/bokeh/release/bokeh-widgets-0.12.14.min.css\");\n      Bokeh.embed.inject_css(\"https://cdn.pydata.org/bokeh/release/bokeh-widgets-0.12.14.min.css\");\n      console.log(\"Bokeh: injecting CSS: https://cdn.pydata.org/bokeh/release/bokeh-tables-0.12.14.min.css\");\n      Bokeh.embed.inject_css(\"https://cdn.pydata.org/bokeh/release/bokeh-tables-0.12.14.min.css\");\n    }\n  ];\n\n  function run_inline_js() {\n    \n    if ((root.Bokeh !== undefined) || (force === true)) {\n      for (var i = 0; i < inline_js.length; i++) {\n        inline_js[i].call(root, root.Bokeh);\n      }if (force === true) {\n        display_loaded();\n      }} else if (Date.now() < root._bokeh_timeout) {\n      setTimeout(run_inline_js, 100);\n    } else if (!root._bokeh_failed_load) {\n      console.log(\"Bokeh: BokehJS failed to load within specified timeout.\");\n      root._bokeh_failed_load = true;\n    } else if (force !== true) {\n      var cell = $(document.getElementById(\"a9be25a7-6db7-4fbf-a7d1-0fca38d887c1\")).parents('.cell').data().cell;\n      cell.output_area.append_execute_result(NB_LOAD_WARNING)\n    }\n\n  }\n\n  if (root._bokeh_is_loading === 0) {\n    console.log(\"Bokeh: BokehJS loaded, going straight to plotting\");\n    run_inline_js();\n  } else {\n    load_libs(js_urls, function() {\n      console.log(\"Bokeh: BokehJS plotting callback run at\", now());\n      run_inline_js();\n    });\n  }\n}(window));"
     },
     "metadata": {},
     "output_type": "display_data"
    },
    {
     "data": {
      "text/html": [
       "\n",
       "<div class=\"bk-root\">\n",
       "    <div class=\"bk-plotdiv\" id=\"7099e126-8050-4433-b1d0-8fd0ea49da80\"></div>\n",
       "</div>"
      ]
     },
     "metadata": {},
     "output_type": "display_data"
    },
    {
     "data": {
      "application/javascript": [
       "(function(root) {\n",
       "  function embed_document(root) {\n",
       "    \n",
       "  var docs_json = {\"95c46732-0cb2-47c0-8e72-cd5c8bfb13d5\":{\"roots\":{\"references\":[{\"attributes\":{\"bottom_units\":\"screen\",\"fill_alpha\":{\"value\":0.5},\"fill_color\":{\"value\":\"lightgrey\"},\"left_units\":\"screen\",\"level\":\"overlay\",\"line_alpha\":{\"value\":1.0},\"line_color\":{\"value\":\"black\"},\"line_dash\":[4,4],\"line_width\":{\"value\":2},\"plot\":null,\"render_mode\":\"css\",\"right_units\":\"screen\",\"top_units\":\"screen\"},\"id\":\"17588359-4935-4089-b9ce-2d0edca53bc5\",\"type\":\"BoxAnnotation\"},{\"attributes\":{},\"id\":\"5084bd84-d796-4645-a968-17fae74d54db\",\"type\":\"UndoTool\"},{\"attributes\":{},\"id\":\"8ef0e4e8-a4b4-4c71-bc82-251a1477b9c8\",\"type\":\"BasicTickFormatter\"},{\"attributes\":{},\"id\":\"b2273be4-2206-477e-8d4d-1a0cf49cfb03\",\"type\":\"RedoTool\"},{\"attributes\":{},\"id\":\"caae9b3f-0740-4e9e-bddc-030d98b95356\",\"type\":\"ResetTool\"},{\"attributes\":{\"callback\":null},\"id\":\"16677261-d40d-4f59-8df6-8e73918fead6\",\"type\":\"TapTool\"},{\"attributes\":{},\"id\":\"9c990db1-0c4a-4a62-87c0-24e702b19b5a\",\"type\":\"SaveTool\"},{\"attributes\":{\"callback\":null,\"overlay\":{\"id\":\"512ece97-9854-4c7e-8755-0bdca56a8bb2\",\"type\":\"BoxAnnotation\"},\"renderers\":[{\"id\":\"3c8ceb25-f3ad-44bc-9bfa-bb97f9115f84\",\"type\":\"GlyphRenderer\"}]},\"id\":\"a691a489-9ecd-4c3f-a143-af877525bb4e\",\"type\":\"BoxSelectTool\"},{\"attributes\":{\"callback\":null,\"overlay\":{\"id\":\"e95c6cb9-7e49-4009-8bcb-70e08733fe8d\",\"type\":\"PolyAnnotation\"}},\"id\":\"02ebd76a-ac75-4cdb-aa2b-018a221ed015\",\"type\":\"PolySelectTool\"},{\"attributes\":{\"callback\":null,\"overlay\":{\"id\":\"0e8e2230-5cd2-4d4e-9856-5f30335897e7\",\"type\":\"PolyAnnotation\"}},\"id\":\"e51ca1fb-9766-4707-87b7-b8b0380e6b14\",\"type\":\"LassoSelectTool\"},{\"attributes\":{\"fill_alpha\":{\"value\":0.5},\"fill_color\":{\"value\":\"lightgrey\"},\"level\":\"overlay\",\"line_alpha\":{\"value\":1.0},\"line_color\":{\"value\":\"black\"},\"line_dash\":[4,4],\"line_width\":{\"value\":2},\"plot\":null,\"xs_units\":\"screen\",\"ys_units\":\"screen\"},\"id\":\"e95c6cb9-7e49-4009-8bcb-70e08733fe8d\",\"type\":\"PolyAnnotation\"},{\"attributes\":{\"fill_alpha\":{\"value\":0.5},\"fill_color\":{\"value\":\"lightgrey\"},\"level\":\"overlay\",\"line_alpha\":{\"value\":1.0},\"line_color\":{\"value\":\"black\"},\"line_dash\":[4,4],\"line_width\":{\"value\":2},\"plot\":null,\"xs_units\":\"screen\",\"ys_units\":\"screen\"},\"id\":\"0e8e2230-5cd2-4d4e-9856-5f30335897e7\",\"type\":\"PolyAnnotation\"},{\"attributes\":{\"bottom_units\":\"screen\",\"fill_alpha\":{\"value\":0.5},\"fill_color\":{\"value\":\"lightgrey\"},\"left_units\":\"screen\",\"level\":\"overlay\",\"line_alpha\":{\"value\":1.0},\"line_color\":{\"value\":\"black\"},\"line_dash\":[4,4],\"line_width\":{\"value\":2},\"plot\":null,\"render_mode\":\"css\",\"right_units\":\"screen\",\"top_units\":\"screen\"},\"id\":\"512ece97-9854-4c7e-8755-0bdca56a8bb2\",\"type\":\"BoxAnnotation\"},{\"attributes\":{},\"id\":\"c532de89-c826-4325-afef-a4de37afd14b\",\"type\":\"LinearScale\"},{\"attributes\":{\"below\":[{\"id\":\"7b42b2eb-fd5c-4380-8ab9-19b02e811c4f\",\"type\":\"LinearAxis\"}],\"left\":[{\"id\":\"6565d9e1-2648-4e63-a707-de3b7025c382\",\"type\":\"LinearAxis\"}],\"renderers\":[{\"id\":\"7b42b2eb-fd5c-4380-8ab9-19b02e811c4f\",\"type\":\"LinearAxis\"},{\"id\":\"f992ad35-4d3c-4ca9-849e-f5ea38a2e52a\",\"type\":\"Grid\"},{\"id\":\"6565d9e1-2648-4e63-a707-de3b7025c382\",\"type\":\"LinearAxis\"},{\"id\":\"ce0081c0-03ba-4aa7-9668-34dd225dba6c\",\"type\":\"Grid\"},{\"id\":\"17588359-4935-4089-b9ce-2d0edca53bc5\",\"type\":\"BoxAnnotation\"},{\"id\":\"512ece97-9854-4c7e-8755-0bdca56a8bb2\",\"type\":\"BoxAnnotation\"},{\"id\":\"e95c6cb9-7e49-4009-8bcb-70e08733fe8d\",\"type\":\"PolyAnnotation\"},{\"id\":\"0e8e2230-5cd2-4d4e-9856-5f30335897e7\",\"type\":\"PolyAnnotation\"},{\"id\":\"3c8ceb25-f3ad-44bc-9bfa-bb97f9115f84\",\"type\":\"GlyphRenderer\"}],\"title\":{\"id\":\"b5bd9881-3f6a-411a-b914-9ffe5b9b9a89\",\"type\":\"Title\"},\"toolbar\":{\"id\":\"7548e413-7fbe-44e4-926b-6c583412efe3\",\"type\":\"Toolbar\"},\"x_range\":{\"id\":\"4c50447b-b00d-453c-8741-f6d4919057e6\",\"type\":\"DataRange1d\"},\"x_scale\":{\"id\":\"98b07648-50c8-4c16-aac1-d17206b854d5\",\"type\":\"LinearScale\"},\"y_range\":{\"id\":\"ca5214b2-8403-4b30-9b4a-b6b6a60ddc7b\",\"type\":\"DataRange1d\"},\"y_scale\":{\"id\":\"c532de89-c826-4325-afef-a4de37afd14b\",\"type\":\"LinearScale\"}},\"id\":\"b79b03a7-a0c1-4fbf-bf80-5248cc3c37fb\",\"subtype\":\"Figure\",\"type\":\"Plot\"},{\"attributes\":{\"active_drag\":\"auto\",\"active_inspect\":\"auto\",\"active_scroll\":\"auto\",\"active_tap\":\"auto\",\"tools\":[{\"id\":\"86051089-60b6-4e9e-b6cb-ce567e8ca672\",\"type\":\"HoverTool\"},{\"id\":\"6a16702c-682a-46ef-a87c-361f51ef1371\",\"type\":\"CrosshairTool\"},{\"id\":\"4d88d368-b142-4c0d-a53b-1c0c5fa71abf\",\"type\":\"PanTool\"},{\"id\":\"22edd299-1a41-4edc-a057-2ef448fd74e3\",\"type\":\"WheelZoomTool\"},{\"id\":\"90d108f7-9859-4607-b811-4a5d2122c358\",\"type\":\"ZoomInTool\"},{\"id\":\"752d254f-960e-4277-a5f3-2373c0d42e19\",\"type\":\"ZoomOutTool\"},{\"id\":\"fbc68b67-1d01-48b9-95d6-64c9bdd7b0fb\",\"type\":\"BoxZoomTool\"},{\"id\":\"5084bd84-d796-4645-a968-17fae74d54db\",\"type\":\"UndoTool\"},{\"id\":\"b2273be4-2206-477e-8d4d-1a0cf49cfb03\",\"type\":\"RedoTool\"},{\"id\":\"caae9b3f-0740-4e9e-bddc-030d98b95356\",\"type\":\"ResetTool\"},{\"id\":\"16677261-d40d-4f59-8df6-8e73918fead6\",\"type\":\"TapTool\"},{\"id\":\"9c990db1-0c4a-4a62-87c0-24e702b19b5a\",\"type\":\"SaveTool\"},{\"id\":\"a691a489-9ecd-4c3f-a143-af877525bb4e\",\"type\":\"BoxSelectTool\"},{\"id\":\"02ebd76a-ac75-4cdb-aa2b-018a221ed015\",\"type\":\"PolySelectTool\"},{\"id\":\"e51ca1fb-9766-4707-87b7-b8b0380e6b14\",\"type\":\"LassoSelectTool\"}]},\"id\":\"7548e413-7fbe-44e4-926b-6c583412efe3\",\"type\":\"Toolbar\"},{\"attributes\":{\"callback\":null,\"column_names\":[\"x\",\"y\"],\"data\":{\"x\":[0,1,2,3,4,5,6,7,8,9,10,11,12,13,14,15,16,17,18,19,20,21,22,23,24,25,26,27,28,29,30,31,32,33,34,35,36,37,38,39,40,41,42,43,44,45,46,47,48,49,50,51,52,53,54,55,56,57,58,59,60,61,62,63,64,65,66,67,68,69,70,71,72,73,74,75,76,77,78,79,80,81,82,83,84,85,86,87,88,89,90,91,92,93,96,97,98,99,100,101,102,103,104,105,106,107,108,109,110,111,112,113,114,115,116,117,118,119,120,121,122,123,124,125,126,127,128,129,130,131,132,133,134,135,136,137,138,139,140,141,142,143,144,145,146,147,148,149,150,151,152,153,154,155,156,157,158,159,160,161,162,163,164,165,166,167,168,169,170,171,172,173,174,175,176,177,178,179,180,181,182,184,185,186,187,188,189,190,191,192,193,194,195,196,197,198,199,200,201,202,203,204,205,206,207,208,209,210,211,212,213,214,215,216,217,218,219,220,221,222,223,224,225,226,227,228,229,230,231,232,233,234,235,236,237,238,239,240,241,242,243,244,245,246,247,248,249,250,251,252,253,254,255,256,257,258,259,260,261,262,263,264,265,266,267,268,269,270,271,272,273,274,275,276,277,278,279,280,281,282,283,284,285,286,287,288,289,290,291,292,293,294,295,296,297,298,299,300,301,302,303,304,305,306,307,308,309,310,311,312,313,315,316,317,318,319,320,321,322,323,324,325,326,327,328,329,330,331,332,333,334,335,336,337,338,339,340,341,342,343,344,345,346,347,348,349,350,351,352,353,354,355,356,357,358,359,360,361,362,363,364,365,366,367,368,369,370,371,372,373,374,375,376,377,378,379,380,381,382,383,384,385,386,387,388,389,390,391,392,393,394,395,396,397,398,399,400,401,402,403,404,405,406,407,408,409,410,411,412,413,414,415,416,417,418,419,420,421,422,423,424,425,426,427,428,429,430,431,432,433,434,435,436,437,438,439,440,441,442,443,444,445,446,447,448,449,450,451,452,454,455,456,457,458,459,461,462,464,465,466,467,468,469,470,471,472,473,474,475,476,477,478,480,481,482,483,484,485,486,487,488,489,490,491,492,494,495,496,497,498,499,500,501,503,504,505,506,507,508,509,510,511,512,513,514,515,516,517,518,519,520,521,522,523,524,525,526,527,528,529,530,531,532,533,534,535,536,537,538,539,540,541,542,543,544,545,546,547,548,549,550,551,552,553,554,555,556,557,558,559,560,561,562,563,564,565,566,567,568,569,570,571,572,573,574,575,576,577,578,579,580,581,582,583,584,585,586,587,588,589,590,591,592,593,594,595,596,597,598,599,600,601,602,603,604,605,606,607,608,609,610,611,612,613,614,615,616,617,618,619,620,621,622,623,624,625,626,627,628,629,630,631,632,633,634,635,636,637,638,639,640,641,642,643,644,645,646,647,648,649,650,651,652,653,654,655,656,657,658,659,660,661,662,663,664,665,666,667,668,669,670,671,672,673,674,675,676,677,678,679,680,681,682,683,684,685,686,687,688,689,690,691,692,694,695,696,698,699,700,701,702,703,704,705,706,707,708,709,710,711,712,713,714,715,716,717,718,719,720,721,722,723,724,725,726,727,728,729,730,731,732,733,734,735,736,737,738,739,740,741,742,743,744,745,746,747,748,749,750,751,752,753,754,755,756,757,758,759,760,761,762,763,764,765,766,767,768,769,770,771,772,773,774,775,776,777,778,779,780,781,782,783,784,785,786,787,788,789,790,791,792,793,794,795,796,797,798,799,800,801,802,803,804,805,806,807,809,810,811,812,813,814,815,816,817,818,819,820,821,822,823,824,825,826,827,828,829,830,831,832,833,834,835,836,837,838,840,841,842,843,844,845,846,847,848,849,851,852,853,854,855,856,857,858,859,860,861,862,863,864,865,866,867,868,869,870,871,872,873,874,875,876,877,878,879,880,881,882,883,884,885,886,887,888,889,890,891,892,893,894,895,896,897,898,899,900,901,902,903,904,905,906,907,908,909,910,911,912,913,914,915,916,917,918,919,920,921,922,923,924,925,926,927,928,929,930,931,932,933,934,935,937,938,939,940,941,942,943,944,945,946,947,948,949,950,952,953,954,955,956,957,958,959,961,962,963,964,965,966,967,968,969,970,971,972,973,974,975,976,977,978,979,980,981,982,983,984,985,986,987,988,989,990,991,992,993,994,995,996,997,998,999,1000,1001,1002,1003,1004,1005,1006,1007,1008,1009,1010,1011,1012,1013,1014,1015,1016,1017,1018,1019,1020,1021,1022,1023,1024,1025,1026,1027,1028,1029,1030,1031,1032,1033,1034,1035,1036,1038,1039,1040,1041,1042,1043,1044,1045,1046,1047,1048,1049,1050,1051,1052,1053,1054,1055,1056,1057,1058,1059,1060,1061,1062,1063,1064,1065,1066,1067,1068,1069,1070,1071,1072,1073,1074,1075,1076,1077,1078,1079,1080,1081,1082,1083,1084,1085,1086,1087,1088,1089,1090,1091,1092,1093,1094,1095,1096,1097,1098,1099,1100,1101,1102,1103,1104,1105,1106,1107,1108,1109,1110,1111,1112,1113,1114,1115,1116,1117,1118,1119,1120,1121,1122,1123,1124,1125,1126,1127,1128,1129,1130,1131,1132,1133,1134,1135,1136,1137,1138,1139,1140,1142,1143,1144,1145,1146,1147,1148,1149,1150,1151,1152,1153,1154,1155,1156,1157,1158,1159,1160,1161,1162,1163,1164,1165,1166,1167,1168,1169,1170,1171,1172,1173,1174,1175,1176,1177,1178,1179,1180,1181,1182,1183,1184,1185,1186,1187,1188,1189,1190,1191,1192,1193,1194,1195,1196,1197,1198,1199,1200,1201,1202,1203,1204,1205,1206,1207,1208,1209,1210,1211,1212,1213,1214,1215,1216,1217,1218,1219,1220,1221,1222,1223,1224,1225,1226,1227,1228,1229,1230,1231,1232,1233,1234,1235,1236,1237,1239,1241,1242,1243,1244,1245,1246,1247,1248,1249,1250,1251,1252,1253,1254,1255,1256,1257,1258,1259,1260,1261,1262,1263,1264,1265,1266,1267,1268,1269,1270,1271,1272,1273,1274,1275,1276,1277,1278,1279,1280,1281,1282,1283,1284,1285,1286,1287,1288,1289,1290,1291,1292,1293,1294,1295,1296,1298,1299,1300,1301,1302,1303,1304,1305,1306,1307,1308,1309,1310,1311,1312,1313,1314,1316,1317,1318,1319,1320,1321,1322,1323,1324,1325,1326,1327,1328,1329,1331,1332,1334,1335,1336,1337,1338,1339,1340,1341,1342,1343,1344,1346,1347,1348,1350,1351,1352,1353,1354,1355,1356,1357,1358,1359,1360,1361,1362,1363,1365,1366,1367,1369,1370,1371,1372,1373,1374,1375,1376,1377,1378,1379,1380,1381,1382,1383,1384,1385,1386,1388,1389,1390,1391,1392,1393,1394,1395,1396,1397,1398,1399,1400,1401,1402,1403,1404,1405,1406,1408,1409,1410,1411,1412,1414,1415,1416,1418,1419,1420,1421,1422,1423,1424,1425,1426,1428,1429,1430,1431,1432,1433,1434,1435,1436,1437,1438,1439,1440,1441,1442,1443,1444,1445,1447,1448,1449,1450,1451,1452,1454,1455,1457,1458,1459,1460,1461,1463,1464,1465,1466,1467,1468,1469,1470,1471,1472,1473,1476,1477,1478,1479,1480,1481,1482,1483,1484,1485,1487,1488,1489,1490,1491,1492,1493,1495,1496,1497,1498,1499,1500,1501,1502,1503,1504,1505,1506,1507,1508,1510,1511,1512,1513,1514,1515,1516,1517,1518,1519,1520,1522,1523,1524,1525,1526,1527,1528,1529,1530,1531,1532,1533,1534,1535,1536,1538,1539,1541,1542,1543,1544,1545,1546,1547,1548,1549,1550,1551,1552,1553,1554,1555,1556,1557,1558,1559,1560,1561,1562,1564,1565,1566,1567,1569,1571,1572,1573,1574,1575,1576,1577,1579,1580,1581,1582,1583,1584,1585,1586,1594,1595,1596,1597,1598,1599,1601,1602,1603,1605,1606,1607,1608,1609,1610,1611,1612,1613,1615,1616,1618,1619,1620,1621,1623,1624,1626,1627,1628,1629,1630,1631,1633,1635,1636,1637,1639,1640,1641,1642,1644,1645,1646,1647,1648,1649,1651,1652,1653,1654,1655,1656,1657,1658,1659,1660,1661,1662,1663,1664,1665,1666,1667,1668,1669,1670,1671,1672,1673,1674,1675,1676,1677,1678,1679,1680,1682,1683,1684,1685,1686,1687,1688,1689,1690,1692,1693,1694,1695,1696,1698,1699,1700,1702,1703,1704,1705,1706,1707,1708,1709,1711,1712,1713,1714,1717,1718,1719,1720,1721,1722,1723,1724,1726,1727,1728,1729,1730,1731,1732,1733,1735,1736,1737,1738,1739,1741,1742,1743,1745,1746,1747,1748,1749,1750,1751,1752,1754,1755,1756,1757,1758,1759,1760,1761,1762,1763,1764,1765,1766,1767,1768,1769,1770,1771,1772,1773,1774,1775,1776,1777,1778,1779,1780,1781,1782,1783,1784,1785,1786,1788,1789,1790,1791,1792,1793,1794,1795,1796,1797,1798,1799,1800,1803,1804,1805,1806,1807,1809,1810,1811,1812,1813,1814,1815,1816,1817,1818,1819,1820,1821,1822,1823,1824,1825,1826,1827,1828,1829,1830,1831,1832,1833,1834,1835,1836,1837,1838,1839,1840,1842,1843,1845,1846,1847,1848,1849,1850,1851,1852,1853,1854,1856,1857,1858,1859,1860,1861,1862,1863,1864,1865,1866,1867,1869,1870,1871,1872,1873,1874,1875,1876,1877,1878,1879,1880,1881,1882,1884,1885,1886,1887,1888,1889,1890,1891,1892,1893,1894,1895,1896,1897,1900,1901,1902,1903,1904,1905,1906,1907,1908,1909,1910,1911,1912,1913,1914,1915,1916,1918,1919,1920,1921,1922,1923,1924,1925,1926,1927,1928,1929,1930,1931,1932,1933,1934,1935,1937,1938,1939,1940,1941,1942,1943,1944,1946,1947,1948,1949,1950,1951,1952,1953,1954,1955,1956,1957,1958,1960,1961,1962,1963,1964,1965,1966,1967,1968,1969,1970,1971,1972,1973,1974,1975,1976,1977,1978,1979,1980,1981,1982,1983,1984,1985,1986,1987,1988,1989,1990,1991,1992,1993,1994,1995,1996,1997,1998,1999,2001,2002,2003,2004,2005,2006,2007,2008,2009,2010,2011,2012,2013,2014,2015,2016,2017,2018,2019,2020,2021,2022,2023,2024,2025,2026,2027,2028,2029,2030,2031,2032,2033,2034,2036,2037,2038,2039,2040,2041,2042,2043,2044,2045,2046,2047,2048,2049,2050,2051,2052,2053,2054,2055,2056,2057,2058,2059,2060,2061,2062,2063,2064,2065,2066,2067,2068,2069,2070,2071,2072,2073,2074,2075,2076],\"y\":[2520,131,126,304,109,133,1236,443,300,114,484,150,326,120,166,159,80,14506,105,179,151,513,201,304,227,788,192,170,112,452,127,321,167,322,168,129,105,531,236,903,190,443,240,360,398,786,246,535,261,221,841,2634,252,463,194,223,171,416,341,339,4761,48988,264,2769,229,257,631,195,14852,770,404,639,508,379,203,482,318,467,812,321,197,268,552,549,554,7036,382,1767,487,850,209,902,345,6021,510,387,463,240,428,720,339,1091,296,251,3119,657,405,849,1972,878,510,218,309,1330,694,581,514,512,679,577,531,320,6491,1036,1359,580,866,526,261,646,923,482,445,429,339,490,260,483,542,257,639,210,1513,410,333,748,2960,1089,1125,925,938,553,736,597,457,471,551,414,332,281,296,740,1370,831,565,574,946,711,784,460,21808,600,776,683,1057,461,945,516,600,1055,465,2838,383,652,480,515,1396,377,405,244,1659,455,1559,538,992,3701,840,699,369,408,284,841,245,394,526,315,462,337,345,612,786,675,696,801,664,1637,2332,725,1084,737,442,4035,444,340,772,584,449,586,2138,591,658,1371,537,1455,336,1472,1098,678,7018,1243,572,1012,366,1602,11235,261,784,613,795,1276,867,1005,466,1126,341,810,1650,854,630,689,870,758,351,2058,1199,1177,3329,635,810,5829,763,464,1164,619,25681,1153,1196,1405,3657,781,971,1220,699,700,755,391,1737,910,1173,770,1013,498,418,1170,1483,793,611,1052,964,7368,1690,989,1461,878,1072,1229,965,1140,2089,1420,13464,1508,770,1400,1752,1242,7393,956,1171,1306,1476,3620,1388,8846,1358,986,1038,2516,1835,907,1059,2364,816,1922,935,714,1800,1486,2942,1197,1561,6759,1416,1508,741,1188,1163,679,1072,760,992,1379,1167,1160,1276,1355,1016,1319,1375,1075,1623,927,1422,1487,1372,996,1768,1883,1300,1016,998,2055,1782,2363,1480,1111,7891,902,14194,1324,1013,2643,765,1725,1565,1524,1067,1447,865,1246,1663,1174,750,1309,1432,1515,1325,1828,3985,1506,1315,1157,1122,890,1093,3737,979,3347,1222,2059,1265,1644,1189,1880,886,1157,756,1490,1532,3506,6699,1028,789,1547,1358,1721,943,1654,15541,1485,900,1578,1263,716,1508,1175,1121,6548,1581,1775,1081,1507,974,1708,1209,676,1178,1476,1552,833,1936,1191,2112,852,1164,3173,912,1638,1032,2857,1119,2947,1021,2075,1367,2256,1269,1003,3963,6672,3830,2950,34696,1114,1803,1604,1952,1377,3327,18190,1387,1103,1249,1911,681,2009,1233,1711,10895,1119,1620,2432,2864,4440,2535,2267,1744,1402,3209,2983,2046,2424,1846,79131,1300,2203,1486,1831,12422,1608,1999,2760,1286,2484,1252,2006,1157,3091,5302,1510,1921,24656,2241,2396,13576,2216,1818,2312,1386,2352,2961,2924,3781,2126,1334,1761,3880,1169,1453,1140,7429,2615,1382,2288,2010,2094,3572,2640,1309,3629,3270,5183,1447,14746,1698,12317,1395,1863,2611,2002,1707,61394,4558,5825,4284,2212,3086,4030,7677,1752,3792,2992,3743,2765,1764,2503,2428,18401,6412,3190,2981,23140,34217,2253,3414,3638,2852,5129,1782,2326,2266,3328,39056,2551,3094,2642,2119,17977,2768,13745,3831,2916,2471,3890,2490,4200,2307,3052,1567,1556,2726,1844,4565,3885,2837,3081,2558,3712,1901,2569,2236,3475,4910,2617,4000,2576,1612,1563,3465,3431,4263,2873,10022,15465,3824,2066,2852,1893,13774,2653,2984,3390,7093,3472,5354,3510,4501,3321,1795,2393,8180,3701,2220,3286,1412,1639,2660,40008,2327,2136,2330,3675,3102,3176,8206,4210,2630,2834,3409,7042,3616,2998,2831,2826,2075,4095,4439,2141,2180,3756,2065,2348,4153,8826,2129,4174,3257,9663,2928,2258,2019,3785,3786,3466,7181,4414,2507,3354,2222,3614,2866,10270,3279,35599,3163,3499,2522,8126,1770,2282,1965,2668,3363,2381,2369,2390,3500,2033,3976,3021,4482,3751,9280,2415,2519,6264,2332,5907,4696,21723,2200,2141,1724,2068,2093,2631,2582,2705,2944,1847,3042,2284,2393,10035,2482,2808,2386,1029,1478,2408,2270,2275,2943,2191,3303,1249,2158,3553,2428,3660,2217,12555,2420,11228,3441,2335,3248,2609,1471,1533,3937,2698,3014,1813,2870,3498,2008,2117,1409,2500,2334,4065,3549,4468,3849,1839,3199,2783,20898,2856,4381,2552,2085,3126,4251,3092,2322,2715,10105,1987,3448,4662,7370,3098,2464,1938,2630,2882,2017,1853,8520,3076,2407,3614,1904,5467,1657,2638,2741,2911,1863,3641,3180,4518,2167,2200,38203,2990,2867,1733,3061,2834,3932,9292,4697,4933,3433,3236,3468,2744,2565,1585,2638,5222,2538,3447,2711,3255,3552,5035,3685,2608,2204,3262,3403,3255,2582,3546,1639,3034,18114,5119,2446,2012,2495,1380,1567,2669,2736,2915,3655,2818,3241,2632,2408,3401,2021,2220,1477,2342,6386,11055,2108,2986,2426,3287,3568,2225,2839,8140,2416,2854,4468,2448,2835,24690,2623,2613,2790,2400,13239,2854,3028,2248,3841,4113,3702,5186,2659,3544,3085,11140,2361,3462,2780,28504,7948,2115,2048,3776,2653,4159,2795,3554,1985,3151,1998,1704,8656,3663,3169,7150,2849,5514,2423,2337,2314,2774,3226,4113,4797,3192,3416,2550,3376,3338,5531,2924,1827,23071,3706,3335,3716,2320,2775,3563,2226,2468,4364,2365,2762,2958,2654,3535,3775,2442,2449,18262,3688,2676,3522,2897,3332,4694,2080,2889,3647,4581,2523,3883,3305,2728,2741,2940,17738,1824,3182,5123,2198,2592,13543,2577,2818,2391,1596,3530,3794,3767,721,3199,5911,2974,3115,2576,4857,2279,4895,2473,2892,2739,4887,3217,3540,3924,4157,35289,9586,3053,8640,2418,3475,3163,4082,5711,4462,13270,20008,4785,7734,4719,5229,3023,3499,4609,2438,3506,3226,3881,3506,4439,4028,4476,5494,2583,3240,5861,4636,4188,5005,3437,5240,2986,2531,5920,4570,3508,6726,3384,6180,3114,2622,4146,2068,5227,2897,2673,2624,20351,5619,3748,3656,4728,2985,5417,4890,5196,5257,4168,3073,6872,4427,2652,3344,2711,4997,5312,4408,5685,3242,8296,4173,4488,2859,4654,5700,2548,3973,5565,4464,7573,4737,3815,4121,7391,4151,3264,3563,4808,6336,3150,4410,4880,4639,3942,5296,3562,2998,5015,3410,2025,6237,4290,4321,5253,4114,3737,5301,6581,4124,3747,16061,8700,3962,3799,2624,45690,4525,3378,3954,3863,2695,13527,2939,3367,3618,13992,6672,4322,3874,8519,8743,4313,4648,15804,3881,11113,5428,10761,5664,2727,9475,4655,3531,5487,3604,4053,73867,7757,42929,5814,4081,4373,21513,7204,3560,2674,37384,19559,3058,3681,6912,10182,9480,3957,8814,4899,5564,4683,7330,10644,7825,4803,4142,6681,4549,8517,3803,19946,4840,3931,4483,129084,7298,6043,8507,3227,7820,7733,9259,7685,7526,4364,3838,7443,6537,5018,6537,5269,6483,10383,3665,5712,4191,6022,3991,2515,5264,3036,3191,7182,6284,3976,4018,5652,2370,6578,4588,5134,2997,6346,11660,3364,5196,5959,9336,2848,6618,5042,5543,3281,3520,2943,3447,3391,8518,2358,3301,4679,3939,3359,4928,14320,4848,14386,5214,5530,6852,13579,3476,5466,4792,8570,6318,5682,6471,4154,8029,4805,6537,7468,4223,3701,8279,6297,8595,6360,9569,8530,4084,5770,2803,7481,23067,17917,7966,7007,39916,4298,11321,5524,7232,6824,4923,6348,16496,4744,4957,4945,7490,2959,3732,5667,5237,4151,6239,12195,3856,7101,15813,6611,9269,5120,6491,7318,16012,6226,4287,29178,8264,5398,7212,4177,12286,5811,4879,5697,4505,54041,4651,5901,34885,5267,11316,12328,13307,8024,5921,13793,6605,6985,12692,7729,28582,5661,7890,4071,4676,7395,6581,4413,5553,11047,13419,8166,17527,5206,11920,14866,5504,4496,4586,15757,5905,6992,34402,8271,6813,6876,8011,5671,5417,7535,6794,10064,11544,9034,13144,4385,2963,4096,4124,6568,7091,8719,9395,10929,10251,25403,24138,5837,7202,6995,11753,23832,7373,9336,17022,8167,14152,15186,12822,2008,12888,10513,32855,9718,5352,15689,9592,12322,6971,7202,9301,11381,14933,5103,6344,7575,21976,16230,12964,9685,20920,9565,5797,6925,13283,6057,7891,23763,10715,9282,22812,11449,12184,18327,8571,18959,8193,26529,8954,32143,18579,9314,11476,8095,33107,6241,9868,11163,13305,8003,10031,8588,7354,12511,16892,12003,10353,11762,19991,29237,8585,11929,11250,9568,6756,6769,7975,17186,30237,30157,10691,10048,12960,7487,8312,10217,13844,8626,22775,9035,18295,10919,9689,14461,12948,7909,14881,8087,12463,15814,13972,7107,6791,10352,7612,16818,9837,10834,11603,22021,9515,27149,11773,8789,10141,18566,10156,10524,11318,17879,11126,54915,11892,9304,10005,35654,12138,8345,13076,8437,22014,15978,12824,11400,8160,14500,8910,10903,8842,9260,31283,16839,12266,10387,14471,11543,8876,26973,6675,9006,8484,9970,17866,9829,9933,11045,8500,12075,11052,49052,15116,8550,9626,6290,7228,9078,7040,11219,82760,14309,123605,16018,13798,9572,12391,8671,11087,14478,21892,7606,16996,16131,38981,12028,9944,5857,22932,14052,8282,7975,15009,8778,6681,7266,8284,22973,8726,10826,11521,11330,13035,9220,8474,10239,21740,10055,20475,9159,39795,10181,31506,9504,12342,8356,11308,9022,10776,24645,5461,9773,9418,33483,10740,10920,9374,13264,9541,6144,37544,12912,11709,56770,13464,12026,11945,10792,24244,94175,49256,25239,7892,10451,14676,14047,5820,21626,3652,13346,34469,13822,10483,9543,12871,8739,9202,12389,38231,31254,19793,16078,14388,144133,18853,17163,14184,13659,11582,16361,12816,10947,16281,6913,19899,56537,13831,11359,17040,5288,14407,20000,10943,39687,23426,11486,17226,8043,16764,21864,11227,12761,13570,8011,13680,8292,6810,10309,39659,27698,57386,26574,37548,11354,34354,13256,10644,72397,8615,12871,12642,7013,9911,9738,7763,11304,29905,25955,19303,12193,18534,12926,17131,18170,14361,21814,16015,22273,16515,14454,14078,16962,22225,10362,14777,22679,11671,24188,28130,8365,17628,19170,20582,22850,15833,13565,20707,13674,17229,22707,13776,4139,36768,18920,24295,11718,12000,29206,29547,14404,20663,17651,9622,13185,24553,17017,13534,27425,15001,26200,19336,7207,16225,22973,18035,22855,14541,17573,41342,16125,24858,8123,26752,31215,17018,33828,47587,21357,22767,21240,21682,19903,5839,24910,17341,26249,26711,44737,12090,16804,32218,21635,17256,13785,32835,21770,25591,17071,12049,21041,34824,17222,15683,9484,16289,36618,29977,16911,33393,19744,30659,23840,31218,47225,28728,16919,19632,20721,6135,35501,16714,16291,22276,16083,35080,93047,19207,15893,19736,17220,18897,24366,7741,17250,17721,37181,76844,21164,17549,19716,8793,24444,15696,21178,30981,14990,33165,28698,27142,26234,53878,124809,19789,32932,16501,34661,24631,10371,27883,66813,20805,16253,28710,43084,37239,22153,83871,12624,34105,22957,20466,20507,38550,34847,34610,41060,21014,14853,27652,7348,24486,35016,22828,26277,28079,25683,22081,25394,28104,18913,20834,27339,27542,22958,80512,42333,7819,19515,19079,22745,16880,106633,23550,22441,27804,27263,28708,21444,17123,23212,49753,50892,24451,29550,45259,28054,28513,24084,37464,22694,46270,22048,20506,27172,24463,28126,78012,22086,36224,32937,28153,21263,22581,12158,35412,30748,33883,69572,46491,30383,21910,20053,25754,29268,25439,15186,27354,48348,27956,30828,32145,32145,27931,27931,65983,65983,11930,11930,20343,20343,40553,40553,42403,42403,25201,25201,33431,33431,39039]}},\"id\":\"7693e691-0a78-4071-ba7c-16d51f3cd4e8\",\"type\":\"ColumnDataSource\"},{\"attributes\":{\"overlay\":{\"id\":\"17588359-4935-4089-b9ce-2d0edca53bc5\",\"type\":\"BoxAnnotation\"}},\"id\":\"fbc68b67-1d01-48b9-95d6-64c9bdd7b0fb\",\"type\":\"BoxZoomTool\"},{\"attributes\":{},\"id\":\"98b07648-50c8-4c16-aac1-d17206b854d5\",\"type\":\"LinearScale\"},{\"attributes\":{},\"id\":\"90d108f7-9859-4607-b811-4a5d2122c358\",\"type\":\"ZoomInTool\"},{\"attributes\":{\"axis_label\":\"Time\",\"formatter\":{\"id\":\"85c84a4c-5e41-4886-afa1-efb312ad0d89\",\"type\":\"BasicTickFormatter\"},\"plot\":{\"id\":\"b79b03a7-a0c1-4fbf-bf80-5248cc3c37fb\",\"subtype\":\"Figure\",\"type\":\"Plot\"},\"ticker\":{\"id\":\"6eb0b945-bbe5-4cbd-b80e-f4a6dad7d2df\",\"type\":\"BasicTicker\"}},\"id\":\"7b42b2eb-fd5c-4380-8ab9-19b02e811c4f\",\"type\":\"LinearAxis\"},{\"attributes\":{},\"id\":\"752d254f-960e-4277-a5f3-2373c0d42e19\",\"type\":\"ZoomOutTool\"},{\"attributes\":{\"plot\":{\"id\":\"b79b03a7-a0c1-4fbf-bf80-5248cc3c37fb\",\"subtype\":\"Figure\",\"type\":\"Plot\"},\"ticker\":{\"id\":\"6eb0b945-bbe5-4cbd-b80e-f4a6dad7d2df\",\"type\":\"BasicTicker\"}},\"id\":\"f992ad35-4d3c-4ca9-849e-f5ea38a2e52a\",\"type\":\"Grid\"},{\"attributes\":{\"callback\":null},\"id\":\"ca5214b2-8403-4b30-9b4a-b6b6a60ddc7b\",\"type\":\"DataRange1d\"},{\"attributes\":{},\"id\":\"85c84a4c-5e41-4886-afa1-efb312ad0d89\",\"type\":\"BasicTickFormatter\"},{\"attributes\":{\"callback\":null},\"id\":\"4c50447b-b00d-453c-8741-f6d4919057e6\",\"type\":\"DataRange1d\"},{\"attributes\":{\"axis_label\":\"Likes Number\",\"formatter\":{\"id\":\"8ef0e4e8-a4b4-4c71-bc82-251a1477b9c8\",\"type\":\"BasicTickFormatter\"},\"plot\":{\"id\":\"b79b03a7-a0c1-4fbf-bf80-5248cc3c37fb\",\"subtype\":\"Figure\",\"type\":\"Plot\"},\"ticker\":{\"id\":\"4a0c07e1-9108-435c-88e6-21e7e6e5b56f\",\"type\":\"BasicTicker\"}},\"id\":\"6565d9e1-2648-4e63-a707-de3b7025c382\",\"type\":\"LinearAxis\"},{\"attributes\":{\"plot\":null,\"text\":\"The Trend of the Likes Number\"},\"id\":\"b5bd9881-3f6a-411a-b914-9ffe5b9b9a89\",\"type\":\"Title\"},{\"attributes\":{},\"id\":\"6eb0b945-bbe5-4cbd-b80e-f4a6dad7d2df\",\"type\":\"BasicTicker\"},{\"attributes\":{},\"id\":\"4d88d368-b142-4c0d-a53b-1c0c5fa71abf\",\"type\":\"PanTool\"},{\"attributes\":{\"data_source\":{\"id\":\"7693e691-0a78-4071-ba7c-16d51f3cd4e8\",\"type\":\"ColumnDataSource\"},\"glyph\":{\"id\":\"777e6318-f222-4588-9ea4-c55c996c4ab1\",\"type\":\"Circle\"},\"hover_glyph\":null,\"muted_glyph\":null,\"nonselection_glyph\":{\"id\":\"6acbfc23-2434-4852-b366-09bb7ea401f8\",\"type\":\"Circle\"},\"selection_glyph\":null,\"view\":{\"id\":\"18675120-5158-41b2-aa2e-07e0eb0a6ce9\",\"type\":\"CDSView\"}},\"id\":\"3c8ceb25-f3ad-44bc-9bfa-bb97f9115f84\",\"type\":\"GlyphRenderer\"},{\"attributes\":{\"dimension\":1,\"plot\":{\"id\":\"b79b03a7-a0c1-4fbf-bf80-5248cc3c37fb\",\"subtype\":\"Figure\",\"type\":\"Plot\"},\"ticker\":{\"id\":\"4a0c07e1-9108-435c-88e6-21e7e6e5b56f\",\"type\":\"BasicTicker\"}},\"id\":\"ce0081c0-03ba-4aa7-9668-34dd225dba6c\",\"type\":\"Grid\"},{\"attributes\":{},\"id\":\"4a0c07e1-9108-435c-88e6-21e7e6e5b56f\",\"type\":\"BasicTicker\"},{\"attributes\":{},\"id\":\"6a16702c-682a-46ef-a87c-361f51ef1371\",\"type\":\"CrosshairTool\"},{\"attributes\":{\"callback\":null},\"id\":\"86051089-60b6-4e9e-b6cb-ce567e8ca672\",\"type\":\"HoverTool\"},{\"attributes\":{\"fill_alpha\":{\"value\":0.1},\"fill_color\":{\"value\":\"#1f77b4\"},\"line_alpha\":{\"value\":0.1},\"line_color\":{\"value\":\"#1f77b4\"},\"x\":{\"field\":\"x\"},\"y\":{\"field\":\"y\"}},\"id\":\"6acbfc23-2434-4852-b366-09bb7ea401f8\",\"type\":\"Circle\"},{\"attributes\":{\"source\":{\"id\":\"7693e691-0a78-4071-ba7c-16d51f3cd4e8\",\"type\":\"ColumnDataSource\"}},\"id\":\"18675120-5158-41b2-aa2e-07e0eb0a6ce9\",\"type\":\"CDSView\"},{\"attributes\":{},\"id\":\"22edd299-1a41-4edc-a057-2ef448fd74e3\",\"type\":\"WheelZoomTool\"},{\"attributes\":{\"fill_alpha\":{\"value\":0.6},\"fill_color\":{\"value\":\"green\"},\"line_color\":{\"value\":null},\"x\":{\"field\":\"x\"},\"y\":{\"field\":\"y\"}},\"id\":\"777e6318-f222-4588-9ea4-c55c996c4ab1\",\"type\":\"Circle\"}],\"root_ids\":[\"b79b03a7-a0c1-4fbf-bf80-5248cc3c37fb\"]},\"title\":\"Bokeh Application\",\"version\":\"0.12.14\"}};\n",
       "  var render_items = [{\"docid\":\"95c46732-0cb2-47c0-8e72-cd5c8bfb13d5\",\"elementid\":\"7099e126-8050-4433-b1d0-8fd0ea49da80\",\"modelid\":\"b79b03a7-a0c1-4fbf-bf80-5248cc3c37fb\",\"notebook_comms_target\":\"e34a2241-5e28-4bb5-95dc-a1e2b43a0499\"}];\n",
       "  root.Bokeh.embed.embed_items_notebook(docs_json, render_items);\n",
       "\n",
       "  }\n",
       "  if (root.Bokeh !== undefined) {\n",
       "    embed_document(root);\n",
       "  } else {\n",
       "    var attempts = 0;\n",
       "    var timer = setInterval(function(root) {\n",
       "      if (root.Bokeh !== undefined) {\n",
       "        embed_document(root);\n",
       "        clearInterval(timer);\n",
       "      }\n",
       "      attempts++;\n",
       "      if (attempts > 100) {\n",
       "        console.log(\"Bokeh: ERROR: Unable to run BokehJS code because BokehJS library is missing\")\n",
       "        clearInterval(timer);\n",
       "      }\n",
       "    }, 10, root)\n",
       "  }\n",
       "})(window);"
      ],
      "application/vnd.bokehjs_exec.v0+json": ""
     },
     "metadata": {
      "application/vnd.bokehjs_exec.v0+json": {
       "id": "b79b03a7-a0c1-4fbf-bf80-5248cc3c37fb"
      }
     },
     "output_type": "display_data"
    }
   ],
   "source": [
    "output_notebook()\n",
    "TOOLS=\"hover,crosshair,pan,wheel_zoom,zoom_in,zoom_out,box_zoom,undo,redo,reset,tap,save,box_select,poly_select,lasso_select,\"\n",
    "plot = figure(tools=TOOLS,\n",
    "              title=\"The Trend of the Likes Number\", \n",
    "            x_axis_label='Time', y_axis_label='Likes Number')\n",
    "plot.scatter(x = twitter.index, y = twitter['Likes_number'],\n",
    "          fill_color='green', fill_alpha=0.6,\n",
    "          line_color=None)\n",
    "handle = show(plot, notebook_handle=True)\n",
    "plot.title.text = \"New Title\"\n",
    "push_notebook(handle=handle)"
   ]
  },
  {
   "cell_type": "code",
   "execution_count": 213,
   "metadata": {},
   "outputs": [
    {
     "data": {
      "text/html": [
       "\n",
       "<div class=\"bk-root\">\n",
       "    <div class=\"bk-plotdiv\" id=\"480a1ed0-6f9f-4451-b49b-029e04959813\"></div>\n",
       "</div>"
      ]
     },
     "metadata": {},
     "output_type": "display_data"
    },
    {
     "data": {
      "application/javascript": [
       "(function(root) {\n",
       "  function embed_document(root) {\n",
       "    \n",
       "  var docs_json = {\"b3b6b5c6-2054-4f69-8754-6541a3f4de15\":{\"roots\":{\"references\":[{\"attributes\":{},\"id\":\"0e0dda2f-33d0-47ff-9543-98440592b46b\",\"type\":\"BasicTickFormatter\"},{\"attributes\":{\"source\":{\"id\":\"83de1a18-1cf3-4c84-8bf6-b65bd5e5e099\",\"type\":\"ColumnDataSource\"}},\"id\":\"c9ed01fa-1b38-4435-ab2d-3b9d8fe06a60\",\"type\":\"CDSView\"},{\"attributes\":{\"data_source\":{\"id\":\"83de1a18-1cf3-4c84-8bf6-b65bd5e5e099\",\"type\":\"ColumnDataSource\"},\"glyph\":{\"id\":\"ad5c9150-fc08-4a8c-9a7d-c4e4c483a6f3\",\"type\":\"Circle\"},\"hover_glyph\":null,\"muted_glyph\":null,\"nonselection_glyph\":{\"id\":\"03fad396-d9b8-4954-b37a-e9d28dfe3bc3\",\"type\":\"Circle\"},\"selection_glyph\":null,\"view\":{\"id\":\"c9ed01fa-1b38-4435-ab2d-3b9d8fe06a60\",\"type\":\"CDSView\"}},\"id\":\"8fdf7cfb-f502-404f-b1ba-d48b61b4a06f\",\"type\":\"GlyphRenderer\"},{\"attributes\":{\"fill_alpha\":{\"value\":0.1},\"fill_color\":{\"value\":\"#1f77b4\"},\"line_alpha\":{\"value\":0.1},\"line_color\":{\"value\":\"#1f77b4\"},\"x\":{\"field\":\"x\"},\"y\":{\"field\":\"y\"}},\"id\":\"03fad396-d9b8-4954-b37a-e9d28dfe3bc3\",\"type\":\"Circle\"},{\"attributes\":{},\"id\":\"838053e7-1a78-4576-be92-eeabe620f08a\",\"type\":\"BasicTickFormatter\"},{\"attributes\":{\"fill_alpha\":{\"value\":0.5},\"fill_color\":{\"value\":\"lightgrey\"},\"level\":\"overlay\",\"line_alpha\":{\"value\":1.0},\"line_color\":{\"value\":\"black\"},\"line_dash\":[4,4],\"line_width\":{\"value\":2},\"plot\":null,\"xs_units\":\"screen\",\"ys_units\":\"screen\"},\"id\":\"740f3976-a098-4445-a5fc-415ba0ccd946\",\"type\":\"PolyAnnotation\"},{\"attributes\":{\"callback\":null},\"id\":\"cfc9c061-5961-4b0b-a18e-f5b44ea159ba\",\"type\":\"HoverTool\"},{\"attributes\":{\"bottom_units\":\"screen\",\"fill_alpha\":{\"value\":0.5},\"fill_color\":{\"value\":\"lightgrey\"},\"left_units\":\"screen\",\"level\":\"overlay\",\"line_alpha\":{\"value\":1.0},\"line_color\":{\"value\":\"black\"},\"line_dash\":[4,4],\"line_width\":{\"value\":2},\"plot\":null,\"render_mode\":\"css\",\"right_units\":\"screen\",\"top_units\":\"screen\"},\"id\":\"f3c5b408-57a7-4534-9067-3fdef3afbc13\",\"type\":\"BoxAnnotation\"},{\"attributes\":{},\"id\":\"ebb891fd-a92c-4efd-b947-29f41a81c0bb\",\"type\":\"CrosshairTool\"},{\"attributes\":{},\"id\":\"702f824a-39b4-473a-a772-c0f1984aec3a\",\"type\":\"PanTool\"},{\"attributes\":{},\"id\":\"294ec326-1098-4004-b978-a10b7aa80128\",\"type\":\"WheelZoomTool\"},{\"attributes\":{},\"id\":\"98e22c0e-0751-42c3-b4f2-725540e97f1a\",\"type\":\"ZoomInTool\"},{\"attributes\":{},\"id\":\"41222e5d-71ea-449b-a76a-0b9302ef524c\",\"type\":\"ZoomOutTool\"},{\"attributes\":{\"overlay\":{\"id\":\"f3c5b408-57a7-4534-9067-3fdef3afbc13\",\"type\":\"BoxAnnotation\"}},\"id\":\"3e353234-ffd5-4c86-a2dc-60fee373b07c\",\"type\":\"BoxZoomTool\"},{\"attributes\":{},\"id\":\"0f5ee6d6-4608-4e30-91fc-12b9f59dda74\",\"type\":\"UndoTool\"},{\"attributes\":{},\"id\":\"2dbe8160-2a71-424d-bdcd-f6faf37cd0a5\",\"type\":\"RedoTool\"},{\"attributes\":{},\"id\":\"7bf74dc0-5a1d-440c-a6cf-bde6f9f5ecf3\",\"type\":\"ResetTool\"},{\"attributes\":{\"fill_alpha\":{\"value\":0.6},\"fill_color\":{\"value\":\"green\"},\"line_color\":{\"value\":null},\"x\":{\"field\":\"x\"},\"y\":{\"field\":\"y\"}},\"id\":\"ad5c9150-fc08-4a8c-9a7d-c4e4c483a6f3\",\"type\":\"Circle\"},{\"attributes\":{\"callback\":null},\"id\":\"8e9abb6f-88c5-4287-b0b3-98e26adccbd3\",\"type\":\"TapTool\"},{\"attributes\":{\"below\":[{\"id\":\"931d761c-aae2-48b3-8e77-5188d1d0fe9e\",\"type\":\"LinearAxis\"}],\"left\":[{\"id\":\"b3e340be-ab43-44b5-8b25-a6416887d971\",\"type\":\"LinearAxis\"}],\"renderers\":[{\"id\":\"931d761c-aae2-48b3-8e77-5188d1d0fe9e\",\"type\":\"LinearAxis\"},{\"id\":\"7966ac42-8a37-47ea-b196-864df05925b4\",\"type\":\"Grid\"},{\"id\":\"b3e340be-ab43-44b5-8b25-a6416887d971\",\"type\":\"LinearAxis\"},{\"id\":\"5010874b-791a-475a-b041-92a80d5237c0\",\"type\":\"Grid\"},{\"id\":\"f3c5b408-57a7-4534-9067-3fdef3afbc13\",\"type\":\"BoxAnnotation\"},{\"id\":\"cb6f404d-11ca-42fb-b24d-804537d9c8b2\",\"type\":\"BoxAnnotation\"},{\"id\":\"740f3976-a098-4445-a5fc-415ba0ccd946\",\"type\":\"PolyAnnotation\"},{\"id\":\"9c42c4ce-1f5e-4a26-b2f3-cb40b7f4112c\",\"type\":\"PolyAnnotation\"},{\"id\":\"8fdf7cfb-f502-404f-b1ba-d48b61b4a06f\",\"type\":\"GlyphRenderer\"}],\"title\":{\"id\":\"b233f2f3-ef7c-4f29-9bcc-58766c66321f\",\"type\":\"Title\"},\"toolbar\":{\"id\":\"262a68d3-3872-45c1-a681-59b2fcbabf21\",\"type\":\"Toolbar\"},\"x_range\":{\"id\":\"d87cd08a-3b32-475a-b8cf-cef0f8acbf99\",\"type\":\"DataRange1d\"},\"x_scale\":{\"id\":\"87da0b55-fe45-4bd4-8b63-76db75d3f9ca\",\"type\":\"LinearScale\"},\"y_range\":{\"id\":\"f5c90db4-10cd-4ca7-9e97-2db1d9ec66ea\",\"type\":\"DataRange1d\"},\"y_scale\":{\"id\":\"e991e43a-ac6b-4506-a410-2bd044ddfa7d\",\"type\":\"LinearScale\"}},\"id\":\"07bdb78e-cea4-4f26-9acc-a761b01972cc\",\"subtype\":\"Figure\",\"type\":\"Plot\"},{\"attributes\":{},\"id\":\"145950b4-7367-4801-94da-29da89994621\",\"type\":\"SaveTool\"},{\"attributes\":{\"callback\":null,\"column_names\":[\"x\",\"y\"],\"data\":{\"x\":[0,1,2,3,4,5,6,7,8,9,10,11,12,13,14,15,16,17,18,19,20,21,22,23,24,25,26,27,28,29,30,31,32,33,34,35,36,37,38,39,40,41,42,43,44,45,46,47,48,49,50,51,52,53,54,55,56,57,58,59,60,61,62,63,64,65,66,67,68,69,70,71,72,73,74,75,76,77,78,79,80,81,82,83,84,85,86,87,88,89,90,91,92,93,96,97,98,99,100,101,102,103,104,105,106,107,108,109,110,111,112,113,114,115,116,117,118,119,120,121,122,123,124,125,126,127,128,129,130,131,132,133,134,135,136,137,138,139,140,141,142,143,144,145,146,147,148,149,150,151,152,153,154,155,156,157,158,159,160,161,162,163,164,165,166,167,168,169,170,171,172,173,174,175,176,177,178,179,180,181,182,184,185,186,187,188,189,190,191,192,193,194,195,196,197,198,199,200,201,202,203,204,205,206,207,208,209,210,211,212,213,214,215,216,217,218,219,220,221,222,223,224,225,226,227,228,229,230,231,232,233,234,235,236,237,238,239,240,241,242,243,244,245,246,247,248,249,250,251,252,253,254,255,256,257,258,259,260,261,262,263,264,265,266,267,268,269,270,271,272,273,274,275,276,277,278,279,280,281,282,283,284,285,286,287,288,289,290,291,292,293,294,295,296,297,298,299,300,301,302,303,304,305,306,307,308,309,310,311,312,313,315,316,317,318,319,320,321,322,323,324,325,326,327,328,329,330,331,332,333,334,335,336,337,338,339,340,341,342,343,344,345,346,347,348,349,350,351,352,353,354,355,356,357,358,359,360,361,362,363,364,365,366,367,368,369,370,371,372,373,374,375,376,377,378,379,380,381,382,383,384,385,386,387,388,389,390,391,392,393,394,395,396,397,398,399,400,401,402,403,404,405,406,407,408,409,410,411,412,413,414,415,416,417,418,419,420,421,422,423,424,425,426,427,428,429,430,431,432,433,434,435,436,437,438,439,440,441,442,443,444,445,446,447,448,449,450,451,452,454,455,456,457,458,459,461,462,464,465,466,467,468,469,470,471,472,473,474,475,476,477,478,480,481,482,483,484,485,486,487,488,489,490,491,492,494,495,496,497,498,499,500,501,503,504,505,506,507,508,509,510,511,512,513,514,515,516,517,518,519,520,521,522,523,524,525,526,527,528,529,530,531,532,533,534,535,536,537,538,539,540,541,542,543,544,545,546,547,548,549,550,551,552,553,554,555,556,557,558,559,560,561,562,563,564,565,566,567,568,569,570,571,572,573,574,575,576,577,578,579,580,581,582,583,584,585,586,587,588,589,590,591,592,593,594,595,596,597,598,599,600,601,602,603,604,605,606,607,608,609,610,611,612,613,614,615,616,617,618,619,620,621,622,623,624,625,626,627,628,629,630,631,632,633,634,635,636,637,638,639,640,641,642,643,644,645,646,647,648,649,650,651,652,653,654,655,656,657,658,659,660,661,662,663,664,665,666,667,668,669,670,671,672,673,674,675,676,677,678,679,680,681,682,683,684,685,686,687,688,689,690,691,692,694,695,696,698,699,700,701,702,703,704,705,706,707,708,709,710,711,712,713,714,715,716,717,718,719,720,721,722,723,724,725,726,727,728,729,730,731,732,733,734,735,736,737,738,739,740,741,742,743,744,745,746,747,748,749,750,751,752,753,754,755,756,757,758,759,760,761,762,763,764,765,766,767,768,769,770,771,772,773,774,775,776,777,778,779,780,781,782,783,784,785,786,787,788,789,790,791,792,793,794,795,796,797,798,799,800,801,802,803,804,805,806,807,809,810,811,812,813,814,815,816,817,818,819,820,821,822,823,824,825,826,827,828,829,830,831,832,833,834,835,836,837,838,840,841,842,843,844,845,846,847,848,849,851,852,853,854,855,856,857,858,859,860,861,862,863,864,865,866,867,868,869,870,871,872,873,874,875,876,877,878,879,880,881,882,883,884,885,886,887,888,889,890,891,892,893,894,895,896,897,898,899,900,901,902,903,904,905,906,907,908,909,910,911,912,913,914,915,916,917,918,919,920,921,922,923,924,925,926,927,928,929,930,931,932,933,934,935,937,938,939,940,941,942,943,944,945,946,947,948,949,950,952,953,954,955,956,957,958,959,961,962,963,964,965,966,967,968,969,970,971,972,973,974,975,976,977,978,979,980,981,982,983,984,985,986,987,988,989,990,991,992,993,994,995,996,997,998,999,1000,1001,1002,1003,1004,1005,1006,1007,1008,1009,1010,1011,1012,1013,1014,1015,1016,1017,1018,1019,1020,1021,1022,1023,1024,1025,1026,1027,1028,1029,1030,1031,1032,1033,1034,1035,1036,1038,1039,1040,1041,1042,1043,1044,1045,1046,1047,1048,1049,1050,1051,1052,1053,1054,1055,1056,1057,1058,1059,1060,1061,1062,1063,1064,1065,1066,1067,1068,1069,1070,1071,1072,1073,1074,1075,1076,1077,1078,1079,1080,1081,1082,1083,1084,1085,1086,1087,1088,1089,1090,1091,1092,1093,1094,1095,1096,1097,1098,1099,1100,1101,1102,1103,1104,1105,1106,1107,1108,1109,1110,1111,1112,1113,1114,1115,1116,1117,1118,1119,1120,1121,1122,1123,1124,1125,1126,1127,1128,1129,1130,1131,1132,1133,1134,1135,1136,1137,1138,1139,1140,1142,1143,1144,1145,1146,1147,1148,1149,1150,1151,1152,1153,1154,1155,1156,1157,1158,1159,1160,1161,1162,1163,1164,1165,1166,1167,1168,1169,1170,1171,1172,1173,1174,1175,1176,1177,1178,1179,1180,1181,1182,1183,1184,1185,1186,1187,1188,1189,1190,1191,1192,1193,1194,1195,1196,1197,1198,1199,1200,1201,1202,1203,1204,1205,1206,1207,1208,1209,1210,1211,1212,1213,1214,1215,1216,1217,1218,1219,1220,1221,1222,1223,1224,1225,1226,1227,1228,1229,1230,1231,1232,1233,1234,1235,1236,1237,1239,1241,1242,1243,1244,1245,1246,1247,1248,1249,1250,1251,1252,1253,1254,1255,1256,1257,1258,1259,1260,1261,1262,1263,1264,1265,1266,1267,1268,1269,1270,1271,1272,1273,1274,1275,1276,1277,1278,1279,1280,1281,1282,1283,1284,1285,1286,1287,1288,1289,1290,1291,1292,1293,1294,1295,1296,1298,1299,1300,1301,1302,1303,1304,1305,1306,1307,1308,1309,1310,1311,1312,1313,1314,1316,1317,1318,1319,1320,1321,1322,1323,1324,1325,1326,1327,1328,1329,1331,1332,1334,1335,1336,1337,1338,1339,1340,1341,1342,1343,1344,1346,1347,1348,1350,1351,1352,1353,1354,1355,1356,1357,1358,1359,1360,1361,1362,1363,1365,1366,1367,1369,1370,1371,1372,1373,1374,1375,1376,1377,1378,1379,1380,1381,1382,1383,1384,1385,1386,1388,1389,1390,1391,1392,1393,1394,1395,1396,1397,1398,1399,1400,1401,1402,1403,1404,1405,1406,1408,1409,1410,1411,1412,1414,1415,1416,1418,1419,1420,1421,1422,1423,1424,1425,1426,1428,1429,1430,1431,1432,1433,1434,1435,1436,1437,1438,1439,1440,1441,1442,1443,1444,1445,1447,1448,1449,1450,1451,1452,1454,1455,1457,1458,1459,1460,1461,1463,1464,1465,1466,1467,1468,1469,1470,1471,1472,1473,1476,1477,1478,1479,1480,1481,1482,1483,1484,1485,1487,1488,1489,1490,1491,1492,1493,1495,1496,1497,1498,1499,1500,1501,1502,1503,1504,1505,1506,1507,1508,1510,1511,1512,1513,1514,1515,1516,1517,1518,1519,1520,1522,1523,1524,1525,1526,1527,1528,1529,1530,1531,1532,1533,1534,1535,1536,1538,1539,1541,1542,1543,1544,1545,1546,1547,1548,1549,1550,1551,1552,1553,1554,1555,1556,1557,1558,1559,1560,1561,1562,1564,1565,1566,1567,1569,1571,1572,1573,1574,1575,1576,1577,1579,1580,1581,1582,1583,1584,1585,1586,1594,1595,1596,1597,1598,1599,1601,1602,1603,1605,1606,1607,1608,1609,1610,1611,1612,1613,1615,1616,1618,1619,1620,1621,1623,1624,1626,1627,1628,1629,1630,1631,1633,1635,1636,1637,1639,1640,1641,1642,1644,1645,1646,1647,1648,1649,1651,1652,1653,1654,1655,1656,1657,1658,1659,1660,1661,1662,1663,1664,1665,1666,1667,1668,1669,1670,1671,1672,1673,1674,1675,1676,1677,1678,1679,1680,1682,1683,1684,1685,1686,1687,1688,1689,1690,1692,1693,1694,1695,1696,1698,1699,1700,1702,1703,1704,1705,1706,1707,1708,1709,1711,1712,1713,1714,1717,1718,1719,1720,1721,1722,1723,1724,1726,1727,1728,1729,1730,1731,1732,1733,1735,1736,1737,1738,1739,1741,1742,1743,1745,1746,1747,1748,1749,1750,1751,1752,1754,1755,1756,1757,1758,1759,1760,1761,1762,1763,1764,1765,1766,1767,1768,1769,1770,1771,1772,1773,1774,1775,1776,1777,1778,1779,1780,1781,1782,1783,1784,1785,1786,1788,1789,1790,1791,1792,1793,1794,1795,1796,1797,1798,1799,1800,1803,1804,1805,1806,1807,1809,1810,1811,1812,1813,1814,1815,1816,1817,1818,1819,1820,1821,1822,1823,1824,1825,1826,1827,1828,1829,1830,1831,1832,1833,1834,1835,1836,1837,1838,1839,1840,1842,1843,1845,1846,1847,1848,1849,1850,1851,1852,1853,1854,1856,1857,1858,1859,1860,1861,1862,1863,1864,1865,1866,1867,1869,1870,1871,1872,1873,1874,1875,1876,1877,1878,1879,1880,1881,1882,1884,1885,1886,1887,1888,1889,1890,1891,1892,1893,1894,1895,1896,1897,1900,1901,1902,1903,1904,1905,1906,1907,1908,1909,1910,1911,1912,1913,1914,1915,1916,1918,1919,1920,1921,1922,1923,1924,1925,1926,1927,1928,1929,1930,1931,1932,1933,1934,1935,1937,1938,1939,1940,1941,1942,1943,1944,1946,1947,1948,1949,1950,1951,1952,1953,1954,1955,1956,1957,1958,1960,1961,1962,1963,1964,1965,1966,1967,1968,1969,1970,1971,1972,1973,1974,1975,1976,1977,1978,1979,1980,1981,1982,1983,1984,1985,1986,1987,1988,1989,1990,1991,1992,1993,1994,1995,1996,1997,1998,1999,2001,2002,2003,2004,2005,2006,2007,2008,2009,2010,2011,2012,2013,2014,2015,2016,2017,2018,2019,2020,2021,2022,2023,2024,2025,2026,2027,2028,2029,2030,2031,2032,2033,2034,2036,2037,2038,2039,2040,2041,2042,2043,2044,2045,2046,2047,2048,2049,2050,2051,2052,2053,2054,2055,2056,2057,2058,2059,2060,2061,2062,2063,2064,2065,2066,2067,2068,2069,2070,2071,2072,2073,2074,2075,2076],\"y\":[519,47,45,141,40,59,864,258,143,58,224,63,172,45,76,71,13,6720,36,78,68,361,94,143,74,581,95,87,42,333,47,116,86,200,54,50,22,215,86,596,48,224,67,180,203,504,94,259,101,82,569,1026,100,234,52,55,49,129,130,133,2327,17877,65,1208,95,86,479,57,6505,437,112,275,252,170,58,227,86,252,610,94,65,101,237,290,228,2232,199,1177,256,565,70,554,134,2415,338,159,231,59,254,347,100,525,68,83,1089,431,126,518,1157,391,320,58,119,843,261,303,333,204,207,204,213,113,3029,517,657,255,246,147,34,313,547,157,250,141,113,238,78,227,243,61,337,45,836,140,122,341,1753,515,568,567,578,230,399,287,148,175,317,163,106,62,74,253,623,376,330,180,507,349,376,250,6797,265,395,329,510,179,409,220,122,442,200,1356,132,246,169,190,772,81,131,61,1068,154,992,160,394,1923,468,307,141,117,68,426,62,112,180,65,172,90,98,299,117,188,355,370,265,846,1345,268,359,305,146,1324,118,71,287,227,170,239,969,343,333,685,174,677,121,693,560,207,2109,718,220,591,89,817,5392,45,311,257,395,530,392,540,120,454,76,307,841,422,215,254,294,252,93,1008,524,288,1662,104,203,4363,236,133,741,210,9379,310,469,823,2703,208,430,697,246,162,231,89,1184,378,366,231,462,119,156,312,788,247,222,505,473,3781,775,312,575,275,614,436,425,604,1124,637,7747,797,241,824,981,557,3729,487,536,590,734,1471,601,4431,551,392,392,1221,773,386,395,1237,227,1074,342,167,646,787,1668,370,651,3613,581,756,131,652,472,185,398,201,356,648,436,416,632,527,345,519,614,394,882,448,538,691,591,380,992,1057,583,308,320,770,681,907,778,396,3406,284,8518,636,285,1386,225,581,635,717,334,601,289,393,784,398,262,388,509,469,529,694,2116,614,426,422,310,299,320,2256,270,1767,391,1046,382,702,330,1325,235,443,139,694,523,1411,2399,308,182,606,491,913,250,785,6380,559,334,619,508,152,575,422,385,2227,622,632,299,545,273,704,503,100,425,595,503,259,863,522,1312,225,272,936,385,507,245,1298,356,1228,276,854,532,981,341,262,1835,2839,1757,1402,18610,253,549,617,1058,650,1420,6346,497,308,421,457,104,904,379,518,3700,252,579,974,1424,1544,1047,953,637,469,1574,1261,726,1123,645,33957,328,595,377,734,5119,588,607,1235,308,873,431,484,213,1085,2200,463,726,17183,785,801,5401,842,416,961,435,891,1177,1008,1799,777,456,596,1652,261,325,246,3992,1286,505,807,874,1074,1644,928,354,1581,1079,2338,448,7009,409,6702,296,594,996,464,466,30228,2018,2823,1748,479,1645,1894,3667,530,1521,1018,1317,996,514,1299,760,9116,2838,1285,1140,8986,20845,710,1640,1427,806,2294,523,913,889,1248,15508,866,1364,688,710,7899,970,9841,1517,1010,1054,1930,811,1732,568,1300,324,554,829,533,2128,1483,794,1159,912,1485,409,691,489,1183,2204,731,1651,532,609,301,1225,1066,2032,846,4509,6474,1454,522,1026,492,4477,929,1139,1694,2239,1070,1882,1311,1355,1108,513,755,1962,1286,665,1186,395,483,1241,18590,810,623,721,1016,1154,1042,2641,1782,748,1096,1066,3705,1501,1167,1235,1090,391,1235,1592,527,747,1309,578,1145,1534,3657,616,1297,1382,3930,1096,919,594,1626,534,1162,3468,1590,742,1342,488,1204,719,4438,1278,17395,862,1622,644,3233,682,595,713,464,1304,819,757,626,981,599,1511,893,1327,1631,3517,680,1099,2745,561,2535,2111,10177,601,602,278,641,570,937,776,1065,1260,401,870,653,931,4935,808,776,736,219,412,777,874,857,962,575,1112,275,799,1226,1033,1581,509,6116,726,4316,1024,837,1317,771,491,415,1870,816,1150,460,985,962,500,669,314,879,580,1418,1124,2212,1391,378,1000,733,8478,941,1274,640,565,1142,1826,1063,885,912,3837,467,1502,1701,4035,973,893,669,977,826,512,676,3555,812,558,1376,686,2179,409,883,461,659,408,1155,1026,2256,553,687,15954,1037,875,666,1217,675,1637,3944,1998,2335,862,1292,1259,1144,729,392,786,1983,747,1134,737,1286,1106,2055,1524,751,558,1395,1121,1313,760,1425,365,814,6608,2231,1053,500,687,375,419,757,683,997,1086,1319,1308,726,699,964,488,682,370,567,2889,5073,671,1372,545,1072,1492,644,763,3058,736,824,1994,631,886,10382,1058,551,674,637,5679,669,1033,511,1520,1126,1089,1483,842,1138,1064,3629,619,1192,799,13877,3412,610,426,1262,766,1678,761,1253,514,1007,619,386,3919,1173,1103,3199,1115,1697,601,667,572,885,829,1879,1826,1023,1279,626,989,821,1776,1010,513,8823,1016,1134,1552,694,1204,1067,665,652,1515,884,747,885,709,1188,1447,661,774,7090,1104,675,1049,1073,1238,2121,596,1076,927,1693,813,1492,903,749,806,896,7661,554,988,1817,459,706,6429,632,767,653,267,1175,1338,1313,109,1187,2199,983,980,1235,1387,568,2065,625,591,754,1537,691,804,1259,1015,20096,4541,1084,2544,693,542,997,1153,1716,1340,5485,7431,1599,3121,1418,1517,819,854,1539,968,926,792,1023,1099,1558,1134,1366,2070,724,756,1731,1784,1421,1869,968,1913,1196,242,1523,1289,1081,2095,930,2023,1244,656,1101,556,1654,586,1113,531,8903,1930,1210,1050,1370,812,2129,1591,1931,2202,1243,1074,2772,1641,745,847,677,2071,1797,1726,2065,985,3277,1347,1744,609,1943,1813,708,1435,1957,1492,2910,1274,1106,1657,2691,1503,902,823,1352,1923,698,1204,1839,1295,1050,2220,1149,743,1871,899,362,2536,1368,1230,2123,1154,1152,2380,2185,1398,1076,6028,2773,850,978,589,17485,1413,1048,1115,860,599,6961,568,1068,973,5615,2607,1208,1268,3275,3052,1375,1927,8187,886,4944,1477,3824,1962,733,3761,1334,939,1728,895,1255,51320,3249,23782,1839,938,1192,6559,2176,945,483,14744,7530,864,1035,3079,3433,3575,923,3066,1668,1737,1519,2207,4220,4292,2198,1511,2109,1336,4089,1044,7286,1526,1060,1208,77988,2376,1725,2978,701,2533,3067,2711,2820,2583,1182,913,2450,1825,1201,1993,1774,2384,4453,1018,1747,1156,1761,1179,607,1294,831,1099,2841,2399,798,851,1380,754,2222,1472,1779,1049,2505,3803,874,1685,2462,3864,609,1867,1466,2728,898,1013,875,690,992,3728,607,938,1441,1406,1077,1274,4823,1283,5626,1557,1455,2039,6552,1105,1412,1246,3374,2179,1497,2062,1235,3840,1755,1798,1750,1088,1162,2607,2143,3992,2436,4019,2603,823,2173,583,2815,12382,6012,3223,1710,17837,1203,4065,1481,2240,2227,1591,1960,7613,1184,1246,1366,3630,423,1213,2151,2487,1109,1788,4289,1001,2257,4711,2175,2753,1315,2137,2220,6367,2024,972,12872,4066,1450,2156,1087,3879,1736,1237,1623,1315,32656,962,2267,17535,1267,4739,7358,4082,2551,1666,4704,1708,1983,3809,2421,3801,1375,2422,561,982,2121,1786,891,1532,3202,4297,2635,6077,1586,3985,3865,1438,1358,1013,7382,1925,1876,10865,2594,1676,2323,1971,1588,1378,1868,1616,3284,5772,2948,3834,1046,531,825,1269,1566,1919,2615,4391,4632,3616,8453,6967,1464,1843,1951,4382,6322,1964,1987,5357,3376,5190,4526,3032,173,4929,2841,18072,3167,1370,4892,2824,3327,1857,1839,2989,3749,4915,1142,1693,1519,8256,5118,4127,3531,8029,2534,1203,1971,3765,1470,2260,8343,3088,2387,6276,3074,3820,6318,2139,6108,1575,8329,2509,13297,6274,2558,3652,2226,12309,1449,2880,3651,5526,1863,2285,2512,2072,3580,5446,3980,3524,2929,6915,9122,1988,3222,3167,3473,1504,1485,2431,6047,11741,14127,3175,2951,3839,2206,2028,2642,3661,2127,8152,2163,5357,2426,2894,4681,3573,2040,4887,1917,4864,4591,4448,2830,1952,3172,2254,6393,3221,3260,3732,9486,2688,10467,2716,1864,2137,5578,3795,3013,2636,6175,3259,27140,4204,2632,2753,16287,4743,2006,3493,2155,7552,5515,3578,2900,1636,5096,2800,3164,2172,2458,15019,2916,3186,2436,3422,3151,2369,6792,942,2341,1940,2962,6655,2856,2279,2810,2119,4714,3146,18457,4377,1927,2870,1878,2081,2156,1366,2700,39828,4332,61663,4184,4011,2470,2944,2455,3452,3978,6393,1668,4434,3816,13016,2998,2036,1624,7261,3561,1831,1593,4170,2186,1392,1628,2163,8309,2209,3143,4110,3141,3565,2670,2511,2180,4951,2042,8270,2010,15902,2137,9863,2105,3071,1472,4304,1866,2570,9646,1184,2441,2219,9185,2488,2312,1874,2962,2273,1093,17037,3434,3013,30669,2940,2571,2804,2917,8397,41327,21336,7560,1358,2221,3539,5478,1334,7098,638,3640,11243,2584,2413,2271,4924,1993,1870,2640,11125,16704,7225,3342,2572,49565,3876,4540,2984,2714,3052,4357,11653,1953,3967,1448,5143,19342,2797,2102,3525,1055,2911,4715,2640,11553,5623,2516,3427,1056,3364,5873,2398,3202,3276,1191,2490,1436,1285,1506,12587,6598,18201,8323,10465,2281,11896,2200,3377,18870,1687,2299,2721,1242,1708,2563,2186,2025,7296,6874,5216,2611,3567,2487,3137,4035,2475,5411,2298,3570,3835,2673,2464,4040,5339,1865,2819,6060,1836,3371,6392,1892,3322,4033,4814,4761,3266,2463,5125,2554,2667,5879,2564,490,8731,3490,5343,1471,2297,7255,8613,2545,6343,5043,1939,1093,5860,5195,4079,8566,3329,6418,3854,1416,3942,6701,3017,5112,2410,3455,11392,3535,5928,2016,5247,9648,3160,9969,12759,4321,3505,6431,4689,3704,1479,5622,3366,5032,4722,9319,2062,3421,8306,5343,4155,2844,10135,6224,7685,3755,1710,7407,10739,3808,2325,1994,3850,10994,6255,3378,8092,5054,7407,6547,8823,18853,6731,3071,4267,4823,1738,11276,2750,3092,5146,3685,14436,32082,1668,3711,4261,6179,3670,5571,2279,4021,4395,11283,24554,5235,3721,5333,2608,5547,4377,4346,9405,3198,9159,8040,5244,5863,15139,36792,3642,8225,2629,7619,4346,2178,6145,15038,3932,3247,6548,10409,8628,4288,27087,2741,6423,3910,3552,3581,11581,8352,6510,9229,3805,3792,5545,1627,4041,10733,4048,4216,4751,4809,5026,4388,4793,2459,3435,5713,5292,3908,19567,6986,1318,4208,2742,4808,3172,44963,3244,3562,4430,4311,6396,3892,2827,5239,16259,10865,3447,5068,11802,6185,5002,3999,6781,3748,10149,3503,3041,5741,5000,5942,18810,4453,6544,6919,6393,3237,4543,3353,7890,6058,10565,18522,11847,5482,3567,3652,4424,4574,5533,2264,4616,10231,5044,7455,7543,7543,4328,4328,19207,19207,2109,2109,3168,3168,9549,9549,8771,8771,4227,4227,6366,6366,8666]}},\"id\":\"83de1a18-1cf3-4c84-8bf6-b65bd5e5e099\",\"type\":\"ColumnDataSource\"},{\"attributes\":{\"callback\":null,\"overlay\":{\"id\":\"cb6f404d-11ca-42fb-b24d-804537d9c8b2\",\"type\":\"BoxAnnotation\"},\"renderers\":[{\"id\":\"8fdf7cfb-f502-404f-b1ba-d48b61b4a06f\",\"type\":\"GlyphRenderer\"}]},\"id\":\"c2bed535-7c4c-43a1-bda5-3cd634fef947\",\"type\":\"BoxSelectTool\"},{\"attributes\":{\"callback\":null,\"overlay\":{\"id\":\"740f3976-a098-4445-a5fc-415ba0ccd946\",\"type\":\"PolyAnnotation\"}},\"id\":\"7e390d94-399f-4c90-8d1c-1cb0d8039cb0\",\"type\":\"PolySelectTool\"},{\"attributes\":{\"plot\":null,\"text\":\"The Trend of the Retweets Number\"},\"id\":\"b233f2f3-ef7c-4f29-9bcc-58766c66321f\",\"type\":\"Title\"},{\"attributes\":{\"callback\":null,\"overlay\":{\"id\":\"9c42c4ce-1f5e-4a26-b2f3-cb40b7f4112c\",\"type\":\"PolyAnnotation\"}},\"id\":\"127ffd20-7c91-4bc7-a345-0474a5d14522\",\"type\":\"LassoSelectTool\"},{\"attributes\":{},\"id\":\"87da0b55-fe45-4bd4-8b63-76db75d3f9ca\",\"type\":\"LinearScale\"},{\"attributes\":{\"callback\":null},\"id\":\"d87cd08a-3b32-475a-b8cf-cef0f8acbf99\",\"type\":\"DataRange1d\"},{\"attributes\":{\"fill_alpha\":{\"value\":0.5},\"fill_color\":{\"value\":\"lightgrey\"},\"level\":\"overlay\",\"line_alpha\":{\"value\":1.0},\"line_color\":{\"value\":\"black\"},\"line_dash\":[4,4],\"line_width\":{\"value\":2},\"plot\":null,\"xs_units\":\"screen\",\"ys_units\":\"screen\"},\"id\":\"9c42c4ce-1f5e-4a26-b2f3-cb40b7f4112c\",\"type\":\"PolyAnnotation\"},{\"attributes\":{\"axis_label\":\"Retweets Number\",\"formatter\":{\"id\":\"838053e7-1a78-4576-be92-eeabe620f08a\",\"type\":\"BasicTickFormatter\"},\"plot\":{\"id\":\"07bdb78e-cea4-4f26-9acc-a761b01972cc\",\"subtype\":\"Figure\",\"type\":\"Plot\"},\"ticker\":{\"id\":\"dde304fb-7e9d-41e8-a858-c670ffd9f6c0\",\"type\":\"BasicTicker\"}},\"id\":\"b3e340be-ab43-44b5-8b25-a6416887d971\",\"type\":\"LinearAxis\"},{\"attributes\":{\"bottom_units\":\"screen\",\"fill_alpha\":{\"value\":0.5},\"fill_color\":{\"value\":\"lightgrey\"},\"left_units\":\"screen\",\"level\":\"overlay\",\"line_alpha\":{\"value\":1.0},\"line_color\":{\"value\":\"black\"},\"line_dash\":[4,4],\"line_width\":{\"value\":2},\"plot\":null,\"render_mode\":\"css\",\"right_units\":\"screen\",\"top_units\":\"screen\"},\"id\":\"cb6f404d-11ca-42fb-b24d-804537d9c8b2\",\"type\":\"BoxAnnotation\"},{\"attributes\":{\"active_drag\":\"auto\",\"active_inspect\":\"auto\",\"active_scroll\":\"auto\",\"active_tap\":\"auto\",\"tools\":[{\"id\":\"cfc9c061-5961-4b0b-a18e-f5b44ea159ba\",\"type\":\"HoverTool\"},{\"id\":\"ebb891fd-a92c-4efd-b947-29f41a81c0bb\",\"type\":\"CrosshairTool\"},{\"id\":\"702f824a-39b4-473a-a772-c0f1984aec3a\",\"type\":\"PanTool\"},{\"id\":\"294ec326-1098-4004-b978-a10b7aa80128\",\"type\":\"WheelZoomTool\"},{\"id\":\"98e22c0e-0751-42c3-b4f2-725540e97f1a\",\"type\":\"ZoomInTool\"},{\"id\":\"41222e5d-71ea-449b-a76a-0b9302ef524c\",\"type\":\"ZoomOutTool\"},{\"id\":\"3e353234-ffd5-4c86-a2dc-60fee373b07c\",\"type\":\"BoxZoomTool\"},{\"id\":\"0f5ee6d6-4608-4e30-91fc-12b9f59dda74\",\"type\":\"UndoTool\"},{\"id\":\"2dbe8160-2a71-424d-bdcd-f6faf37cd0a5\",\"type\":\"RedoTool\"},{\"id\":\"7bf74dc0-5a1d-440c-a6cf-bde6f9f5ecf3\",\"type\":\"ResetTool\"},{\"id\":\"8e9abb6f-88c5-4287-b0b3-98e26adccbd3\",\"type\":\"TapTool\"},{\"id\":\"145950b4-7367-4801-94da-29da89994621\",\"type\":\"SaveTool\"},{\"id\":\"c2bed535-7c4c-43a1-bda5-3cd634fef947\",\"type\":\"BoxSelectTool\"},{\"id\":\"7e390d94-399f-4c90-8d1c-1cb0d8039cb0\",\"type\":\"PolySelectTool\"},{\"id\":\"127ffd20-7c91-4bc7-a345-0474a5d14522\",\"type\":\"LassoSelectTool\"}]},\"id\":\"262a68d3-3872-45c1-a681-59b2fcbabf21\",\"type\":\"Toolbar\"},{\"attributes\":{},\"id\":\"dde304fb-7e9d-41e8-a858-c670ffd9f6c0\",\"type\":\"BasicTicker\"},{\"attributes\":{\"dimension\":1,\"plot\":{\"id\":\"07bdb78e-cea4-4f26-9acc-a761b01972cc\",\"subtype\":\"Figure\",\"type\":\"Plot\"},\"ticker\":{\"id\":\"dde304fb-7e9d-41e8-a858-c670ffd9f6c0\",\"type\":\"BasicTicker\"}},\"id\":\"5010874b-791a-475a-b041-92a80d5237c0\",\"type\":\"Grid\"},{\"attributes\":{\"callback\":null},\"id\":\"f5c90db4-10cd-4ca7-9e97-2db1d9ec66ea\",\"type\":\"DataRange1d\"},{\"attributes\":{},\"id\":\"e991e43a-ac6b-4506-a410-2bd044ddfa7d\",\"type\":\"LinearScale\"},{\"attributes\":{\"plot\":{\"id\":\"07bdb78e-cea4-4f26-9acc-a761b01972cc\",\"subtype\":\"Figure\",\"type\":\"Plot\"},\"ticker\":{\"id\":\"a15c44d7-740c-4c19-9070-108a6d0fb75d\",\"type\":\"BasicTicker\"}},\"id\":\"7966ac42-8a37-47ea-b196-864df05925b4\",\"type\":\"Grid\"},{\"attributes\":{\"axis_label\":\"Time\",\"formatter\":{\"id\":\"0e0dda2f-33d0-47ff-9543-98440592b46b\",\"type\":\"BasicTickFormatter\"},\"plot\":{\"id\":\"07bdb78e-cea4-4f26-9acc-a761b01972cc\",\"subtype\":\"Figure\",\"type\":\"Plot\"},\"ticker\":{\"id\":\"a15c44d7-740c-4c19-9070-108a6d0fb75d\",\"type\":\"BasicTicker\"}},\"id\":\"931d761c-aae2-48b3-8e77-5188d1d0fe9e\",\"type\":\"LinearAxis\"},{\"attributes\":{},\"id\":\"a15c44d7-740c-4c19-9070-108a6d0fb75d\",\"type\":\"BasicTicker\"}],\"root_ids\":[\"07bdb78e-cea4-4f26-9acc-a761b01972cc\"]},\"title\":\"Bokeh Application\",\"version\":\"0.12.14\"}};\n",
       "  var render_items = [{\"docid\":\"b3b6b5c6-2054-4f69-8754-6541a3f4de15\",\"elementid\":\"480a1ed0-6f9f-4451-b49b-029e04959813\",\"modelid\":\"07bdb78e-cea4-4f26-9acc-a761b01972cc\",\"notebook_comms_target\":\"35c311fe-36f0-4533-b105-91753141c111\"}];\n",
       "  root.Bokeh.embed.embed_items_notebook(docs_json, render_items);\n",
       "\n",
       "  }\n",
       "  if (root.Bokeh !== undefined) {\n",
       "    embed_document(root);\n",
       "  } else {\n",
       "    var attempts = 0;\n",
       "    var timer = setInterval(function(root) {\n",
       "      if (root.Bokeh !== undefined) {\n",
       "        embed_document(root);\n",
       "        clearInterval(timer);\n",
       "      }\n",
       "      attempts++;\n",
       "      if (attempts > 100) {\n",
       "        console.log(\"Bokeh: ERROR: Unable to run BokehJS code because BokehJS library is missing\")\n",
       "        clearInterval(timer);\n",
       "      }\n",
       "    }, 10, root)\n",
       "  }\n",
       "})(window);"
      ],
      "application/vnd.bokehjs_exec.v0+json": ""
     },
     "metadata": {
      "application/vnd.bokehjs_exec.v0+json": {
       "id": "07bdb78e-cea4-4f26-9acc-a761b01972cc"
      }
     },
     "output_type": "display_data"
    }
   ],
   "source": [
    "plot1 = figure(tools=TOOLS,\n",
    "               title=\"The Trend of the Retweets Number\", \n",
    "               x_axis_label='Time', y_axis_label='Retweets Number')\n",
    "plot1.scatter(x = twitter.index, y = twitter['Retweets_number'],\n",
    "          fill_color='green', fill_alpha=0.6,\n",
    "          line_color=None)\n",
    "handle = show(plot1, notebook_handle=True)\n",
    "push_notebook(handle=handle)"
   ]
  },
  {
   "cell_type": "code",
   "execution_count": 242,
   "metadata": {},
   "outputs": [
    {
     "data": {
      "text/html": [
       "\n",
       "<div class=\"bk-root\">\n",
       "    <div class=\"bk-plotdiv\" id=\"71882892-167a-487b-8705-ee7e18071f34\"></div>\n",
       "</div>"
      ]
     },
     "metadata": {},
     "output_type": "display_data"
    },
    {
     "data": {
      "application/javascript": [
       "(function(root) {\n",
       "  function embed_document(root) {\n",
       "    \n",
       "  var docs_json = {\"a7a696b5-009e-48bf-b42c-9bdc318b8c16\":{\"roots\":{\"references\":[{\"attributes\":{\"data_source\":{\"id\":\"92cd2513-69fa-4cd6-aa3a-2887a1078f56\",\"type\":\"ColumnDataSource\"},\"glyph\":{\"id\":\"6a630f30-9c46-448f-b7bd-62a101129180\",\"type\":\"Circle\"},\"hover_glyph\":null,\"muted_glyph\":null,\"nonselection_glyph\":{\"id\":\"f1ad1428-acd3-41c8-a4e2-b5454e7aa909\",\"type\":\"Circle\"},\"selection_glyph\":null,\"view\":{\"id\":\"cae35cb0-216b-442a-ab0c-cee68f2018ee\",\"type\":\"CDSView\"}},\"id\":\"6e3839af-2163-4947-aec8-2a52bef592b6\",\"type\":\"GlyphRenderer\"},{\"attributes\":{\"fill_alpha\":{\"value\":0.5},\"fill_color\":{\"value\":\"lightgrey\"},\"level\":\"overlay\",\"line_alpha\":{\"value\":1.0},\"line_color\":{\"value\":\"black\"},\"line_dash\":[4,4],\"line_width\":{\"value\":2},\"plot\":null,\"xs_units\":\"screen\",\"ys_units\":\"screen\"},\"id\":\"35fa293e-ebb2-473e-8169-387d1e5b6294\",\"type\":\"PolyAnnotation\"},{\"attributes\":{},\"id\":\"c00ffd45-8802-4bfe-89c6-a532a780defb\",\"type\":\"ZoomInTool\"},{\"attributes\":{},\"id\":\"d99caa38-2da7-4255-9036-0f03af980da1\",\"type\":\"LinearScale\"},{\"attributes\":{\"active_drag\":\"auto\",\"active_inspect\":\"auto\",\"active_scroll\":\"auto\",\"active_tap\":\"auto\",\"tools\":[{\"id\":\"43d1572f-6f31-4709-b6d3-9a0543446a8c\",\"type\":\"HoverTool\"},{\"id\":\"d473aeac-171f-4191-8928-bcd30cabf028\",\"type\":\"CrosshairTool\"},{\"id\":\"79b6c7cc-17d2-4f97-85a7-90c9e4b2ada9\",\"type\":\"PanTool\"},{\"id\":\"5f792058-eeb8-43fb-a089-48b3c2821583\",\"type\":\"WheelZoomTool\"},{\"id\":\"c00ffd45-8802-4bfe-89c6-a532a780defb\",\"type\":\"ZoomInTool\"},{\"id\":\"75a112c5-724c-4125-bab0-0b9f5846a52d\",\"type\":\"ZoomOutTool\"},{\"id\":\"92f18c5f-fe5d-4e2b-b3ff-f9ab9a1678a1\",\"type\":\"BoxZoomTool\"},{\"id\":\"55bceede-d1d3-4f3b-ab01-57ecc734de9e\",\"type\":\"UndoTool\"},{\"id\":\"0ac1823f-bb8f-42e2-bb2b-e388fec3e44d\",\"type\":\"RedoTool\"},{\"id\":\"f7285477-93e8-4510-b30f-554d410a8112\",\"type\":\"ResetTool\"},{\"id\":\"a932a40d-9dbb-40e4-8276-ba8b92085094\",\"type\":\"TapTool\"},{\"id\":\"986be73d-55e4-4436-9813-14b7fe82855f\",\"type\":\"SaveTool\"},{\"id\":\"7b7edfc9-7570-43f4-8727-6c8a64000247\",\"type\":\"BoxSelectTool\"},{\"id\":\"1098826c-64de-4b7e-b9e8-a9e53b4db664\",\"type\":\"PolySelectTool\"},{\"id\":\"c0634e1d-3ecc-42c7-b305-3b4fef2d061b\",\"type\":\"LassoSelectTool\"}]},\"id\":\"d82524f3-8a49-41d3-8ad5-db5606b4facd\",\"type\":\"Toolbar\"},{\"attributes\":{\"callback\":null},\"id\":\"43d1572f-6f31-4709-b6d3-9a0543446a8c\",\"type\":\"HoverTool\"},{\"attributes\":{},\"id\":\"79b6c7cc-17d2-4f97-85a7-90c9e4b2ada9\",\"type\":\"PanTool\"},{\"attributes\":{\"callback\":null,\"column_names\":[\"x\",\"y\"],\"data\":{\"x\":{\"__ndarray__\":\"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\",\"dtype\":\"float64\",\"shape\":[1974]},\"y\":[2520,131,126,304,109,133,1236,443,300,114,484,150,326,120,166,159,80,14506,105,179,151,513,201,304,227,788,192,170,112,452,127,321,167,322,168,129,105,531,236,903,190,443,240,360,398,786,246,535,261,221,841,2634,252,463,194,223,171,416,341,339,4761,48988,264,2769,229,257,631,195,14852,770,404,639,508,379,203,482,318,467,812,321,197,268,552,549,554,7036,382,1767,487,850,209,902,345,6021,510,387,463,240,428,720,339,1091,296,251,3119,657,405,849,1972,878,510,218,309,1330,694,581,514,512,679,577,531,320,6491,1036,1359,580,866,526,261,646,923,482,445,429,339,490,260,483,542,257,639,210,1513,410,333,748,2960,1089,1125,925,938,553,736,597,457,471,551,414,332,281,296,740,1370,831,565,574,946,711,784,460,21808,600,776,683,1057,461,945,516,600,1055,465,2838,383,652,480,515,1396,377,405,244,1659,455,1559,538,992,3701,840,699,369,408,284,841,245,394,526,315,462,337,345,612,786,675,696,801,664,1637,2332,725,1084,737,442,4035,444,340,772,584,449,586,2138,591,658,1371,537,1455,336,1472,1098,678,7018,1243,572,1012,366,1602,11235,261,784,613,795,1276,867,1005,466,1126,341,810,1650,854,630,689,870,758,351,2058,1199,1177,3329,635,810,5829,763,464,1164,619,1153,1196,1405,3657,781,971,1220,699,700,755,391,1737,910,1173,770,1013,498,418,1170,1483,793,611,1052,964,7368,1690,989,1461,878,1072,1229,965,1140,2089,1420,13464,1508,770,1400,1752,1242,7393,956,1171,1306,1476,3620,1388,8846,1358,986,1038,2516,1835,907,1059,2364,816,1922,935,714,1800,1486,2942,1197,1561,6759,1416,1508,741,1188,1163,679,1072,760,992,1379,1167,1160,1276,1355,1016,1319,1375,1075,1623,927,1422,1487,1372,996,1768,1883,1300,1016,998,2055,1782,2363,1480,1111,7891,902,14194,1324,1013,2643,765,1725,1565,1524,1067,1447,865,1246,1663,1174,750,1309,1432,1515,1325,1828,3985,1506,1315,1157,1122,890,1093,3737,979,3347,1222,2059,1265,1644,1189,1880,886,1157,756,1490,1532,3506,6699,1028,789,1547,1358,1721,943,1654,15541,1485,900,1578,1263,716,1508,1175,1121,6548,1581,1775,1081,1507,974,1708,1209,676,1178,1476,1552,833,1936,1191,2112,852,1164,3173,912,1638,1032,2857,1119,2947,1021,2075,1367,2256,1269,1003,3963,6672,3830,2950,34696,1114,1803,1604,1952,1377,3327,18190,1387,1103,1249,1911,681,2009,1233,1711,10895,1119,1620,2432,2864,4440,2535,2267,1744,1402,3209,2983,2046,2424,1846,79131,1300,2203,1486,1831,12422,1608,1999,2760,1286,2484,1252,2006,1157,3091,5302,1510,1921,24656,2241,2396,13576,2216,1818,2312,1386,2352,2961,2924,3781,2126,1334,1761,3880,1169,1453,1140,7429,2615,1382,2288,2010,2094,3572,2640,1309,3629,3270,5183,1447,14746,1698,12317,1395,1863,2611,2002,1707,61394,4558,5825,4284,2212,3086,4030,7677,1752,3792,2992,3743,2765,1764,2503,2428,18401,6412,3190,2981,23140,34217,2253,3414,3638,2852,5129,1782,2326,2266,3328,39056,2551,3094,2642,2119,17977,2768,13745,3831,2916,2471,3890,2490,4200,2307,3052,1567,1556,2726,4565,3885,2837,3081,2558,3712,1901,2569,2236,3475,4910,2617,4000,2576,1612,1563,3465,3431,4263,2873,10022,15465,3824,2066,2852,1893,13774,2653,2984,3390,7093,3472,5354,3510,4501,3321,1795,2393,8180,3701,2220,3286,1412,1639,2660,40008,2327,2136,2330,3675,3102,3176,8206,4210,2630,2834,3409,7042,3616,2998,2831,2826,2075,4095,4439,2141,2180,3756,2065,2348,4153,8826,2129,4174,3257,9663,2928,2258,2019,3785,3786,3466,7181,4414,2507,3354,2222,3614,2866,10270,3279,35599,3163,3499,2522,8126,1770,2282,1965,2668,3363,2381,2369,2390,3500,2033,3976,3021,4482,3751,9280,2415,2519,6264,2332,5907,4696,21723,2200,2141,1724,2068,2093,2631,2582,2705,2944,1847,3042,2284,2393,10035,2482,2808,2386,1029,1478,2408,2270,2275,2943,2191,3303,1249,2158,3553,2428,3660,2217,12555,2420,11228,3441,2335,3248,2609,1471,1533,3937,2698,3014,1813,2870,3498,2008,2117,1409,2500,2334,4065,3549,4468,3849,1839,3199,2783,20898,2856,4381,2552,2085,3126,4251,3092,2322,2715,10105,1987,3448,4662,7370,3098,2464,1938,2630,2882,2017,1853,8520,3076,2407,3614,1904,5467,1657,2638,2741,2911,1863,3641,3180,4518,2167,2200,38203,2990,2867,1733,3061,2834,3932,9292,4697,4933,3433,3236,3468,2744,2565,1585,2638,5222,2538,3447,2711,3255,3552,5035,3685,2608,2204,3262,3403,3255,2582,3546,1639,3034,18114,5119,2446,2012,2495,1380,1567,2669,2736,2915,3655,2818,3241,2632,2408,3401,2021,2220,1477,2342,6386,11055,2108,2986,2426,3287,3568,2225,2839,8140,2416,2854,4468,2448,2835,24690,2623,2613,2790,2400,13239,2854,3028,2248,3841,4113,3702,5186,2659,3544,3085,11140,2361,3462,2780,28504,7948,2115,2048,3776,2653,4159,2795,3554,1985,3151,1998,1704,8656,3663,3169,7150,2849,5514,2423,2337,2314,2774,3226,4113,4797,3192,3416,2550,3376,3338,5531,2924,1827,23071,3706,3335,3716,2320,2775,3563,2226,2468,4364,2365,2762,2958,2654,3535,3775,2442,2449,18262,3688,2676,3522,2897,3332,4694,2080,2889,3647,4581,2523,3883,3305,2728,2741,2940,17738,1824,3182,5123,2198,2592,13543,2577,2818,2391,1596,3530,3794,3767,721,3199,5911,2974,3115,2576,4857,2279,4895,2473,2892,2739,4887,3217,3540,3924,4157,35289,9586,3053,8640,2418,3475,3163,4082,5711,4462,13270,20008,4785,7734,4719,5229,3023,3499,4609,2438,3506,3226,3881,3506,4439,4028,4476,5494,2583,3240,5861,4636,4188,5005,3437,5240,2986,2531,5920,4570,3508,6726,3384,6180,3114,2622,4146,2068,5227,2897,2673,2624,20351,5619,3748,3656,4728,2985,5417,4890,5196,5257,4168,3073,6872,4427,2652,3344,2711,4997,5312,4408,5685,3242,8296,4173,4488,2859,4654,5700,2548,3973,5565,4464,7573,4737,3815,4121,7391,4151,3264,3563,4808,6336,3150,4410,4880,4639,3942,5296,3562,2998,5015,3410,2025,6237,4290,4321,5253,4114,3737,5301,6581,4124,3747,16061,8700,3962,3799,2624,45690,4525,3378,3954,3863,2695,13527,2939,3367,3618,13992,6672,4322,3874,8519,8743,4313,4648,15804,3881,11113,5428,10761,5664,2727,9475,4655,3531,5487,3604,4053,73867,7757,42929,5814,4081,4373,21513,7204,3560,2674,37384,19559,3058,3681,6912,10182,9480,3957,8814,4899,5564,4683,7330,10644,7825,4803,4142,6681,4549,8517,3803,19946,4840,3931,4483,129084,7298,6043,8507,3227,7820,7733,9259,7685,7526,4364,3838,7443,6537,5018,6537,5269,6483,10383,3665,5712,4191,6022,3991,2515,5264,3036,3191,7182,6284,3976,4018,5652,2370,6578,4588,5134,2997,6346,11660,3364,5196,5959,9336,2848,6618,5042,3281,3520,2943,3447,3391,8518,2358,3301,4679,3939,3359,4928,14320,4848,14386,5214,5530,6852,13579,3476,5466,4792,8570,6318,5682,6471,4154,8029,4805,6537,7468,4223,3701,8279,6297,8595,6360,9569,8530,4084,5770,2803,7481,23067,17917,7966,7007,39916,4298,11321,5524,7232,6824,4923,6348,16496,4744,4957,4945,7490,2959,3732,5667,5237,4151,6239,12195,3856,7101,15813,6611,9269,5120,6491,7318,16012,6226,4287,29178,8264,5398,7212,4177,12286,5811,4879,5697,4505,54041,4651,5901,34885,5267,11316,12328,13307,8024,5921,13793,6605,6985,12692,7729,28582,5661,7890,4071,4676,7395,6581,4413,5553,11047,13419,8166,17527,5206,11920,14866,5504,4496,4586,15757,5905,6992,34402,8271,6813,6876,8011,5671,5417,7535,6794,10064,11544,9034,13144,4385,2963,4096,4124,6568,7091,8719,9395,10929,10251,25403,24138,5837,7202,6995,11753,23832,7373,9336,17022,8167,14152,15186,12822,2008,12888,10513,32855,9718,5352,15689,9592,12322,6971,9301,11381,14933,5103,6344,7575,21976,16230,12964,9685,20920,9565,5797,6925,13283,6057,7891,23763,10715,9282,22812,11449,12184,18327,8571,18959,8193,26529,8954,32143,18579,9314,11476,8095,33107,6241,9868,11163,13305,8003,10031,8588,7354,12511,16892,12003,10353,11762,29237,8585,11929,11250,9568,6756,6769,7975,17186,30237,30157,10691,10048,12960,7487,8312,10217,13844,8626,22775,9035,18295,10919,9689,14461,12948,7909,14881,8087,12463,15814,13972,7107,6791,10352,7612,16818,9837,10834,11603,22021,9515,27149,11773,8789,10141,18566,10156,10524,11318,17879,11126,54915,11892,9304,10005,35654,12138,8345,13076,8437,22014,15978,12824,11400,8160,14500,8910,10903,8842,9260,31283,16839,12266,10387,14471,11543,8876,26973,6675,9006,8484,9970,17866,9829,9933,11045,8500,12075,11052,49052,15116,8550,9626,6290,7228,9078,7040,11219,82760,14309,123605,16018,13798,9572,12391,8671,11087,14478,21892,7606,16996,16131,38981,12028,9944,5857,22932,14052,8282,7975,15009,8778,6681,7266,8284,22973,8726,10826,11521,11330,13035,9220,8474,10239,21740,10055,20475,9159,39795,10181,31506,9504,12342,8356,11308,9022,10776,24645,5461,9773,9418,33483,10740,10920,9374,13264,9541,6144,37544,12912,11709,56770,13464,12026,11945,10792,24244,94175,49256,25239,7892,10451,14676,14047,5820,21626,3652,13346,34469,13822,10483,9543,12871,8739,9202,12389,38231,31254,19793,16078,14388,144133,18853,17163,14184,13659,11582,16361,12816,10947,16281,6913,19899,56537,13831,11359,17040,5288,14407,20000,10943,39687,23426,11486,17226,8043,16764,21864,11227,12761,13570,8011,13680,8292,6810,10309,39659,27698,57386,26574,37548,11354,34354,13256,10644,72397,8615,12871,12642,7013,9911,9738,7763,11304,29905,25955,19303,12193,18534,12926,17131,18170,14361,21814,16015,22273,16515,14454,14078,16962,22225,10362,14777,22679,11671,24188,28130,8365,17628,19170,20582,22850,15833,13565,20707,13674,17229,22707,13776,4139,36768,18920,24295,11718,12000,29206,29547,14404,20663,17651,9622,13185,24553,17017,13534,27425,15001,26200,19336,7207,16225,22973,18035,22855,14541,17573,41342,16125,24858,8123,26752,31215,17018,33828,47587,21357,22767,21240,21682,19903,5839,24910,17341,26249,26711,44737,12090,16804,32218,21635,17256,13785,32835,21770,25591,17071,12049,21041,34824,17222,15683,9484,16289,36618,29977,16911,33393,19744,30659,23840,31218,47225,28728,16919,19632,20721,6135,35501,16714,16291,22276,16083,35080,93047,19207,15893,19736,17220,18897,24366,7741,17250,17721,37181,76844,21164,17549,19716,8793,24444,15696,21178,30981,14990,33165,28698,27142,26234,53878,124809,19789,32932,16501,34661,24631,10371,27883,66813,20805,16253,28710,43084,37239,22153,83871,12624,34105,22957,20466,20507,38550,34847,34610,41060,21014,14853,27652,7348,24486,35016,22828,26277,28079,25683,22081,25394,28104,18913,20834,27339,27542,22958,80512,42333,7819,19515,19079,22745,16880,106633,23550,22441,27804,27263,28708,21444,17123,23212,49753,50892,24451,29550,45259,28054,28513,24084,37464,22694,46270,22048,20506,27172,24463,28126,78012,22086,36224,32937,28153,21263,22581,12158,35412,30748,33883,69572,46491,30383,21910,20053,25754,29268,25439,15186,27354,48348,27956,30828,32145,32145,27931,27931,65983,65983,11930,11930,20343,20343,40553,40553,42403,42403,25201,25201,33431,33431,39039]}},\"id\":\"92cd2513-69fa-4cd6-aa3a-2887a1078f56\",\"type\":\"ColumnDataSource\"},{\"attributes\":{\"axis_label\":\"Score\",\"formatter\":{\"id\":\"d2d02716-610b-446c-a63a-05a04bf3815e\",\"type\":\"BasicTickFormatter\"},\"plot\":{\"id\":\"ee4afe18-3e01-468a-91df-26d2c727634a\",\"subtype\":\"Figure\",\"type\":\"Plot\"},\"ticker\":{\"id\":\"dab75cd6-a47b-40cf-b8fc-cfb9e17dd2c5\",\"type\":\"BasicTicker\"}},\"id\":\"0480bbab-5e93-40b8-b5d7-d8078d0e46f2\",\"type\":\"LinearAxis\"},{\"attributes\":{\"fill_alpha\":{\"value\":0.1},\"fill_color\":{\"value\":\"#1f77b4\"},\"line_alpha\":{\"value\":0.1},\"line_color\":{\"value\":\"#1f77b4\"},\"x\":{\"field\":\"x\"},\"y\":{\"field\":\"y\"}},\"id\":\"f1ad1428-acd3-41c8-a4e2-b5454e7aa909\",\"type\":\"Circle\"},{\"attributes\":{\"source\":{\"id\":\"92cd2513-69fa-4cd6-aa3a-2887a1078f56\",\"type\":\"ColumnDataSource\"}},\"id\":\"cae35cb0-216b-442a-ab0c-cee68f2018ee\",\"type\":\"CDSView\"},{\"attributes\":{\"callback\":null,\"overlay\":{\"id\":\"111f2a5d-8d58-4950-9f89-80e133aef8d9\",\"type\":\"BoxAnnotation\"},\"renderers\":[{\"id\":\"6e3839af-2163-4947-aec8-2a52bef592b6\",\"type\":\"GlyphRenderer\"}]},\"id\":\"7b7edfc9-7570-43f4-8727-6c8a64000247\",\"type\":\"BoxSelectTool\"},{\"attributes\":{\"callback\":null,\"overlay\":{\"id\":\"35fa293e-ebb2-473e-8169-387d1e5b6294\",\"type\":\"PolyAnnotation\"}},\"id\":\"c0634e1d-3ecc-42c7-b305-3b4fef2d061b\",\"type\":\"LassoSelectTool\"},{\"attributes\":{\"fill_alpha\":{\"value\":0.5},\"fill_color\":{\"value\":\"lightgrey\"},\"level\":\"overlay\",\"line_alpha\":{\"value\":1.0},\"line_color\":{\"value\":\"black\"},\"line_dash\":[4,4],\"line_width\":{\"value\":2},\"plot\":null,\"xs_units\":\"screen\",\"ys_units\":\"screen\"},\"id\":\"2cef2e24-0713-4f51-8b22-31a7771fd225\",\"type\":\"PolyAnnotation\"},{\"attributes\":{},\"id\":\"d2d02716-610b-446c-a63a-05a04bf3815e\",\"type\":\"BasicTickFormatter\"},{\"attributes\":{},\"id\":\"dab75cd6-a47b-40cf-b8fc-cfb9e17dd2c5\",\"type\":\"BasicTicker\"},{\"attributes\":{},\"id\":\"d4941374-b674-4244-b078-be5831dbaa4a\",\"type\":\"BasicTickFormatter\"},{\"attributes\":{\"overlay\":{\"id\":\"7880a0c5-f6f7-4354-9ced-bcdf75dd9428\",\"type\":\"BoxAnnotation\"}},\"id\":\"92f18c5f-fe5d-4e2b-b3ff-f9ab9a1678a1\",\"type\":\"BoxZoomTool\"},{\"attributes\":{\"fill_alpha\":{\"value\":0.6},\"fill_color\":{\"value\":\"green\"},\"line_color\":{\"value\":null},\"x\":{\"field\":\"x\"},\"y\":{\"field\":\"y\"}},\"id\":\"6a630f30-9c46-448f-b7bd-62a101129180\",\"type\":\"Circle\"},{\"attributes\":{\"plot\":{\"id\":\"ee4afe18-3e01-468a-91df-26d2c727634a\",\"subtype\":\"Figure\",\"type\":\"Plot\"},\"ticker\":{\"id\":\"dab75cd6-a47b-40cf-b8fc-cfb9e17dd2c5\",\"type\":\"BasicTicker\"}},\"id\":\"dcfb2096-9d31-4c34-a889-38d8e8a89aae\",\"type\":\"Grid\"},{\"attributes\":{\"bottom_units\":\"screen\",\"fill_alpha\":{\"value\":0.5},\"fill_color\":{\"value\":\"lightgrey\"},\"left_units\":\"screen\",\"level\":\"overlay\",\"line_alpha\":{\"value\":1.0},\"line_color\":{\"value\":\"black\"},\"line_dash\":[4,4],\"line_width\":{\"value\":2},\"plot\":null,\"render_mode\":\"css\",\"right_units\":\"screen\",\"top_units\":\"screen\"},\"id\":\"7880a0c5-f6f7-4354-9ced-bcdf75dd9428\",\"type\":\"BoxAnnotation\"},{\"attributes\":{},\"id\":\"55bceede-d1d3-4f3b-ab01-57ecc734de9e\",\"type\":\"UndoTool\"},{\"attributes\":{},\"id\":\"d473aeac-171f-4191-8928-bcd30cabf028\",\"type\":\"CrosshairTool\"},{\"attributes\":{},\"id\":\"cf8e4c22-b437-401b-aeca-daf223c50912\",\"type\":\"LinearScale\"},{\"attributes\":{\"axis_label\":\"Likes Number\",\"formatter\":{\"id\":\"d4941374-b674-4244-b078-be5831dbaa4a\",\"type\":\"BasicTickFormatter\"},\"plot\":{\"id\":\"ee4afe18-3e01-468a-91df-26d2c727634a\",\"subtype\":\"Figure\",\"type\":\"Plot\"},\"ticker\":{\"id\":\"16d0c0a6-1e7f-49bb-84cf-083f8288de73\",\"type\":\"BasicTicker\"}},\"id\":\"face3d1a-5096-4f2a-9d39-47d39b38bc26\",\"type\":\"LinearAxis\"},{\"attributes\":{\"callback\":null,\"overlay\":{\"id\":\"2cef2e24-0713-4f51-8b22-31a7771fd225\",\"type\":\"PolyAnnotation\"}},\"id\":\"1098826c-64de-4b7e-b9e8-a9e53b4db664\",\"type\":\"PolySelectTool\"},{\"attributes\":{\"below\":[{\"id\":\"0480bbab-5e93-40b8-b5d7-d8078d0e46f2\",\"type\":\"LinearAxis\"}],\"left\":[{\"id\":\"face3d1a-5096-4f2a-9d39-47d39b38bc26\",\"type\":\"LinearAxis\"}],\"renderers\":[{\"id\":\"0480bbab-5e93-40b8-b5d7-d8078d0e46f2\",\"type\":\"LinearAxis\"},{\"id\":\"dcfb2096-9d31-4c34-a889-38d8e8a89aae\",\"type\":\"Grid\"},{\"id\":\"face3d1a-5096-4f2a-9d39-47d39b38bc26\",\"type\":\"LinearAxis\"},{\"id\":\"30d1a437-a8bd-4ca3-ae86-fe04e2194180\",\"type\":\"Grid\"},{\"id\":\"7880a0c5-f6f7-4354-9ced-bcdf75dd9428\",\"type\":\"BoxAnnotation\"},{\"id\":\"111f2a5d-8d58-4950-9f89-80e133aef8d9\",\"type\":\"BoxAnnotation\"},{\"id\":\"2cef2e24-0713-4f51-8b22-31a7771fd225\",\"type\":\"PolyAnnotation\"},{\"id\":\"35fa293e-ebb2-473e-8169-387d1e5b6294\",\"type\":\"PolyAnnotation\"},{\"id\":\"6e3839af-2163-4947-aec8-2a52bef592b6\",\"type\":\"GlyphRenderer\"}],\"title\":{\"id\":\"0476ab4e-8f31-4229-9015-f95d3237d09d\",\"type\":\"Title\"},\"toolbar\":{\"id\":\"d82524f3-8a49-41d3-8ad5-db5606b4facd\",\"type\":\"Toolbar\"},\"x_range\":{\"id\":\"29c2fe41-8352-498e-b991-cd321d64b89f\",\"type\":\"DataRange1d\"},\"x_scale\":{\"id\":\"d99caa38-2da7-4255-9036-0f03af980da1\",\"type\":\"LinearScale\"},\"y_range\":{\"id\":\"89f0edd3-634a-49be-b58b-4cbad3d8067d\",\"type\":\"DataRange1d\"},\"y_scale\":{\"id\":\"cf8e4c22-b437-401b-aeca-daf223c50912\",\"type\":\"LinearScale\"}},\"id\":\"ee4afe18-3e01-468a-91df-26d2c727634a\",\"subtype\":\"Figure\",\"type\":\"Plot\"},{\"attributes\":{\"callback\":null},\"id\":\"a932a40d-9dbb-40e4-8276-ba8b92085094\",\"type\":\"TapTool\"},{\"attributes\":{\"dimension\":1,\"plot\":{\"id\":\"ee4afe18-3e01-468a-91df-26d2c727634a\",\"subtype\":\"Figure\",\"type\":\"Plot\"},\"ticker\":{\"id\":\"16d0c0a6-1e7f-49bb-84cf-083f8288de73\",\"type\":\"BasicTicker\"}},\"id\":\"30d1a437-a8bd-4ca3-ae86-fe04e2194180\",\"type\":\"Grid\"},{\"attributes\":{\"plot\":null,\"text\":\"The Relations Between Likes and Score\"},\"id\":\"0476ab4e-8f31-4229-9015-f95d3237d09d\",\"type\":\"Title\"},{\"attributes\":{},\"id\":\"986be73d-55e4-4436-9813-14b7fe82855f\",\"type\":\"SaveTool\"},{\"attributes\":{},\"id\":\"16d0c0a6-1e7f-49bb-84cf-083f8288de73\",\"type\":\"BasicTicker\"},{\"attributes\":{\"callback\":null},\"id\":\"29c2fe41-8352-498e-b991-cd321d64b89f\",\"type\":\"DataRange1d\"},{\"attributes\":{},\"id\":\"5f792058-eeb8-43fb-a089-48b3c2821583\",\"type\":\"WheelZoomTool\"},{\"attributes\":{\"callback\":null},\"id\":\"89f0edd3-634a-49be-b58b-4cbad3d8067d\",\"type\":\"DataRange1d\"},{\"attributes\":{\"bottom_units\":\"screen\",\"fill_alpha\":{\"value\":0.5},\"fill_color\":{\"value\":\"lightgrey\"},\"left_units\":\"screen\",\"level\":\"overlay\",\"line_alpha\":{\"value\":1.0},\"line_color\":{\"value\":\"black\"},\"line_dash\":[4,4],\"line_width\":{\"value\":2},\"plot\":null,\"render_mode\":\"css\",\"right_units\":\"screen\",\"top_units\":\"screen\"},\"id\":\"111f2a5d-8d58-4950-9f89-80e133aef8d9\",\"type\":\"BoxAnnotation\"},{\"attributes\":{},\"id\":\"75a112c5-724c-4125-bab0-0b9f5846a52d\",\"type\":\"ZoomOutTool\"},{\"attributes\":{},\"id\":\"0ac1823f-bb8f-42e2-bb2b-e388fec3e44d\",\"type\":\"RedoTool\"},{\"attributes\":{},\"id\":\"f7285477-93e8-4510-b30f-554d410a8112\",\"type\":\"ResetTool\"}],\"root_ids\":[\"ee4afe18-3e01-468a-91df-26d2c727634a\"]},\"title\":\"Bokeh Application\",\"version\":\"0.12.14\"}};\n",
       "  var render_items = [{\"docid\":\"a7a696b5-009e-48bf-b42c-9bdc318b8c16\",\"elementid\":\"71882892-167a-487b-8705-ee7e18071f34\",\"modelid\":\"ee4afe18-3e01-468a-91df-26d2c727634a\",\"notebook_comms_target\":\"8cf1063b-1851-4f2d-9449-bc54d29f8252\"}];\n",
       "  root.Bokeh.embed.embed_items_notebook(docs_json, render_items);\n",
       "\n",
       "  }\n",
       "  if (root.Bokeh !== undefined) {\n",
       "    embed_document(root);\n",
       "  } else {\n",
       "    var attempts = 0;\n",
       "    var timer = setInterval(function(root) {\n",
       "      if (root.Bokeh !== undefined) {\n",
       "        embed_document(root);\n",
       "        clearInterval(timer);\n",
       "      }\n",
       "      attempts++;\n",
       "      if (attempts > 100) {\n",
       "        console.log(\"Bokeh: ERROR: Unable to run BokehJS code because BokehJS library is missing\")\n",
       "        clearInterval(timer);\n",
       "      }\n",
       "    }, 10, root)\n",
       "  }\n",
       "})(window);"
      ],
      "application/vnd.bokehjs_exec.v0+json": ""
     },
     "metadata": {
      "application/vnd.bokehjs_exec.v0+json": {
       "id": "ee4afe18-3e01-468a-91df-26d2c727634a"
      }
     },
     "output_type": "display_data"
    }
   ],
   "source": [
    "plot1 = figure(tools=TOOLS,\n",
    "               title=\"The Relations Between Likes and Score\", \n",
    "               x_axis_label='Score', y_axis_label='Likes Number')\n",
    "plot1.scatter(x = twitter.Score[twitter.Score <15] , y = twitter.Likes_number[twitter.Score <15],\n",
    "          fill_color='green', fill_alpha=0.6,\n",
    "          line_color=None)\n",
    "handle = show(plot1, notebook_handle=True)\n",
    "push_notebook(handle=handle)"
   ]
  },
  {
   "cell_type": "code",
   "execution_count": 243,
   "metadata": {},
   "outputs": [],
   "source": [
    "with_name = twitter[twitter.Likes_number < 50000].Likes_number[twitter.Name != 'None']\n",
    "without_name = twitter[twitter.Likes_number < 50000].Likes_number[twitter.Name == 'None']"
   ]
  },
  {
   "cell_type": "code",
   "execution_count": 244,
   "metadata": {},
   "outputs": [
    {
     "data": {
      "image/png": "[encoded data removed]",
      "text/plain": [
       "<matplotlib.figure.Figure at 0x10c69a0f0>"
      ]
     },
     "metadata": {},
     "output_type": "display_data"
    }
   ],
   "source": [
    "# import matplotlib\n",
    "import matplotlib.mlab as mlab\n",
    "import matplotlib.pyplot as plt\n",
    "# set all the parameters\n",
    "num_bins = len(without_name)\n",
    "mu1=without_name.mean()\n",
    "sigma1=without_name.std()\n",
    "mu2=with_name.mean()\n",
    "sigma2=with_name.std()\n",
    "# the histogram of the number of dogs without name\n",
    "n, bins, patches = plt.hist(without_name, num_bins, normed=1, facecolor='aqua', alpha=0.5)\n",
    "# add a curve\n",
    "y = mlab.normpdf(bins, mu1, sigma1)\n",
    "plt.plot(bins, y, 'b--')\n",
    "# the histogram of the number of dogs with name\n",
    "n, bins, patches = plt.hist(with_name, num_bins, normed=1, facecolor='coral', alpha=0.5)\n",
    "# add a curve\n",
    "y = mlab.normpdf(bins, mu2, sigma2)\n",
    "plt.plot(bins, y, 'r--')\n",
    "plt.xlabel('Number of Likes')\n",
    "plt.title(\"The impact of having a name\")\n",
    "plt.show()"
   ]
  },
  {
   "cell_type": "markdown",
   "metadata": {},
   "source": [
    "# Insights"
   ]
  },
  {
   "cell_type": "markdown",
   "metadata": {},
   "source": [
    "* The 'likes' number of the tweet is increasing dramatically over the time. From the visualization we can see that it is going up with the 'J' shape."
   ]
  },
  {
   "cell_type": "markdown",
   "metadata": {},
   "source": [
    "* The number of retweets is also growing, however, not as fast as the number of 'likes'. This is probably because more and more people start to click 'likes' without retweeting."
   ]
  },
  {
   "cell_type": "markdown",
   "metadata": {},
   "source": [
    "* Although we can see a little difference between the likes number of the named dogs and unnamed dogs, it is not significant at all. Thus probably giving your dog a name is not necessary to get more likes."
   ]
  },
  {
   "cell_type": "markdown",
   "metadata": {},
   "source": [
    "* The score and the number of likes have a possitive relation, which means the person who give the score has a similar tastes as his or her readers. However, it may also because the score has an impact on the readers."
   ]
  }
 ],
 "metadata": {
  "kernelspec": {
   "display_name": "Python 3",
   "language": "python",
   "name": "python3"
  },
  "language_info": {
   "codemirror_mode": {
    "name": "ipython",
    "version": 3
   },
   "file_extension": ".py",
   "mimetype": "text/x-python",
   "name": "python",
   "nbconvert_exporter": "python",
   "pygments_lexer": "ipython3",
   "version": "3.6.4"
  }
 },
 "nbformat": 4,
 "nbformat_minor": 2
}
